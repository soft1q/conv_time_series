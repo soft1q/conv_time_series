{
  "nbformat": 4,
  "nbformat_minor": 0,
  "metadata": {
    "accelerator": "GPU",
    "colab": {
      "name": "Main2.ipynb",
      "provenance": []
    },
    "kernelspec": {
      "display_name": "Python 3",
      "name": "python3"
    },
    "language_info": {
      "name": "python"
    }
  },
  "cells": [
    {
      "cell_type": "code",
      "metadata": {
        "colab": {
          "base_uri": "https://localhost:8080/"
        },
        "id": "lEvgusZZpoDM",
        "outputId": "c7763664-bb25-4d6a-8440-8379e45f5ebd"
      },
      "source": [
        "from google.colab import drive\n",
        "drive.mount(\"/content/gdrive/\")"
      ],
      "execution_count": null,
      "outputs": [
        {
          "output_type": "stream",
          "text": [
            "Mounted at /content/gdrive/\n"
          ],
          "name": "stdout"
        }
      ]
    },
    {
      "cell_type": "code",
      "metadata": {
        "id": "11WOPwrXI4WS"
      },
      "source": [
        "!pip install optuna"
      ],
      "execution_count": null,
      "outputs": []
    },
    {
      "cell_type": "code",
      "metadata": {
        "id": "_YmbSPw3pqoR"
      },
      "source": [
        "import numpy as np\n",
        "import pandas as pd\n",
        "\n",
        "from plotly.offline import init_notebook_mode\n",
        "from plotly.subplots import make_subplots\n",
        "import plotly.graph_objects as go\n",
        "\n",
        "import torch\n",
        "import torch.nn as nn\n",
        "import torch.nn.functional as F\n",
        "import torch.optim as optim\n",
        "import optuna\n",
        "\n",
        "from torch.utils.data import Dataset, DataLoader\n",
        "\n",
        "from sklearn.preprocessing import StandardScaler\n",
        "\n",
        "from itertools import chain"
      ],
      "execution_count": null,
      "outputs": []
    },
    {
      "cell_type": "markdown",
      "metadata": {
        "id": "vBT8nu9cpzw5"
      },
      "source": [
        "## Util functions"
      ]
    },
    {
      "cell_type": "code",
      "metadata": {
        "id": "DokCpVHipr9D"
      },
      "source": [
        "def plot_series(df, height=1200):\n",
        "    N = len(df)\n",
        "    fig = make_subplots(rows=N, cols=1, subplot_titles=df.index)\n",
        "\n",
        "    for i in range(N):\n",
        "        fig.add_trace(\n",
        "            go.Scatter(x=df.columns, y=df.values[i], line=dict(color=\"black\"), showlegend=False),\n",
        "            row=i+1, col=1\n",
        "        )\n",
        "\n",
        "    fig.update_layout(height=height)\n",
        "    fig.show()\n",
        "def train_test_split(df, horizon):\n",
        "    return df[df.columns[:-horizon]], df[df.columns[-horizon:]]\n",
        "class TimeSeriesDataset(Dataset):\n",
        "    def __init__(self, df, horizon=28, context_length=None):\n",
        "        self.segments = df.index\n",
        "        self.columns = df.columns\n",
        "        self.values = df.values\n",
        "        self.horizon = horizon\n",
        "        self.context = context_length\n",
        "        if self.context is None:\n",
        "            self.context = 3 * self.horizon\n",
        "\n",
        "        self.samples_in_series = (len(self.columns) - (horizon + self.context) + 1)\n",
        "        self.length = self.samples_in_series * len(self.segments)\n",
        "\n",
        "    def __len__(self):\n",
        "        return self.length\n",
        "\n",
        "    def __getitem__(self, idx):\n",
        "        row = idx // self.samples_in_series\n",
        "        col = idx % self.samples_in_series\n",
        "        return torch.from_numpy(self.values[row, col:col+self.context]), torch.from_numpy(self.values[row, col+self.context:col+self.context+self.horizon])"
      ],
      "execution_count": null,
      "outputs": []
    },
    {
      "cell_type": "code",
      "metadata": {
        "id": "CMBuNCJ6p2zG"
      },
      "source": [
        "def train_test_split(df, horizon):\n",
        "    return df[df.columns[:-horizon]], df[df.columns[-horizon:]]"
      ],
      "execution_count": null,
      "outputs": []
    },
    {
      "cell_type": "code",
      "metadata": {
        "id": "TQKWlHu4p4rf"
      },
      "source": [
        "class TimeSeriesDataset(Dataset):\n",
        "    def __init__(self, df, horizon=28, context_length=None):\n",
        "        self.segments = df.index\n",
        "        self.columns = df.columns\n",
        "        self.values = df.values\n",
        "        self.horizon = horizon\n",
        "        self.context = context_length\n",
        "        if self.context is None:\n",
        "            self.context = 3 * self.horizon\n",
        "\n",
        "        self.samples_in_series = (len(self.columns) - (horizon + self.context) + 1)\n",
        "        self.length = self.samples_in_series * len(self.segments)\n",
        "\n",
        "    def __len__(self):\n",
        "        return self.length\n",
        "\n",
        "    def __getitem__(self, idx):\n",
        "        row = idx // self.samples_in_series\n",
        "        col = idx % self.samples_in_series\n",
        "        return torch.from_numpy(self.values[row, col:col+self.context]), torch.from_numpy(self.values[row, col+self.context:col+self.context+self.horizon])"
      ],
      "execution_count": null,
      "outputs": []
    },
    {
      "cell_type": "code",
      "metadata": {
        "id": "N1_N88Ppqi4L"
      },
      "source": [
        "class Forecaster(nn.Module):\n",
        "    def smooth_series(self, X):\n",
        "        output = []\n",
        "        for degree in self.smooth_degrees:\n",
        "            smoothed = []\n",
        "            for i in range(self.context - degree + 1):\n",
        "                smoothed.append(X[:, i : i+degree].mean(dim=1).unsqueeze(0))\n",
        "            smoothed = torch.cat(smoothed, dim=0).T\n",
        "            output.append(smoothed)\n",
        "        return output\n",
        "\n",
        "    def downsample_series(self, X):\n",
        "        output = []\n",
        "        for rate in self.ds_rates:\n",
        "            output.append(X[:, ::rate])\n",
        "        return output\n",
        "\n",
        "    def __init__(\n",
        "        self, \n",
        "        context,\n",
        "        horizon,\n",
        "        smooth_degrees=[], \n",
        "        ds_rates=[], \n",
        "        kernels=64,\n",
        "        pooling=\"max\", \n",
        "        kernel_size=5,\n",
        "        pooling_factor=2\n",
        "    ):\n",
        "        super().__init__()\n",
        "        self.context = context\n",
        "        self.horizon = horizon\n",
        "        self.smooth_degrees = smooth_degrees\n",
        "        self.ds_rates = ds_rates\n",
        "        self.kernels = kernels\n",
        "        self.pooling_factor = pooling_factor\n",
        "        self.series_num = 1 + len(smooth_degrees) + len(ds_rates)\n",
        "\n",
        "        self.convs_1 = nn.ModuleList([\n",
        "            nn.Conv1d(1, kernels, kernel_size=kernel_size) for _ in range(self.series_num)\n",
        "        ])\n",
        "        self.pools = None\n",
        "        if pooling == \"max\":\n",
        "            self.pools = nn.ModuleList([\n",
        "                nn.AdaptiveMaxPool1d(pooling_factor) for _ in range(self.series_num)\n",
        "            ])\n",
        "        elif pooling == \"avg\":\n",
        "            self.pools = nn.ModuleList([\n",
        "                nn.AdaptiveAvgPool1d(pooling_factor) for _ in range(self.series_num)\n",
        "            ])\n",
        "\n",
        "        # scenario 1: (N, C * K, p)\n",
        "        self.conv_2 = nn.Conv1d(\n",
        "            in_channels=kernels * self.series_num,\n",
        "            out_channels=kernels,\n",
        "            kernel_size=pooling_factor\n",
        "        )\n",
        "\n",
        "        self.linear = nn.Linear(\n",
        "            in_features=kernels,\n",
        "            out_features=horizon\n",
        "        )\n",
        "\n",
        "    def forward(self, X):\n",
        "        smoothed = self.smooth_series(X)\n",
        "        downsample = self.downsample_series(X)\n",
        "\n",
        "        series = [X.unsqueeze(dim=1)]\n",
        "        for X_i in chain(smoothed, downsample):\n",
        "            series.append(X_i.unsqueeze(dim=1))\n",
        "        # series = list of (N, 1, L_i)\n",
        "        output = []\n",
        "        for conv, pool, X_i in zip(self.convs_1, self.pools, series):\n",
        "            output.append(pool(conv(X_i)))\n",
        "        \n",
        "        # scenario 1: (N, C * K, p)\n",
        "        output = torch.cat(output, dim=1)\n",
        "        output = self.conv_2(output).squeeze()\n",
        "        output = self.linear(output)\n",
        "        return output\n",
        "\n",
        "    def count_params(self):\n",
        "        model_parameters = filter(lambda p: p.requires_grad, self.parameters())\n",
        "        params = sum([np.prod(p.size()) for p in model_parameters])\n",
        "        return params\n",
        "\n"
      ],
      "execution_count": null,
      "outputs": []
    },
    {
      "cell_type": "code",
      "metadata": {
        "id": "GWH7ewZMGfkv"
      },
      "source": [
        "class LSTMForecaster(nn.Module):\n",
        "    def __init__(self, horizon, device, hidden=64):\n",
        "        super().__init__()\n",
        "        self.hidden = hidden\n",
        "        self.horizon = horizon\n",
        "        self.device = device\n",
        "\n",
        "        self.encoder = nn.LSTM(\n",
        "            input_size=1,\n",
        "            hidden_size=hidden,\n",
        "            batch_first=True\n",
        "        )\n",
        "\n",
        "        self.decoder = nn.LSTM(\n",
        "            input_size=1,\n",
        "            hidden_size=hidden,\n",
        "            batch_first=True\n",
        "        )\n",
        "\n",
        "        self.linear = nn.Linear(\n",
        "            in_features=self.hidden,\n",
        "            out_features=1\n",
        "        )\n",
        "\n",
        "    def forward(self, X):\n",
        "        h_0, c_0 = self.initial_states(X.size()[0])\n",
        "        _, (h_n, c_n) = self.encoder(X.unsqueeze(2), (h_0, c_0))\n",
        "        \n",
        "        inputs = X[:, -1].unsqueeze(1).unsqueeze(2) # taking last value\n",
        "\n",
        "        outputs = []\n",
        "        for i in range(self.horizon):\n",
        "            inputs, (h_n, c_n)  = self.decoder(inputs, (h_n, c_n))\n",
        "            outputs.append(self.linear(inputs.squeeze()))\n",
        "            inputs = outputs[i].unsqueeze(1)\n",
        "\n",
        "        return torch.cat(outputs, 1)\n",
        "\n",
        "\n",
        "    def initial_states(self, N):\n",
        "        h = torch.rand(1, N, self.hidden).to(self.device)\n",
        "        c = torch.rand(1, N, self.hidden).to(self.device)\n",
        "        return h, c\n",
        "\n",
        "    def count_params(self):\n",
        "        model_parameters = filter(lambda p: p.requires_grad, self.parameters())\n",
        "        params = sum([np.prod(p.size()) for p in model_parameters])\n",
        "        return params"
      ],
      "execution_count": null,
      "outputs": []
    },
    {
      "cell_type": "code",
      "metadata": {
        "id": "x-1QHbFsakmu"
      },
      "source": [
        "class ConvLSTM(nn.Module):\n",
        "    def smooth_series(self, X):\n",
        "        output = []\n",
        "        for degree in self.smooth_degrees:\n",
        "            smoothed = []\n",
        "            for i in range(self.context - degree + 1):\n",
        "                smoothed.append(X[:, i : i+degree].mean(dim=1).unsqueeze(0))\n",
        "            smoothed = torch.cat(smoothed, dim=0).T\n",
        "            output.append(smoothed)\n",
        "        return output\n",
        "\n",
        "    def downsample_series(self, X):\n",
        "        output = []\n",
        "        for rate in self.ds_rates:\n",
        "            output.append(X[:, ::rate])\n",
        "        return output\n",
        "\n",
        "    def __init__(\n",
        "        self, \n",
        "        context,\n",
        "        horizon,\n",
        "        smooth_degrees=[], \n",
        "        ds_rates=[], \n",
        "        kernels=64,\n",
        "        pooling=\"max\", \n",
        "        kernel_size=5,\n",
        "        pooling_factor=2,\n",
        "        lstm_hidden=64\n",
        "    ):\n",
        "        super().__init__()\n",
        "        self.context = context\n",
        "        self.horizon = horizon\n",
        "        self.smooth_degrees = smooth_degrees\n",
        "        self.ds_rates = ds_rates\n",
        "        self.kernels = kernels\n",
        "        self.pooling_factor = pooling_factor\n",
        "        self.series_num = 1 + len(smooth_degrees) + len(ds_rates)\n",
        "\n",
        "        self.convs_1 = nn.ModuleList([\n",
        "            nn.Conv1d(1, kernels, kernel_size=kernel_size) for _ in range(self.series_num)\n",
        "        ])\n",
        "        self.pools = None\n",
        "        if pooling == \"max\":\n",
        "            self.pools = nn.ModuleList([\n",
        "                nn.AdaptiveMaxPool1d(pooling_factor) for _ in range(self.series_num)\n",
        "            ])\n",
        "        elif pooling == \"avg\":\n",
        "            self.pools = nn.ModuleList([\n",
        "                nn.AdaptiveAvgPool1d(pooling_factor) for _ in range(self.series_num)\n",
        "            ])\n",
        "\n",
        "        # scenario 1: (N, C * K, p)\n",
        "        self.conv_2 = nn.Conv1d(\n",
        "            in_channels=kernels * self.series_num,\n",
        "            out_channels=kernels,\n",
        "            kernel_size=pooling_factor\n",
        "        )\n",
        "\n",
        "        self.decoder = nn.LSTM(\n",
        "            input_size=1,\n",
        "            hidden_size=lstm_hidden,\n",
        "            batch_first=True\n",
        "        )\n",
        "\n",
        "        self.hidden_linear = nn.Linear(\n",
        "            in_features=kernels,\n",
        "            out_features=lstm_hidden\n",
        "        )\n",
        "\n",
        "        self.cell_linear = nn.Linear(\n",
        "            in_features=kernels,\n",
        "            out_features=lstm_hidden\n",
        "        )\n",
        "\n",
        "        self.linear = nn.Linear(\n",
        "            in_features=lstm_hidden,\n",
        "            out_features=1\n",
        "        )\n",
        "\n",
        "    def forward(self, X):\n",
        "        smoothed = self.smooth_series(X)\n",
        "        downsample = self.downsample_series(X)\n",
        "\n",
        "        series = [X.unsqueeze(dim=1)]\n",
        "        for X_i in chain(smoothed, downsample):\n",
        "            series.append(X_i.unsqueeze(dim=1))\n",
        "        # series = list of (N, 1, L_i)\n",
        "        output = []\n",
        "        for conv, pool, X_i in zip(self.convs_1, self.pools, series):\n",
        "            output.append(pool(conv(X_i)))\n",
        "        \n",
        "        # scenario 1: (N, C * K, p)\n",
        "        output = torch.cat(output, dim=1)\n",
        "        output = self.conv_2(output).squeeze() # (N, kernels)\n",
        "\n",
        "        h_n, c_n = self.hidden_linear(output).unsqueeze(0), self.cell_linear(output).unsqueeze(0) # (1, N, hidden)\n",
        "        inputs = X[:, -1].unsqueeze(1).unsqueeze(2) # (N, L=1, H_in=1)\n",
        "\n",
        "        outputs = []\n",
        "        for i in range(self.horizon):\n",
        "            inputs, (h_n, c_n)  = self.decoder(inputs, (h_n, c_n))\n",
        "            outputs.append(self.linear(inputs.squeeze()))\n",
        "            inputs = outputs[i].unsqueeze(1)\n",
        "\n",
        "        return torch.cat(outputs, 1)\n",
        "\n",
        "    def count_params(self):\n",
        "        model_parameters = filter(lambda p: p.requires_grad, self.parameters())\n",
        "        params = sum([np.prod(p.size()) for p in model_parameters])\n",
        "        return params\n",
        "\n"
      ],
      "execution_count": null,
      "outputs": []
    },
    {
      "cell_type": "code",
      "metadata": {
        "id": "nQO9CCg_uDdo"
      },
      "source": [
        "def train(forecaster, loss_function, optimizer, trainloader, EPOCHS, device, scheduler=None, disp=False, df_test=None, df_train=None, context_length=0, scaler=None):\n",
        "    for epoch in range(EPOCHS):  # loop over the dataset multiple times\n",
        "\n",
        "        running_loss = 0.0\n",
        "        for i, data in enumerate(trainloader, 0):\n",
        "            context, actual = data\n",
        "            context = context.type(torch.FloatTensor).to(device)\n",
        "            actual = actual.type(torch.FloatTensor).to(device)\n",
        "\n",
        "            # zero the parameter gradients\n",
        "            optimizer.zero_grad()\n",
        "\n",
        "            # forward + backward + optimize\n",
        "            output = forecaster(context)\n",
        "            loss = loss_function(output, actual)\n",
        "            loss.backward()\n",
        "            optimizer.step()\n",
        "\n",
        "            # print statistics\n",
        "            running_loss += loss.item()\n",
        "            \n",
        "        if disp:\n",
        "            df_metrics = metrics(df_test, forecast(df_train, df_test, forecaster, context_length, device), scaler)\n",
        "            print(\"Epoch {}: Loss={}, test SMAPE={}\".format(epoch, running_loss / len(trainloader), df_metrics.mean()[\"SMAPE\"]))\n",
        "\n",
        "        if scheduler is not None:\n",
        "                scheduler.step(running_loss / len(trainloader))\n",
        "\n",
        "    print('Finished Training')"
      ],
      "execution_count": null,
      "outputs": []
    },
    {
      "cell_type": "code",
      "metadata": {
        "id": "NYQ8qjkokG7s"
      },
      "source": [
        "def forecast(train_df, test_df, model, context, device):\n",
        "    to_forecast = torch.from_numpy(train_df.values[:, -context:]).type(torch.FloatTensor).to(device)\n",
        "    forecast = model(to_forecast)\n",
        "    forecast = pd.DataFrame(\n",
        "        index=test_df.index,\n",
        "        columns=test_df.columns,\n",
        "        data=forecast.cpu().detach().numpy()\n",
        "    )\n",
        "    return forecast"
      ],
      "execution_count": null,
      "outputs": []
    },
    {
      "cell_type": "code",
      "metadata": {
        "id": "C8JqhVjTkJDP"
      },
      "source": [
        "def metrics(actual, forecast, scaler=None, eps=1e-5):\n",
        "    if scaler is None:\n",
        "        _actual = actual.values\n",
        "        _forecast = forecast.values\n",
        "    else:\n",
        "        _actual = scaler.inverse_transform(actual.values.T.astype(\"float64\")).T\n",
        "        _forecast = scaler.inverse_transform(forecast.values.T.astype(\"float64\")).T\n",
        "    diff = (_actual - _forecast)\n",
        "    smape = np.mean(2 * np.abs(diff) / (np.abs(_actual) + np.abs(_forecast) + eps), axis=1)\n",
        "    rmse = np.sqrt(np.mean(diff**2, axis=1))\n",
        "    res = pd.DataFrame(index=actual.index)\n",
        "    res[\"SMAPE\"] = smape\n",
        "    res[\"RMSE\"] = rmse\n",
        "    return res"
      ],
      "execution_count": null,
      "outputs": []
    },
    {
      "cell_type": "markdown",
      "metadata": {
        "id": "GsmwDaAAudff"
      },
      "source": [
        "## Reading data"
      ]
    },
    {
      "cell_type": "code",
      "metadata": {
        "id": "7fmo3Uzap6fB"
      },
      "source": [
        "prefix = \"gdrive/MyDrive/diploma/data/\"\n",
        "\n",
        "chlorcon = pd.concat([\n",
        "    pd.read_csv(prefix + \"ChlorineConcentration/ChlorineConcentration_TRAIN.tsv\", sep=\"\\t\", header=None),\n",
        "    pd.read_csv(prefix + \"ChlorineConcentration/ChlorineConcentration_TEST.tsv\", sep=\"\\t\", header=None)\n",
        "]).reset_index(drop=True).drop(columns=0)\n",
        "\n",
        "power_italy = pd.concat([\n",
        "    pd.read_csv(prefix + \"ItalyPowerDemand/ItalyPowerDemand_TRAIN.tsv\", sep=\"\\t\", header=None),\n",
        "    pd.read_csv(prefix + \"ItalyPowerDemand/ItalyPowerDemand_TEST.tsv\", sep=\"\\t\", header=None)\n",
        "]).reset_index(drop=True).drop(columns=0)\n",
        "\n",
        "power_italy_train, power_italy_test = train_test_split(power_italy, 6)\n",
        "power_italy_train = TimeSeriesDataset(power_italy_train, horizon=6, context_length=6 * 2)\n",
        "power_italy_trainloader = torch.utils.data.DataLoader(power_italy_train, batch_size=256,\n",
        "                                          shuffle=True, num_workers=2)\n",
        "\n",
        "chlorcon_train, chlorcon_test = train_test_split(chlorcon, 28)\n",
        "chlorcon_train = TimeSeriesDataset(chlorcon_train, horizon=28, context_length=28 * 3)\n",
        "chlorcon_trainloader = torch.utils.data.DataLoader(chlorcon_train, batch_size=256,\n",
        "                                          shuffle=True, num_workers=2)"
      ],
      "execution_count": null,
      "outputs": []
    },
    {
      "cell_type": "code",
      "metadata": {
        "id": "00pnxcC2Pprv"
      },
      "source": [
        "prefix = \"gdrive/MyDrive/diploma/data/\"\n",
        "m4_hourly = pd.read_csv(prefix + \"m4/Hourly.csv\").set_index(\"V1\")\n",
        "\n",
        "m4_hourly_train, m4_hourly_test = train_test_split(m4_hourly, 48)\n",
        "m4_hourly_train_dataset = TimeSeriesDataset(m4_hourly_train, horizon=48, context_length=48 * 3)\n",
        "trainloader = torch.utils.data.DataLoader(m4_hourly_train_dataset, batch_size=256,\n",
        "                                          shuffle=True, num_workers=2)"
      ],
      "execution_count": null,
      "outputs": []
    },
    {
      "cell_type": "code",
      "metadata": {
        "colab": {
          "base_uri": "https://localhost:8080/"
        },
        "id": "Nf7va66HrSdA",
        "outputId": "2a96b9aa-cc11-49e2-8c80-f733823d83b1"
      },
      "source": [
        "prefix = \"gdrive/MyDrive/diploma/data/\"\n",
        "calls = pd.read_csv(prefix + \"tinkoff/calls.csv\").pivot_table(values=\"cnt\", index=\"direction\", columns=\"date\")#.iloc[:, :-1]\n",
        "\n",
        "calls_train, calls_test = train_test_split(calls, 28)\n",
        "calls_train_dataset = TimeSeriesDataset(calls_train, horizon=28, context_length=28 * 3)\n",
        "trainloader = torch.utils.data.DataLoader(calls_train_dataset, batch_size=256,\n",
        "                                          shuffle=True, num_workers=2)\n",
        "len(calls_train_dataset)"
      ],
      "execution_count": null,
      "outputs": [
        {
          "output_type": "execute_result",
          "data": {
            "text/plain": [
              "2584"
            ]
          },
          "metadata": {
            "tags": []
          },
          "execution_count": 15
        }
      ]
    },
    {
      "cell_type": "markdown",
      "metadata": {
        "id": "9cjOu2ykukFY"
      },
      "source": [
        "## MCNN Model [Tinkoff Series]"
      ]
    },
    {
      "cell_type": "code",
      "metadata": {
        "id": "c9QkfiR5k4h5"
      },
      "source": [
        "EPOCHS = 300\n",
        "device = torch.device(\"cuda\")\n",
        "\n",
        "forecaster = Forecaster(\n",
        "    context=28 * 3,\n",
        "    horizon=28,\n",
        "    smooth_degrees=[3, 17, 28],\n",
        "    ds_rates=[3, 7, 10],\n",
        "    kernels=112,\n",
        "    kernel_size=5,\n",
        "    pooling=\"avg\",\n",
        "    pooling_factor=4\n",
        ").to(device)\n",
        "optimizer = optim.Adam(forecaster.parameters())\n",
        "loss_function = nn.MSELoss()\n",
        "scheduler = optim.lr_scheduler.ReduceLROnPlateau(optimizer, patience=5, threshold=1e-4)\n",
        "\n",
        "\n",
        "train(\n",
        "    forecaster, \n",
        "    loss_function, \n",
        "    optimizer, \n",
        "    trainloader, \n",
        "    EPOCHS=EPOCHS, \n",
        "    device=device, \n",
        "    disp=True, \n",
        "    scheduler=scheduler, \n",
        "    df_test=calls_test, \n",
        "    df_train=calls_train,\n",
        "    context_length=28 * 3\n",
        ")"
      ],
      "execution_count": null,
      "outputs": []
    },
    {
      "cell_type": "code",
      "metadata": {
        "colab": {
          "base_uri": "https://localhost:8080/"
        },
        "id": "X2-t5BtmmGcS",
        "outputId": "2fe0ce14-37eb-45f6-8506-9bffff3981d6"
      },
      "source": [
        "calls_forecast = forecast(calls_train, calls_test, forecaster, 28 * 3, device)\n",
        "calls_metrics = metrics(calls_test, calls_forecast)\n",
        "calls_metrics.mean()"
      ],
      "execution_count": null,
      "outputs": [
        {
          "output_type": "execute_result",
          "data": {
            "text/plain": [
              "SMAPE       0.085518\n",
              "RMSE     1398.638010\n",
              "dtype: float64"
            ]
          },
          "metadata": {
            "tags": []
          },
          "execution_count": 20
        }
      ]
    },
    {
      "cell_type": "code",
      "metadata": {
        "id": "Jt3RYxtYnbB-"
      },
      "source": [
        "study = optuna.create_study(direction='minimize')\n",
        "study.optimize(objective, n_trials=100)"
      ],
      "execution_count": null,
      "outputs": []
    },
    {
      "cell_type": "code",
      "metadata": {
        "colab": {
          "base_uri": "https://localhost:8080/"
        },
        "id": "870DnQ0PM-8A",
        "outputId": "684d0419-e59a-4902-b5de-d005eec8a592"
      },
      "source": [
        "study.best_params"
      ],
      "execution_count": null,
      "outputs": [
        {
          "output_type": "execute_result",
          "data": {
            "text/plain": [
              "{'kernel_size': 5, 'kernels': 112, 'pooling': 'avg', 'pooling_factor': 4}"
            ]
          },
          "metadata": {
            "tags": []
          },
          "execution_count": 39
        }
      ]
    },
    {
      "cell_type": "markdown",
      "metadata": {
        "id": "b2g0kaWBurnb"
      },
      "source": [
        "## M4 Hourly Series"
      ]
    },
    {
      "cell_type": "code",
      "metadata": {
        "id": "Z1vsmPF1AOFT"
      },
      "source": [
        "scaler = StandardScaler()"
      ],
      "execution_count": null,
      "outputs": []
    },
    {
      "cell_type": "code",
      "metadata": {
        "id": "WIx4lGwRXr7r"
      },
      "source": [
        "m4_scaled = scaler.fit_transform(m4_hourly.T)\n",
        "m4_scaled = pd.DataFrame(\n",
        "    index=m4_hourly.index,\n",
        "    columns=m4_hourly.columns,\n",
        "    data=m4_scaled.T\n",
        ")"
      ],
      "execution_count": null,
      "outputs": []
    },
    {
      "cell_type": "code",
      "metadata": {
        "id": "E-lFWsv8F9vb"
      },
      "source": [
        "m4_hourly_train, m4_hourly_test = train_test_split(m4_scaled, 48)\n",
        "\n",
        "m4_hourly_train_dataset = TimeSeriesDataset(m4_hourly_train, horizon=48, context_length=48 * 3)\n",
        "trainloader = torch.utils.data.DataLoader(m4_hourly_train_dataset, batch_size=256,\n",
        "                                          shuffle=True, num_workers=2)"
      ],
      "execution_count": null,
      "outputs": []
    },
    {
      "cell_type": "markdown",
      "metadata": {
        "id": "21gXmlRBu0cO"
      },
      "source": [
        "### LSTM2LSTM model"
      ]
    },
    {
      "cell_type": "code",
      "metadata": {
        "id": "9dinCnKqRc1S"
      },
      "source": [
        "%%time\n",
        "\n",
        "EPOCHS = 100\n",
        "device = torch.device(\"cuda\")\n",
        "\n",
        "forecaster = LSTMForecaster(\n",
        "    horizon=48,\n",
        "    hidden=64,\n",
        "    device=device\n",
        ").to(device)\n",
        "optimizer = optim.Adam(forecaster.parameters())\n",
        "loss_function = nn.MSELoss()\n",
        "scheduler = optim.lr_scheduler.ReduceLROnPlateau(optimizer, patience=5, threshold=1e-4)\n",
        "\n",
        "\n",
        "train(\n",
        "    forecaster, \n",
        "    loss_function, \n",
        "    optimizer, \n",
        "    trainloader, \n",
        "    EPOCHS=EPOCHS, \n",
        "    device=device, \n",
        "    disp=True, \n",
        "    scheduler=scheduler, \n",
        "    df_test=m4_hourly_test, \n",
        "    df_train=m4_hourly_train,\n",
        "    context_length=48 * 3,\n",
        "    scaler=scaler\n",
        ")"
      ],
      "execution_count": null,
      "outputs": []
    },
    {
      "cell_type": "code",
      "metadata": {
        "id": "wwn7axVmaRhg",
        "colab": {
          "base_uri": "https://localhost:8080/"
        },
        "outputId": "0decbd42-6b6e-4554-9eb3-3de02b709647"
      },
      "source": [
        "m4_forecast = forecast(m4_hourly_train, m4_hourly_test, forecaster, 48 * 3, device)\n",
        "m4_metrics = metrics(m4_hourly_test, m4_forecast, scaler=scaler)\n",
        "m4_metrics.mean()"
      ],
      "execution_count": null,
      "outputs": [
        {
          "output_type": "execute_result",
          "data": {
            "text/plain": [
              "SMAPE      0.127529\n",
              "RMSE     416.536122\n",
              "dtype: float64"
            ]
          },
          "metadata": {
            "tags": []
          },
          "execution_count": 23
        }
      ]
    },
    {
      "cell_type": "markdown",
      "metadata": {
        "id": "2XH1JnT3u-bm"
      },
      "source": [
        "### MCNN Model"
      ]
    },
    {
      "cell_type": "code",
      "metadata": {
        "id": "ZeuGAG37IaFp"
      },
      "source": [
        "def objective(trial):\n",
        "    device = torch.device(\"cuda\")\n",
        "\n",
        "    kernels = trial.suggest_int('kernels', 16, 128)\n",
        "    lstm_hidden = trial.suggest_int('lstm_hidden', 16, 128)\n",
        "    kernel_size = trial.suggest_int('kernel_size', 3, 8)\n",
        "    pooling_factor = trial.suggest_int('pooling_factor', 2, 5)\n",
        "    pooling = trial.suggest_categorical(\"pooling\", [\"avg\", \"max\"])\n",
        "\n",
        "    forecaster = ConvLSTM(\n",
        "        context=48 * 3,\n",
        "        horizon=48,\n",
        "        smooth_degrees=[3, 24, 48],\n",
        "        ds_rates=[3, 7, 10],\n",
        "        kernels=kernels,\n",
        "        kernel_size=kernel_size,\n",
        "        pooling=pooling,\n",
        "        pooling_factor=pooling_factor,\n",
        "        lstm_hidden=lstm_hidden\n",
        "    ).to(device)\n",
        "    optimizer = optim.Adam(forecaster.parameters())\n",
        "    loss_function = nn.MSELoss()\n",
        "    scheduler = optim.lr_scheduler.ReduceLROnPlateau(optimizer, patience=5, threshold=1e-4)\n",
        "    train(forecaster, loss_function, optimizer, trainloader, EPOCHS=5, device=device, disp=False, scheduler=scheduler, scaler=scaler)\n",
        "\n",
        "    df_forecast = forecast(m4_hourly_train, m4_hourly_test, forecaster, 48 * 3, device)\n",
        "    df_metrics = metrics(m4_hourly_test, df_forecast, scaler=scaler)\n",
        "    loss = df_metrics.mean()[\"SMAPE\"]\n",
        "\n",
        "    return loss"
      ],
      "execution_count": null,
      "outputs": []
    },
    {
      "cell_type": "code",
      "metadata": {
        "colab": {
          "base_uri": "https://localhost:8080/"
        },
        "id": "qqsmGXBpGT6U",
        "outputId": "ce23a4fb-b167-4627-9693-a729a752b727"
      },
      "source": [
        "study = optuna.create_study(direction='minimize')\n",
        "study.optimize(objective, n_trials=20)"
      ],
      "execution_count": null,
      "outputs": [
        {
          "output_type": "stream",
          "text": [
            "\u001b[32m[I 2021-06-27 13:14:01,053]\u001b[0m A new study created in memory with name: no-name-dad0e478-6f0c-4d14-a4ee-6a9e6dcf652c\u001b[0m\n",
            "\u001b[32m[I 2021-06-27 13:14:52,764]\u001b[0m Trial 0 finished with value: 0.27006428881683225 and parameters: {'kernels': 112, 'kernel_size': 3, 'pooling_factor': 3, 'pooling': 'max'}. Best is trial 0 with value: 0.27006428881683225.\u001b[0m\n"
          ],
          "name": "stderr"
        },
        {
          "output_type": "stream",
          "text": [
            "Finished Training\n"
          ],
          "name": "stdout"
        },
        {
          "output_type": "stream",
          "text": [
            "\u001b[32m[I 2021-06-27 13:15:43,523]\u001b[0m Trial 1 finished with value: 0.16922073108562938 and parameters: {'kernels': 80, 'kernel_size': 4, 'pooling_factor': 3, 'pooling': 'avg'}. Best is trial 1 with value: 0.16922073108562938.\u001b[0m\n"
          ],
          "name": "stderr"
        },
        {
          "output_type": "stream",
          "text": [
            "Finished Training\n"
          ],
          "name": "stdout"
        },
        {
          "output_type": "stream",
          "text": [
            "\u001b[32m[I 2021-06-27 13:16:33,131]\u001b[0m Trial 2 finished with value: 0.17576050505038376 and parameters: {'kernels': 37, 'kernel_size': 5, 'pooling_factor': 5, 'pooling': 'max'}. Best is trial 1 with value: 0.16922073108562938.\u001b[0m\n"
          ],
          "name": "stderr"
        },
        {
          "output_type": "stream",
          "text": [
            "Finished Training\n"
          ],
          "name": "stdout"
        },
        {
          "output_type": "stream",
          "text": [
            "\u001b[32m[I 2021-06-27 13:17:26,732]\u001b[0m Trial 3 finished with value: 0.1906954540874157 and parameters: {'kernels': 127, 'kernel_size': 3, 'pooling_factor': 4, 'pooling': 'max'}. Best is trial 1 with value: 0.16922073108562938.\u001b[0m\n"
          ],
          "name": "stderr"
        },
        {
          "output_type": "stream",
          "text": [
            "Finished Training\n"
          ],
          "name": "stdout"
        },
        {
          "output_type": "stream",
          "text": [
            "\u001b[32m[I 2021-06-27 13:18:16,623]\u001b[0m Trial 4 finished with value: 0.18203243154391915 and parameters: {'kernels': 66, 'kernel_size': 7, 'pooling_factor': 5, 'pooling': 'max'}. Best is trial 1 with value: 0.16922073108562938.\u001b[0m\n"
          ],
          "name": "stderr"
        },
        {
          "output_type": "stream",
          "text": [
            "Finished Training\n"
          ],
          "name": "stdout"
        },
        {
          "output_type": "stream",
          "text": [
            "\u001b[32m[I 2021-06-27 13:19:06,373]\u001b[0m Trial 5 finished with value: 0.1783547924431816 and parameters: {'kernels': 80, 'kernel_size': 8, 'pooling_factor': 3, 'pooling': 'max'}. Best is trial 1 with value: 0.16922073108562938.\u001b[0m\n"
          ],
          "name": "stderr"
        },
        {
          "output_type": "stream",
          "text": [
            "Finished Training\n"
          ],
          "name": "stdout"
        },
        {
          "output_type": "stream",
          "text": [
            "\u001b[32m[I 2021-06-27 13:19:55,204]\u001b[0m Trial 6 finished with value: 0.16692644923518346 and parameters: {'kernels': 43, 'kernel_size': 3, 'pooling_factor': 4, 'pooling': 'avg'}. Best is trial 6 with value: 0.16692644923518346.\u001b[0m\n"
          ],
          "name": "stderr"
        },
        {
          "output_type": "stream",
          "text": [
            "Finished Training\n"
          ],
          "name": "stdout"
        },
        {
          "output_type": "stream",
          "text": [
            "\u001b[32m[I 2021-06-27 13:20:44,186]\u001b[0m Trial 7 finished with value: 0.15628165214047665 and parameters: {'kernels': 30, 'kernel_size': 8, 'pooling_factor': 3, 'pooling': 'avg'}. Best is trial 7 with value: 0.15628165214047665.\u001b[0m\n"
          ],
          "name": "stderr"
        },
        {
          "output_type": "stream",
          "text": [
            "Finished Training\n"
          ],
          "name": "stdout"
        },
        {
          "output_type": "stream",
          "text": [
            "\u001b[32m[I 2021-06-27 13:21:34,265]\u001b[0m Trial 8 finished with value: 0.16418970089732057 and parameters: {'kernels': 64, 'kernel_size': 4, 'pooling_factor': 2, 'pooling': 'avg'}. Best is trial 7 with value: 0.15628165214047665.\u001b[0m\n"
          ],
          "name": "stderr"
        },
        {
          "output_type": "stream",
          "text": [
            "Finished Training\n"
          ],
          "name": "stdout"
        },
        {
          "output_type": "stream",
          "text": [
            "\u001b[32m[I 2021-06-27 13:22:23,709]\u001b[0m Trial 9 finished with value: 0.15140646666398905 and parameters: {'kernels': 59, 'kernel_size': 7, 'pooling_factor': 3, 'pooling': 'avg'}. Best is trial 9 with value: 0.15140646666398905.\u001b[0m\n"
          ],
          "name": "stderr"
        },
        {
          "output_type": "stream",
          "text": [
            "Finished Training\n"
          ],
          "name": "stdout"
        },
        {
          "output_type": "stream",
          "text": [
            "\u001b[32m[I 2021-06-27 13:23:13,578]\u001b[0m Trial 10 finished with value: 0.1573097899733939 and parameters: {'kernels': 97, 'kernel_size': 6, 'pooling_factor': 2, 'pooling': 'avg'}. Best is trial 9 with value: 0.15140646666398905.\u001b[0m\n"
          ],
          "name": "stderr"
        },
        {
          "output_type": "stream",
          "text": [
            "Finished Training\n"
          ],
          "name": "stdout"
        },
        {
          "output_type": "stream",
          "text": [
            "\u001b[32m[I 2021-06-27 13:24:02,974]\u001b[0m Trial 11 finished with value: 0.15725062178492363 and parameters: {'kernels': 16, 'kernel_size': 8, 'pooling_factor': 3, 'pooling': 'avg'}. Best is trial 9 with value: 0.15140646666398905.\u001b[0m\n"
          ],
          "name": "stderr"
        },
        {
          "output_type": "stream",
          "text": [
            "Finished Training\n"
          ],
          "name": "stdout"
        },
        {
          "output_type": "stream",
          "text": [
            "\u001b[32m[I 2021-06-27 13:24:51,869]\u001b[0m Trial 12 finished with value: 0.16214704567460078 and parameters: {'kernels': 17, 'kernel_size': 7, 'pooling_factor': 2, 'pooling': 'avg'}. Best is trial 9 with value: 0.15140646666398905.\u001b[0m\n"
          ],
          "name": "stderr"
        },
        {
          "output_type": "stream",
          "text": [
            "Finished Training\n"
          ],
          "name": "stdout"
        },
        {
          "output_type": "stream",
          "text": [
            "\u001b[32m[I 2021-06-27 13:25:40,773]\u001b[0m Trial 13 finished with value: 0.15399952483819204 and parameters: {'kernels': 42, 'kernel_size': 7, 'pooling_factor': 4, 'pooling': 'avg'}. Best is trial 9 with value: 0.15140646666398905.\u001b[0m\n"
          ],
          "name": "stderr"
        },
        {
          "output_type": "stream",
          "text": [
            "Finished Training\n"
          ],
          "name": "stdout"
        },
        {
          "output_type": "stream",
          "text": [
            "\u001b[32m[I 2021-06-27 13:26:29,525]\u001b[0m Trial 14 finished with value: 0.15877094833610683 and parameters: {'kernels': 52, 'kernel_size': 7, 'pooling_factor': 4, 'pooling': 'avg'}. Best is trial 9 with value: 0.15140646666398905.\u001b[0m\n"
          ],
          "name": "stderr"
        },
        {
          "output_type": "stream",
          "text": [
            "Finished Training\n"
          ],
          "name": "stdout"
        },
        {
          "output_type": "stream",
          "text": [
            "\u001b[32m[I 2021-06-27 13:27:18,320]\u001b[0m Trial 15 finished with value: 0.15754484399633692 and parameters: {'kernels': 53, 'kernel_size': 6, 'pooling_factor': 4, 'pooling': 'avg'}. Best is trial 9 with value: 0.15140646666398905.\u001b[0m\n"
          ],
          "name": "stderr"
        },
        {
          "output_type": "stream",
          "text": [
            "Finished Training\n"
          ],
          "name": "stdout"
        },
        {
          "output_type": "stream",
          "text": [
            "\u001b[32m[I 2021-06-27 13:28:07,303]\u001b[0m Trial 16 finished with value: 0.1504555265369969 and parameters: {'kernels': 29, 'kernel_size': 7, 'pooling_factor': 5, 'pooling': 'avg'}. Best is trial 16 with value: 0.1504555265369969.\u001b[0m\n"
          ],
          "name": "stderr"
        },
        {
          "output_type": "stream",
          "text": [
            "Finished Training\n"
          ],
          "name": "stdout"
        },
        {
          "output_type": "stream",
          "text": [
            "\u001b[32m[I 2021-06-27 13:28:56,312]\u001b[0m Trial 17 finished with value: 0.1547018123029299 and parameters: {'kernels': 23, 'kernel_size': 6, 'pooling_factor': 5, 'pooling': 'avg'}. Best is trial 16 with value: 0.1504555265369969.\u001b[0m\n"
          ],
          "name": "stderr"
        },
        {
          "output_type": "stream",
          "text": [
            "Finished Training\n"
          ],
          "name": "stdout"
        },
        {
          "output_type": "stream",
          "text": [
            "\u001b[32m[I 2021-06-27 13:29:47,239]\u001b[0m Trial 18 finished with value: 0.1550106286094574 and parameters: {'kernels': 91, 'kernel_size': 5, 'pooling_factor': 5, 'pooling': 'avg'}. Best is trial 16 with value: 0.1504555265369969.\u001b[0m\n"
          ],
          "name": "stderr"
        },
        {
          "output_type": "stream",
          "text": [
            "Finished Training\n"
          ],
          "name": "stdout"
        },
        {
          "output_type": "stream",
          "text": [
            "\u001b[32m[I 2021-06-27 13:30:36,233]\u001b[0m Trial 19 finished with value: 0.16236745604186711 and parameters: {'kernels': 55, 'kernel_size': 7, 'pooling_factor': 2, 'pooling': 'avg'}. Best is trial 16 with value: 0.1504555265369969.\u001b[0m\n"
          ],
          "name": "stderr"
        },
        {
          "output_type": "stream",
          "text": [
            "Finished Training\n"
          ],
          "name": "stdout"
        }
      ]
    },
    {
      "cell_type": "code",
      "metadata": {
        "colab": {
          "base_uri": "https://localhost:8080/"
        },
        "id": "tOHCuVlcKWVG",
        "outputId": "02780981-4697-4ec1-c141-910a42793bcc"
      },
      "source": [
        "study.best_params"
      ],
      "execution_count": null,
      "outputs": [
        {
          "output_type": "execute_result",
          "data": {
            "text/plain": [
              "{'kernel_size': 7, 'kernels': 29, 'pooling': 'avg', 'pooling_factor': 5}"
            ]
          },
          "metadata": {
            "tags": []
          },
          "execution_count": 24
        }
      ]
    },
    {
      "cell_type": "code",
      "metadata": {
        "colab": {
          "base_uri": "https://localhost:8080/"
        },
        "id": "-Jcv1WvFZK0V",
        "outputId": "c681cc0b-0047-49c5-9bf6-7f436859da86"
      },
      "source": [
        "%%time\n",
        "\n",
        "EPOCHS = 100\n",
        "device = torch.device(\"cuda\")\n",
        "\n",
        "forecaster = ConvLSTM(\n",
        "    context=48 * 3,\n",
        "    horizon=48,\n",
        "    smooth_degrees=[3, 17, 28],\n",
        "    ds_rates=[3, 7, 10],\n",
        "    kernels=29,\n",
        "    kernel_size=7,\n",
        "    pooling=\"avg\",\n",
        "    pooling_factor=5,\n",
        "    lstm_hidden=90\n",
        ").to(device)\n",
        "optimizer = optim.Adam(forecaster.parameters())\n",
        "loss_function = nn.MSELoss()\n",
        "scheduler = optim.lr_scheduler.ReduceLROnPlateau(optimizer, patience=5, threshold=1e-4)\n",
        "\n",
        "\n",
        "train(\n",
        "    forecaster, \n",
        "    loss_function, \n",
        "    optimizer, \n",
        "    trainloader, \n",
        "    EPOCHS=EPOCHS, \n",
        "    device=device, \n",
        "    disp=True, \n",
        "    scheduler=scheduler, \n",
        "    df_test=m4_hourly_test, \n",
        "    df_train=m4_hourly_train,\n",
        "    context_length=48 * 3,\n",
        "    scaler=scaler\n",
        ")"
      ],
      "execution_count": null,
      "outputs": [
        {
          "output_type": "stream",
          "text": [
            "Epoch 0: Loss=0.2373691923120647, test SMAPE=0.16286330920053874\n",
            "Epoch 1: Loss=0.2023188362024652, test SMAPE=0.16421410659543476\n",
            "Epoch 2: Loss=0.19771029606678533, test SMAPE=0.1522938599186389\n",
            "Epoch 3: Loss=0.19511325310156183, test SMAPE=0.15860138169696908\n",
            "Epoch 4: Loss=0.1933130639089832, test SMAPE=0.14940194422738332\n",
            "Epoch 5: Loss=0.19238744544100414, test SMAPE=0.14857423199663386\n",
            "Epoch 6: Loss=0.19142829811254752, test SMAPE=0.15319487312069463\n",
            "Epoch 7: Loss=0.19084674128991308, test SMAPE=0.14832857984540557\n",
            "Epoch 8: Loss=0.19044775991402205, test SMAPE=0.14611871143771707\n",
            "Epoch 9: Loss=0.1900770475780501, test SMAPE=0.1498879355441721\n",
            "Epoch 10: Loss=0.18966405484282856, test SMAPE=0.15001598273364963\n",
            "Epoch 11: Loss=0.1892650539543733, test SMAPE=0.1474763123922478\n",
            "Epoch 12: Loss=0.18917466081606532, test SMAPE=0.14982631515280767\n",
            "Epoch 13: Loss=0.18897164947561268, test SMAPE=0.14978381820855668\n",
            "Epoch 14: Loss=0.18882472599739009, test SMAPE=0.14528458441473405\n",
            "Epoch 15: Loss=0.18861124360734977, test SMAPE=0.14707534515681037\n",
            "Epoch 16: Loss=0.18849732562248567, test SMAPE=0.1490765704205048\n",
            "Epoch 17: Loss=0.1883233619618763, test SMAPE=0.14487900688468536\n",
            "Epoch 18: Loss=0.18823205947297292, test SMAPE=0.14752051646457978\n",
            "Epoch 19: Loss=0.18816879055309063, test SMAPE=0.14924535934554176\n",
            "Epoch 20: Loss=0.18790520966342353, test SMAPE=0.1474742324557007\n",
            "Epoch 21: Loss=0.18781868115212152, test SMAPE=0.14804333204267808\n",
            "Epoch 22: Loss=0.1876984623812356, test SMAPE=0.15048015888602967\n",
            "Epoch 23: Loss=0.18779618029021522, test SMAPE=0.1470132627248819\n",
            "Epoch 24: Loss=0.18767638627475905, test SMAPE=0.145780336404642\n",
            "Epoch 25: Loss=0.18748094891966546, test SMAPE=0.14800941121955455\n",
            "Epoch 26: Loss=0.18739358028306544, test SMAPE=0.1507487371063404\n",
            "Epoch 27: Loss=0.18746611975061084, test SMAPE=0.14782139961458296\n",
            "Epoch 28: Loss=0.18729574068729737, test SMAPE=0.14610525111768338\n",
            "Epoch 29: Loss=0.187200292709817, test SMAPE=0.14753871639617014\n",
            "Epoch 30: Loss=0.1870508682145511, test SMAPE=0.14743703292464783\n",
            "Epoch 31: Loss=0.18722321970153202, test SMAPE=0.1490018608326375\n",
            "Epoch 32: Loss=0.1870549594061178, test SMAPE=0.146749771346561\n",
            "Epoch 33: Loss=0.18699543416789435, test SMAPE=0.1487274205321225\n",
            "Epoch 34: Loss=0.1868995572756795, test SMAPE=0.1456695374559403\n",
            "Epoch 35: Loss=0.18691341564493272, test SMAPE=0.14670622930749458\n",
            "Epoch 36: Loss=0.1867832158990566, test SMAPE=0.1498700585343646\n",
            "Epoch 37: Loss=0.18681661102884603, test SMAPE=0.14788908640745252\n",
            "Epoch 38: Loss=0.1867456004312895, test SMAPE=0.1461848598123832\n",
            "Epoch 39: Loss=0.18663507792194492, test SMAPE=0.14834317141412784\n",
            "Epoch 40: Loss=0.1865873974431487, test SMAPE=0.15055137790720285\n",
            "Epoch 41: Loss=0.18644078894183763, test SMAPE=0.148932640512298\n",
            "Epoch 42: Loss=0.18654795576935834, test SMAPE=0.14814270545040112\n",
            "Epoch 43: Loss=0.1864925760377958, test SMAPE=0.15129063679032442\n",
            "Epoch 44: Loss=0.18639797576278158, test SMAPE=0.14823318617610998\n",
            "Epoch 45: Loss=0.1864237507027619, test SMAPE=0.14707092929635618\n",
            "Epoch 46: Loss=0.186446404428158, test SMAPE=0.14719920631996886\n",
            "Epoch 47: Loss=0.18641670866534837, test SMAPE=0.14608795565370067\n",
            "Epoch 48: Loss=0.18629355334396502, test SMAPE=0.14860100690553998\n",
            "Epoch 49: Loss=0.1862922031251551, test SMAPE=0.14641841492196817\n",
            "Epoch 50: Loss=0.1862915713086869, test SMAPE=0.14707009866611587\n",
            "Epoch 51: Loss=0.1862670528404053, test SMAPE=0.14978088902550005\n",
            "Epoch 52: Loss=0.1861933019482395, test SMAPE=0.14701330950128344\n",
            "Epoch 53: Loss=0.18626564330629353, test SMAPE=0.15085251843865133\n",
            "Epoch 54: Loss=0.18613625198458006, test SMAPE=0.14853624097956444\n",
            "Epoch 55: Loss=0.18616726017982058, test SMAPE=0.14585466280509102\n",
            "Epoch 56: Loss=0.1861526715632492, test SMAPE=0.14834285966190333\n",
            "Epoch 57: Loss=0.1860109321881556, test SMAPE=0.14739730040705643\n",
            "Epoch 58: Loss=0.18599896782159225, test SMAPE=0.1453417527498632\n",
            "Epoch 59: Loss=0.1860076044550509, test SMAPE=0.14571528808297804\n",
            "Epoch 60: Loss=0.18594523465025772, test SMAPE=0.14882246487964199\n",
            "Epoch 61: Loss=0.18599319416414767, test SMAPE=0.14910874309264593\n",
            "Epoch 62: Loss=0.18591425864441882, test SMAPE=0.14520631747444293\n",
            "Epoch 63: Loss=0.185844193474905, test SMAPE=0.14668891096191108\n",
            "Epoch 64: Loss=0.1858992617920909, test SMAPE=0.14848267565845585\n",
            "Epoch 65: Loss=0.18594133083536787, test SMAPE=0.14379619759011147\n",
            "Epoch 66: Loss=0.18582744809609014, test SMAPE=0.14752436024268117\n",
            "Epoch 67: Loss=0.18590436382128775, test SMAPE=0.15074770960093525\n",
            "Epoch 68: Loss=0.185805903964685, test SMAPE=0.14738821212316788\n",
            "Epoch 69: Loss=0.1858762077697851, test SMAPE=0.14847475855583248\n",
            "Epoch 70: Loss=0.18572895352737706, test SMAPE=0.14689365321042747\n",
            "Epoch 71: Loss=0.18580620455582744, test SMAPE=0.1469976540850504\n",
            "Epoch 72: Loss=0.18584489659632294, test SMAPE=0.14914540643661126\n",
            "Epoch 73: Loss=0.18572390433943387, test SMAPE=0.14545678426633932\n",
            "Epoch 74: Loss=0.18565196211187585, test SMAPE=0.15014345369283338\n",
            "Epoch 75: Loss=0.18574051284095616, test SMAPE=0.14520688117479816\n",
            "Epoch 76: Loss=0.1857389975700853, test SMAPE=0.14675913343967498\n",
            "Epoch 77: Loss=0.1856595417213382, test SMAPE=0.1429134635021717\n",
            "Epoch 78: Loss=0.18564266062260254, test SMAPE=0.14466387647139556\n",
            "Epoch 79: Loss=0.18572156914301868, test SMAPE=0.14901966002898387\n",
            "Epoch 80: Loss=0.18567729254877105, test SMAPE=0.14605048473634924\n",
            "Epoch 81: Loss=0.18426082205497524, test SMAPE=0.14513631582257208\n",
            "Epoch 82: Loss=0.18420498474564367, test SMAPE=0.14483477269256884\n",
            "Epoch 83: Loss=0.18420243384406984, test SMAPE=0.14457385527193636\n",
            "Epoch 84: Loss=0.184163064614517, test SMAPE=0.14402681841290269\n",
            "Epoch 85: Loss=0.18414364749728476, test SMAPE=0.1454144380283544\n",
            "Epoch 86: Loss=0.18415788533979827, test SMAPE=0.14499098786508197\n",
            "Epoch 87: Loss=0.1840890742187361, test SMAPE=0.144931359750829\n",
            "Epoch 88: Loss=0.1841020919201733, test SMAPE=0.14547371808652648\n",
            "Epoch 89: Loss=0.18408687577302596, test SMAPE=0.14505820934077407\n",
            "Epoch 90: Loss=0.18406770586316445, test SMAPE=0.1450396308035873\n",
            "Epoch 91: Loss=0.18408702239755867, test SMAPE=0.14552686675221785\n",
            "Epoch 92: Loss=0.18414596491719334, test SMAPE=0.14563585220183217\n",
            "Epoch 93: Loss=0.18407608688022326, test SMAPE=0.14502586519421715\n",
            "Epoch 94: Loss=0.18408984123069105, test SMAPE=0.14535274477047566\n",
            "Epoch 95: Loss=0.18404955131191653, test SMAPE=0.1457239202815835\n",
            "Epoch 96: Loss=0.184099741243911, test SMAPE=0.14508680458678253\n",
            "Epoch 97: Loss=0.18385264749448854, test SMAPE=0.14453891634069027\n",
            "Epoch 98: Loss=0.18388042022085305, test SMAPE=0.1445942502755987\n",
            "Epoch 99: Loss=0.18386690897270314, test SMAPE=0.14453269321723736\n",
            "Finished Training\n",
            "CPU times: user 15min 54s, sys: 39.5 s, total: 16min 33s\n",
            "Wall time: 16min 53s\n"
          ],
          "name": "stdout"
        }
      ]
    },
    {
      "cell_type": "code",
      "metadata": {
        "colab": {
          "base_uri": "https://localhost:8080/"
        },
        "id": "yq292lYeZThP",
        "outputId": "1f842b58-55c0-4f1a-c270-3896a5518b0a"
      },
      "source": [
        "m4_forecast = forecast(m4_hourly_train, m4_hourly_test, forecaster, 48 * 3, device)\n",
        "m4_metrics = metrics(m4_hourly_test, m4_forecast, scaler=scaler)\n",
        "m4_metrics.mean()"
      ],
      "execution_count": null,
      "outputs": [
        {
          "output_type": "execute_result",
          "data": {
            "text/plain": [
              "SMAPE      0.123722\n",
              "RMSE     414.231976\n",
              "dtype: float64"
            ]
          },
          "metadata": {
            "tags": []
          },
          "execution_count": 21
        }
      ]
    },
    {
      "cell_type": "markdown",
      "metadata": {
        "id": "8Qp7pQ1kvEnY"
      },
      "source": [
        "## MCNN2LSTM [Tinkoff series]"
      ]
    },
    {
      "cell_type": "code",
      "metadata": {
        "id": "ByRiC8O3maN_"
      },
      "source": [
        "prefix = \"gdrive/MyDrive/diploma/data/\"\n",
        "calls = pd.read_csv(prefix + \"tinkoff/chats2.csv\").pivot_table(values=\"sum\", index=\"product\", columns=\"dt\").fillna(method=\"ffill\")\n",
        "#calls pd.read_csv(prefix + \"tinkoff/calls.csv\").pivot_table(values=\"cnt\", index=\"direction\", columns=\"date\")\n",
        "#chats pd.read_csv(prefix + \"tinkoff/chats2.csv\").pivot_table(values=\"sum\", index=\"product\", columns=\"dt\").fillna(method=\"ffill\")\n",
        "#sme pd.read_csv(prefix + \"tinkoff/sme.csv\").pivot_table(values=\"cnt\", index=\"var\", columns=\"date\").iloc[:, :-1]\n",
        "\n",
        "scaler = StandardScaler()\n",
        "\n",
        "calls_scaled = scaler.fit_transform(calls.T)\n",
        "calls_scaled = pd.DataFrame(\n",
        "    index=calls.index,\n",
        "    columns=calls.columns,\n",
        "    data=calls_scaled.T\n",
        ")\n",
        "\n",
        "calls_train, calls_test = train_test_split(calls_scaled, 28)\n",
        "calls_train_dataset = TimeSeriesDataset(calls_train, horizon=28, context_length=28 * 3)"
      ],
      "execution_count": null,
      "outputs": []
    },
    {
      "cell_type": "code",
      "metadata": {
        "id": "JpD13m6NLb2i"
      },
      "source": [
        "trainloader = torch.utils.data.DataLoader(calls_train_dataset, batch_size=256,\n",
        "                                          shuffle=True, num_workers=2)"
      ],
      "execution_count": null,
      "outputs": []
    },
    {
      "cell_type": "code",
      "metadata": {
        "id": "RFMEr6dOtrIw"
      },
      "source": [
        "def objective(trial):\n",
        "    device = torch.device(\"cuda\")\n",
        "\n",
        "    kernels = trial.suggest_int('kernels', 16, 128)\n",
        "    lstm_hidden = trial.suggest_int('lstm_hidden', 16, 128)\n",
        "    kernel_size = trial.suggest_int('kernel_size', 3, 8)\n",
        "    pooling_factor = trial.suggest_int('pooling_factor', 2, 5)\n",
        "    pooling = trial.suggest_categorical(\"pooling\", [\"avg\", \"max\"])\n",
        "\n",
        "    forecaster = ConvLSTM(\n",
        "        context=28 * 3,\n",
        "        horizon=28,\n",
        "        smooth_degrees=[3, 7, 14, 28],\n",
        "        ds_rates=[3, 7, 10],\n",
        "        kernels=kernels,\n",
        "        kernel_size=kernel_size,\n",
        "        pooling=pooling,\n",
        "        pooling_factor=pooling_factor,\n",
        "        lstm_hidden=lstm_hidden\n",
        "    ).to(device)\n",
        "    optimizer = optim.Adam(forecaster.parameters())\n",
        "    loss_function = nn.MSELoss()\n",
        "    scheduler = optim.lr_scheduler.ReduceLROnPlateau(optimizer, patience=5, threshold=1e-4)\n",
        "    train(forecaster, loss_function, optimizer, trainloader, EPOCHS=100, device=device, disp=False, scheduler=scheduler, scaler=scaler)\n",
        "\n",
        "    df_forecast = forecast(calls_train, calls_test, forecaster, 28 * 3, device)\n",
        "    df_metrics = metrics(calls_test, df_forecast, scaler=scaler)\n",
        "    loss = df_metrics.mean()[\"SMAPE\"]\n",
        "\n",
        "    return loss"
      ],
      "execution_count": null,
      "outputs": []
    },
    {
      "cell_type": "code",
      "metadata": {
        "colab": {
          "base_uri": "https://localhost:8080/"
        },
        "id": "mzCb-Ddzt2dU",
        "outputId": "b2f012cd-1cd1-4202-8490-d44bb6d81b44"
      },
      "source": [
        "study = optuna.create_study(direction='minimize')\n",
        "study.optimize(objective, n_trials=30)"
      ],
      "execution_count": null,
      "outputs": [
        {
          "output_type": "stream",
          "text": [
            "\u001b[32m[I 2021-06-27 22:34:27,848]\u001b[0m A new study created in memory with name: no-name-d76ae496-f5eb-4dd7-9e72-9ec211b5c096\u001b[0m\n",
            "\u001b[32m[I 2021-06-27 22:36:10,964]\u001b[0m Trial 0 finished with value: 0.4515655048015096 and parameters: {'kernels': 87, 'lstm_hidden': 42, 'kernel_size': 4, 'pooling_factor': 5, 'pooling': 'avg'}. Best is trial 0 with value: 0.4515655048015096.\u001b[0m\n"
          ],
          "name": "stderr"
        },
        {
          "output_type": "stream",
          "text": [
            "Finished Training\n"
          ],
          "name": "stdout"
        },
        {
          "output_type": "stream",
          "text": [
            "\u001b[32m[I 2021-06-27 22:37:54,393]\u001b[0m Trial 1 finished with value: 0.4188082240237375 and parameters: {'kernels': 99, 'lstm_hidden': 73, 'kernel_size': 5, 'pooling_factor': 3, 'pooling': 'max'}. Best is trial 1 with value: 0.4188082240237375.\u001b[0m\n"
          ],
          "name": "stderr"
        },
        {
          "output_type": "stream",
          "text": [
            "Finished Training\n"
          ],
          "name": "stdout"
        },
        {
          "output_type": "stream",
          "text": [
            "\u001b[32m[I 2021-06-27 22:39:37,626]\u001b[0m Trial 2 finished with value: 0.40631371380586095 and parameters: {'kernels': 58, 'lstm_hidden': 39, 'kernel_size': 8, 'pooling_factor': 2, 'pooling': 'avg'}. Best is trial 2 with value: 0.40631371380586095.\u001b[0m\n"
          ],
          "name": "stderr"
        },
        {
          "output_type": "stream",
          "text": [
            "Finished Training\n"
          ],
          "name": "stdout"
        },
        {
          "output_type": "stream",
          "text": [
            "\u001b[32m[I 2021-06-27 22:41:20,087]\u001b[0m Trial 3 finished with value: 0.4547191981522345 and parameters: {'kernels': 55, 'lstm_hidden': 55, 'kernel_size': 3, 'pooling_factor': 5, 'pooling': 'avg'}. Best is trial 2 with value: 0.40631371380586095.\u001b[0m\n"
          ],
          "name": "stderr"
        },
        {
          "output_type": "stream",
          "text": [
            "Finished Training\n"
          ],
          "name": "stdout"
        },
        {
          "output_type": "stream",
          "text": [
            "\u001b[32m[I 2021-06-27 22:43:04,324]\u001b[0m Trial 4 finished with value: 0.39571099343930516 and parameters: {'kernels': 115, 'lstm_hidden': 17, 'kernel_size': 7, 'pooling_factor': 4, 'pooling': 'max'}. Best is trial 4 with value: 0.39571099343930516.\u001b[0m\n"
          ],
          "name": "stderr"
        },
        {
          "output_type": "stream",
          "text": [
            "Finished Training\n"
          ],
          "name": "stdout"
        },
        {
          "output_type": "stream",
          "text": [
            "\u001b[32m[I 2021-06-27 22:44:48,133]\u001b[0m Trial 5 finished with value: 0.46389360737576657 and parameters: {'kernels': 86, 'lstm_hidden': 29, 'kernel_size': 7, 'pooling_factor': 2, 'pooling': 'max'}. Best is trial 4 with value: 0.39571099343930516.\u001b[0m\n"
          ],
          "name": "stderr"
        },
        {
          "output_type": "stream",
          "text": [
            "Finished Training\n"
          ],
          "name": "stdout"
        },
        {
          "output_type": "stream",
          "text": [
            "\u001b[32m[I 2021-06-27 22:46:31,116]\u001b[0m Trial 6 finished with value: 0.4251591916081917 and parameters: {'kernels': 116, 'lstm_hidden': 96, 'kernel_size': 6, 'pooling_factor': 2, 'pooling': 'avg'}. Best is trial 4 with value: 0.39571099343930516.\u001b[0m\n"
          ],
          "name": "stderr"
        },
        {
          "output_type": "stream",
          "text": [
            "Finished Training\n"
          ],
          "name": "stdout"
        },
        {
          "output_type": "stream",
          "text": [
            "\u001b[32m[I 2021-06-27 22:48:53,087]\u001b[0m Trial 7 finished with value: 0.4589586382448246 and parameters: {'kernels': 101, 'lstm_hidden': 69, 'kernel_size': 6, 'pooling_factor': 4, 'pooling': 'max'}. Best is trial 4 with value: 0.39571099343930516.\u001b[0m\n"
          ],
          "name": "stderr"
        },
        {
          "output_type": "stream",
          "text": [
            "Finished Training\n"
          ],
          "name": "stdout"
        },
        {
          "output_type": "stream",
          "text": [
            "\u001b[32m[I 2021-06-27 22:50:53,708]\u001b[0m Trial 8 finished with value: 0.40811815068958757 and parameters: {'kernels': 112, 'lstm_hidden': 122, 'kernel_size': 5, 'pooling_factor': 3, 'pooling': 'max'}. Best is trial 4 with value: 0.39571099343930516.\u001b[0m\n"
          ],
          "name": "stderr"
        },
        {
          "output_type": "stream",
          "text": [
            "Finished Training\n"
          ],
          "name": "stdout"
        },
        {
          "output_type": "stream",
          "text": [
            "\u001b[32m[I 2021-06-27 22:53:18,124]\u001b[0m Trial 9 finished with value: 0.42622971250803177 and parameters: {'kernels': 23, 'lstm_hidden': 99, 'kernel_size': 4, 'pooling_factor': 5, 'pooling': 'avg'}. Best is trial 4 with value: 0.39571099343930516.\u001b[0m\n"
          ],
          "name": "stderr"
        },
        {
          "output_type": "stream",
          "text": [
            "Finished Training\n"
          ],
          "name": "stdout"
        },
        {
          "output_type": "stream",
          "text": [
            "\u001b[32m[I 2021-06-27 22:55:33,054]\u001b[0m Trial 10 finished with value: 0.4722129213211778 and parameters: {'kernels': 124, 'lstm_hidden': 20, 'kernel_size': 8, 'pooling_factor': 4, 'pooling': 'max'}. Best is trial 4 with value: 0.39571099343930516.\u001b[0m\n"
          ],
          "name": "stderr"
        },
        {
          "output_type": "stream",
          "text": [
            "Finished Training\n"
          ],
          "name": "stdout"
        },
        {
          "output_type": "stream",
          "text": [
            "\u001b[32m[I 2021-06-27 22:57:34,393]\u001b[0m Trial 11 finished with value: 0.44242873009883904 and parameters: {'kernels': 56, 'lstm_hidden': 18, 'kernel_size': 8, 'pooling_factor': 4, 'pooling': 'avg'}. Best is trial 4 with value: 0.39571099343930516.\u001b[0m\n"
          ],
          "name": "stderr"
        },
        {
          "output_type": "stream",
          "text": [
            "Finished Training\n"
          ],
          "name": "stdout"
        },
        {
          "output_type": "stream",
          "text": [
            "\u001b[32m[I 2021-06-27 23:00:07,303]\u001b[0m Trial 12 finished with value: 0.46250639900398816 and parameters: {'kernels': 32, 'lstm_hidden': 38, 'kernel_size': 7, 'pooling_factor': 3, 'pooling': 'max'}. Best is trial 4 with value: 0.39571099343930516.\u001b[0m\n"
          ],
          "name": "stderr"
        },
        {
          "output_type": "stream",
          "text": [
            "Finished Training\n"
          ],
          "name": "stdout"
        },
        {
          "output_type": "stream",
          "text": [
            "\u001b[32m[I 2021-06-27 23:02:12,799]\u001b[0m Trial 13 finished with value: 0.41435123491682097 and parameters: {'kernels': 61, 'lstm_hidden': 16, 'kernel_size': 7, 'pooling_factor': 2, 'pooling': 'avg'}. Best is trial 4 with value: 0.39571099343930516.\u001b[0m\n"
          ],
          "name": "stderr"
        },
        {
          "output_type": "stream",
          "text": [
            "Finished Training\n"
          ],
          "name": "stdout"
        },
        {
          "output_type": "stream",
          "text": [
            "\u001b[32m[I 2021-06-27 23:04:24,662]\u001b[0m Trial 14 finished with value: 0.4235490380843527 and parameters: {'kernels': 37, 'lstm_hidden': 51, 'kernel_size': 8, 'pooling_factor': 4, 'pooling': 'avg'}. Best is trial 4 with value: 0.39571099343930516.\u001b[0m\n"
          ],
          "name": "stderr"
        },
        {
          "output_type": "stream",
          "text": [
            "Finished Training\n"
          ],
          "name": "stdout"
        },
        {
          "output_type": "stream",
          "text": [
            "\u001b[32m[I 2021-06-27 23:06:57,556]\u001b[0m Trial 15 finished with value: 0.46595347562271017 and parameters: {'kernels': 74, 'lstm_hidden': 34, 'kernel_size': 7, 'pooling_factor': 3, 'pooling': 'max'}. Best is trial 4 with value: 0.39571099343930516.\u001b[0m\n"
          ],
          "name": "stderr"
        },
        {
          "output_type": "stream",
          "text": [
            "Finished Training\n"
          ],
          "name": "stdout"
        },
        {
          "output_type": "stream",
          "text": [
            "\u001b[32m[I 2021-06-27 23:08:57,072]\u001b[0m Trial 16 finished with value: 0.46159219218633385 and parameters: {'kernels': 72, 'lstm_hidden': 61, 'kernel_size': 8, 'pooling_factor': 4, 'pooling': 'max'}. Best is trial 4 with value: 0.39571099343930516.\u001b[0m\n"
          ],
          "name": "stderr"
        },
        {
          "output_type": "stream",
          "text": [
            "Finished Training\n"
          ],
          "name": "stdout"
        },
        {
          "output_type": "stream",
          "text": [
            "\u001b[32m[I 2021-06-27 23:11:13,457]\u001b[0m Trial 17 finished with value: 0.39911737474038717 and parameters: {'kernels': 45, 'lstm_hidden': 28, 'kernel_size': 6, 'pooling_factor': 2, 'pooling': 'avg'}. Best is trial 4 with value: 0.39571099343930516.\u001b[0m\n"
          ],
          "name": "stderr"
        },
        {
          "output_type": "stream",
          "text": [
            "Finished Training\n"
          ],
          "name": "stdout"
        },
        {
          "output_type": "stream",
          "text": [
            "\u001b[32m[I 2021-06-27 23:13:37,836]\u001b[0m Trial 18 finished with value: 0.43283693189370326 and parameters: {'kernels': 44, 'lstm_hidden': 26, 'kernel_size': 6, 'pooling_factor': 3, 'pooling': 'max'}. Best is trial 4 with value: 0.39571099343930516.\u001b[0m\n"
          ],
          "name": "stderr"
        },
        {
          "output_type": "stream",
          "text": [
            "Finished Training\n"
          ],
          "name": "stdout"
        },
        {
          "output_type": "stream",
          "text": [
            "\u001b[32m[I 2021-06-27 23:15:40,918]\u001b[0m Trial 19 finished with value: 0.4394636931765989 and parameters: {'kernels': 17, 'lstm_hidden': 84, 'kernel_size': 5, 'pooling_factor': 5, 'pooling': 'avg'}. Best is trial 4 with value: 0.39571099343930516.\u001b[0m\n"
          ],
          "name": "stderr"
        },
        {
          "output_type": "stream",
          "text": [
            "Finished Training\n"
          ],
          "name": "stdout"
        },
        {
          "output_type": "stream",
          "text": [
            "\u001b[32m[I 2021-06-27 23:18:07,185]\u001b[0m Trial 20 finished with value: 0.4325768518960269 and parameters: {'kernels': 46, 'lstm_hidden': 17, 'kernel_size': 6, 'pooling_factor': 4, 'pooling': 'max'}. Best is trial 4 with value: 0.39571099343930516.\u001b[0m\n"
          ],
          "name": "stderr"
        },
        {
          "output_type": "stream",
          "text": [
            "Finished Training\n"
          ],
          "name": "stdout"
        },
        {
          "output_type": "stream",
          "text": [
            "\u001b[32m[I 2021-06-27 23:20:20,813]\u001b[0m Trial 21 finished with value: 0.4442244402738516 and parameters: {'kernels': 63, 'lstm_hidden': 48, 'kernel_size': 7, 'pooling_factor': 2, 'pooling': 'avg'}. Best is trial 4 with value: 0.39571099343930516.\u001b[0m\n"
          ],
          "name": "stderr"
        },
        {
          "output_type": "stream",
          "text": [
            "Finished Training\n"
          ],
          "name": "stdout"
        },
        {
          "output_type": "stream",
          "text": [
            "\u001b[32m[I 2021-06-27 23:22:29,302]\u001b[0m Trial 22 finished with value: 0.43220654096222144 and parameters: {'kernels': 46, 'lstm_hidden': 31, 'kernel_size': 7, 'pooling_factor': 2, 'pooling': 'avg'}. Best is trial 4 with value: 0.39571099343930516.\u001b[0m\n"
          ],
          "name": "stderr"
        },
        {
          "output_type": "stream",
          "text": [
            "Finished Training\n"
          ],
          "name": "stdout"
        },
        {
          "output_type": "stream",
          "text": [
            "\u001b[32m[I 2021-06-27 23:25:02,888]\u001b[0m Trial 23 finished with value: 0.44535026611767015 and parameters: {'kernels': 82, 'lstm_hidden': 41, 'kernel_size': 8, 'pooling_factor': 2, 'pooling': 'avg'}. Best is trial 4 with value: 0.39571099343930516.\u001b[0m\n"
          ],
          "name": "stderr"
        },
        {
          "output_type": "stream",
          "text": [
            "Finished Training\n"
          ],
          "name": "stdout"
        },
        {
          "output_type": "stream",
          "text": [
            "\u001b[32m[I 2021-06-27 23:27:05,542]\u001b[0m Trial 24 finished with value: 0.42504982888533516 and parameters: {'kernels': 29, 'lstm_hidden': 25, 'kernel_size': 6, 'pooling_factor': 3, 'pooling': 'avg'}. Best is trial 4 with value: 0.39571099343930516.\u001b[0m\n"
          ],
          "name": "stderr"
        },
        {
          "output_type": "stream",
          "text": [
            "Finished Training\n"
          ],
          "name": "stdout"
        },
        {
          "output_type": "stream",
          "text": [
            "\u001b[32m[I 2021-06-27 23:29:28,011]\u001b[0m Trial 25 finished with value: 0.4137446723403682 and parameters: {'kernels': 65, 'lstm_hidden': 16, 'kernel_size': 7, 'pooling_factor': 2, 'pooling': 'avg'}. Best is trial 4 with value: 0.39571099343930516.\u001b[0m\n"
          ],
          "name": "stderr"
        },
        {
          "output_type": "stream",
          "text": [
            "Finished Training\n"
          ],
          "name": "stdout"
        },
        {
          "output_type": "stream",
          "text": [
            "\u001b[32m[I 2021-06-27 23:31:46,752]\u001b[0m Trial 26 finished with value: 0.41847159274235457 and parameters: {'kernels': 52, 'lstm_hidden': 44, 'kernel_size': 8, 'pooling_factor': 3, 'pooling': 'avg'}. Best is trial 4 with value: 0.39571099343930516.\u001b[0m\n"
          ],
          "name": "stderr"
        },
        {
          "output_type": "stream",
          "text": [
            "Finished Training\n"
          ],
          "name": "stdout"
        },
        {
          "output_type": "stream",
          "text": [
            "\u001b[32m[I 2021-06-27 23:33:54,718]\u001b[0m Trial 27 finished with value: 0.43667826393710196 and parameters: {'kernels': 39, 'lstm_hidden': 61, 'kernel_size': 6, 'pooling_factor': 2, 'pooling': 'avg'}. Best is trial 4 with value: 0.39571099343930516.\u001b[0m\n"
          ],
          "name": "stderr"
        },
        {
          "output_type": "stream",
          "text": [
            "Finished Training\n"
          ],
          "name": "stdout"
        },
        {
          "output_type": "stream",
          "text": [
            "\u001b[32m[I 2021-06-27 23:36:31,171]\u001b[0m Trial 28 finished with value: 0.4436211774234173 and parameters: {'kernels': 75, 'lstm_hidden': 26, 'kernel_size': 7, 'pooling_factor': 4, 'pooling': 'avg'}. Best is trial 4 with value: 0.39571099343930516.\u001b[0m\n"
          ],
          "name": "stderr"
        },
        {
          "output_type": "stream",
          "text": [
            "Finished Training\n"
          ],
          "name": "stdout"
        },
        {
          "output_type": "stream",
          "text": [
            "\u001b[32m[I 2021-06-27 23:38:48,688]\u001b[0m Trial 29 finished with value: 0.45289848106830877 and parameters: {'kernels': 90, 'lstm_hidden': 37, 'kernel_size': 4, 'pooling_factor': 5, 'pooling': 'avg'}. Best is trial 4 with value: 0.39571099343930516.\u001b[0m\n"
          ],
          "name": "stderr"
        },
        {
          "output_type": "stream",
          "text": [
            "Finished Training\n"
          ],
          "name": "stdout"
        }
      ]
    },
    {
      "cell_type": "code",
      "metadata": {
        "colab": {
          "base_uri": "https://localhost:8080/"
        },
        "id": "wygkBOK81R-s",
        "outputId": "b047ab86-56dd-4e18-9c49-847171079771"
      },
      "source": [
        " study.best_params"
      ],
      "execution_count": null,
      "outputs": [
        {
          "output_type": "execute_result",
          "data": {
            "text/plain": [
              "{'kernel_size': 3,\n",
              " 'kernels': 17,\n",
              " 'lstm_hidden': 109,\n",
              " 'pooling': 'avg',\n",
              " 'pooling_factor': 3}"
            ]
          },
          "metadata": {
            "tags": []
          },
          "execution_count": 36
        }
      ]
    },
    {
      "cell_type": "code",
      "metadata": {
        "colab": {
          "base_uri": "https://localhost:8080/"
        },
        "id": "nrVUSRROL1JC",
        "outputId": "e7bf413e-d762-4fa4-b3a2-d3bea5370393"
      },
      "source": [
        "EPOCHS = 100\n",
        "device = torch.device(\"cuda\")\n",
        "\n",
        "forecaster = ConvLSTM(\n",
        "    context=28 * 3,\n",
        "    horizon=28,\n",
        "    smooth_degrees=[3, 7, 14, 28],\n",
        "    ds_rates=[3, 7, 10],\n",
        "    kernels=17,\n",
        "    kernel_size=3,\n",
        "    pooling=\"avg\",\n",
        "    pooling_factor=3,\n",
        "    lstm_hidden=109\n",
        ").to(device)\n",
        "optimizer = optim.Adam(forecaster.parameters())\n",
        "loss_function = nn.MSELoss()\n",
        "scheduler = optim.lr_scheduler.ReduceLROnPlateau(optimizer, patience=5, threshold=1e-4)\n",
        "\n",
        "\n",
        "train(\n",
        "    forecaster, \n",
        "    loss_function, \n",
        "    optimizer, \n",
        "    trainloader, \n",
        "    EPOCHS=EPOCHS, \n",
        "    device=device, \n",
        "    disp=True, \n",
        "    scheduler=scheduler, \n",
        "    df_test=calls_test, \n",
        "    df_train=calls_train,\n",
        "    context_length=28 * 3,\n",
        "    scaler=scaler\n",
        ")"
      ],
      "execution_count": null,
      "outputs": [
        {
          "output_type": "stream",
          "text": [
            "Epoch 0: Loss=0.9706501066684723, test SMAPE=0.4220283995133475\n",
            "Epoch 1: Loss=0.9581988453865051, test SMAPE=0.41801406328006346\n",
            "Epoch 2: Loss=0.94124103585879, test SMAPE=0.42015391042049105\n",
            "Epoch 3: Loss=0.9235957066218058, test SMAPE=0.41369636671105564\n",
            "Epoch 4: Loss=0.9047057926654816, test SMAPE=0.4118420170730489\n",
            "Epoch 5: Loss=0.881784717241923, test SMAPE=0.4536740612564008\n",
            "Epoch 6: Loss=0.8691787719726562, test SMAPE=0.45361512808187376\n",
            "Epoch 7: Loss=0.8691384891668955, test SMAPE=0.4453758774187539\n",
            "Epoch 8: Loss=0.8616882562637329, test SMAPE=0.44233514518869266\n",
            "Epoch 9: Loss=0.8631576796372732, test SMAPE=0.44627742834122197\n",
            "Epoch 10: Loss=0.8547138571739197, test SMAPE=0.4353100100902926\n",
            "Epoch 11: Loss=0.8468252519766489, test SMAPE=0.4471497792297112\n",
            "Epoch 12: Loss=0.8484050631523132, test SMAPE=0.4305270407042561\n",
            "Epoch 13: Loss=0.841902623573939, test SMAPE=0.4220566783795812\n",
            "Epoch 14: Loss=0.8161129554112753, test SMAPE=0.4308296479628534\n",
            "Epoch 15: Loss=0.758487472931544, test SMAPE=0.3439850832037104\n",
            "Epoch 16: Loss=0.632815033197403, test SMAPE=0.27999185929289316\n",
            "Epoch 17: Loss=0.5818781157334646, test SMAPE=0.30849362951695625\n",
            "Epoch 18: Loss=0.5390297969182333, test SMAPE=0.2657874615316168\n",
            "Epoch 19: Loss=0.5041411717732748, test SMAPE=0.24500575384051904\n",
            "Epoch 20: Loss=0.4658386806646983, test SMAPE=0.21801440972359276\n",
            "Epoch 21: Loss=0.4412461221218109, test SMAPE=0.18777943741930742\n",
            "Epoch 22: Loss=0.40856747329235077, test SMAPE=0.16948218541942323\n",
            "Epoch 23: Loss=0.3831021587053935, test SMAPE=0.14767780379313655\n",
            "Epoch 24: Loss=0.375871608654658, test SMAPE=0.1445909422438723\n",
            "Epoch 25: Loss=0.3695567498604457, test SMAPE=0.1090889704612886\n",
            "Epoch 26: Loss=0.3618047038714091, test SMAPE=0.13227796099802352\n",
            "Epoch 27: Loss=0.34356769422690075, test SMAPE=0.14813129812707382\n",
            "Epoch 28: Loss=0.3382113426923752, test SMAPE=0.17675359571785948\n",
            "Epoch 29: Loss=0.33870528141657513, test SMAPE=0.19379435744286677\n",
            "Epoch 30: Loss=0.32997553050518036, test SMAPE=0.2155630008562523\n",
            "Epoch 31: Loss=0.3208771347999573, test SMAPE=0.13111949891002123\n",
            "Epoch 32: Loss=0.33294319609800976, test SMAPE=0.16085443579240255\n",
            "Epoch 33: Loss=0.34196243683497113, test SMAPE=0.13546387801305482\n",
            "Epoch 34: Loss=0.3179163783788681, test SMAPE=0.11116334782359913\n",
            "Epoch 35: Loss=0.31102339923381805, test SMAPE=0.10521514544614224\n",
            "Epoch 36: Loss=0.30960190296173096, test SMAPE=0.23969104372238886\n",
            "Epoch 37: Loss=0.3066747933626175, test SMAPE=0.11832094357053771\n",
            "Epoch 38: Loss=0.30358509719371796, test SMAPE=0.13618605905904912\n",
            "Epoch 39: Loss=0.29676827291647595, test SMAPE=0.10822469996466291\n",
            "Epoch 40: Loss=0.29903816680113476, test SMAPE=0.1392696638928385\n",
            "Epoch 41: Loss=0.2907522867123286, test SMAPE=0.1175258198308601\n",
            "Epoch 42: Loss=0.29644035299619037, test SMAPE=0.17829227843366097\n",
            "Epoch 43: Loss=0.2971821328004201, test SMAPE=0.1239434778547617\n",
            "Epoch 44: Loss=0.29357894758383435, test SMAPE=0.11059919268712404\n",
            "Epoch 45: Loss=0.29433493812878925, test SMAPE=0.1017728675155287\n",
            "Epoch 46: Loss=0.2878581980864207, test SMAPE=0.12842208605811145\n",
            "Epoch 47: Loss=0.2912349725763003, test SMAPE=0.13815064427015877\n",
            "Epoch 48: Loss=0.2816684792439143, test SMAPE=0.1255390023173775\n",
            "Epoch 49: Loss=0.2894822160402934, test SMAPE=0.11717111201133701\n",
            "Epoch 50: Loss=0.2832615152001381, test SMAPE=0.10077368372606152\n",
            "Epoch 51: Loss=0.2963832914829254, test SMAPE=0.11884263741175645\n",
            "Epoch 52: Loss=0.2873309801022212, test SMAPE=0.12190929708735984\n",
            "Epoch 53: Loss=0.27615731209516525, test SMAPE=0.12057946773042644\n",
            "Epoch 54: Loss=0.27941984434922534, test SMAPE=0.13387399754915147\n",
            "Epoch 55: Loss=0.28549910088380176, test SMAPE=0.1009067076463398\n",
            "Epoch 56: Loss=0.27925753593444824, test SMAPE=0.15064347538237896\n",
            "Epoch 57: Loss=0.28720955550670624, test SMAPE=0.12382396850631808\n",
            "Epoch 58: Loss=0.2790815631548564, test SMAPE=0.14719080803493595\n",
            "Epoch 59: Loss=0.2868401159842809, test SMAPE=0.12503049622791465\n",
            "Epoch 60: Loss=0.2738311638434728, test SMAPE=0.11831781094291899\n",
            "Epoch 61: Loss=0.26325540989637375, test SMAPE=0.11608307162501724\n",
            "Epoch 62: Loss=0.2688285807768504, test SMAPE=0.11709604352612521\n",
            "Epoch 63: Loss=0.26444965104262036, test SMAPE=0.12313369905172913\n",
            "Epoch 64: Loss=0.2706753859917323, test SMAPE=0.11831600315455307\n",
            "Epoch 65: Loss=0.2665235797564189, test SMAPE=0.11195228232668607\n",
            "Epoch 66: Loss=0.2640647267301877, test SMAPE=0.10695587882454596\n",
            "Epoch 67: Loss=0.27290231237808865, test SMAPE=0.11070239160615289\n",
            "Epoch 68: Loss=0.26714182396729785, test SMAPE=0.11157161747182949\n",
            "Epoch 69: Loss=0.2643529499570529, test SMAPE=0.1118113763437655\n",
            "Epoch 70: Loss=0.2627517729997635, test SMAPE=0.11165022734186483\n",
            "Epoch 71: Loss=0.26954452196757, test SMAPE=0.11143885610427051\n",
            "Epoch 72: Loss=0.26575348277886707, test SMAPE=0.11120622161120884\n",
            "Epoch 73: Loss=0.26810936133066815, test SMAPE=0.11140363402509149\n",
            "Epoch 74: Loss=0.26889636367559433, test SMAPE=0.11123464140783346\n",
            "Epoch 75: Loss=0.2627929449081421, test SMAPE=0.11133822546644065\n",
            "Epoch 76: Loss=0.2671749119957288, test SMAPE=0.11161156067202263\n",
            "Epoch 77: Loss=0.27057647953430813, test SMAPE=0.11157337356197304\n",
            "Epoch 78: Loss=0.2647155274947484, test SMAPE=0.11152358147016586\n",
            "Epoch 79: Loss=0.27136604239543277, test SMAPE=0.11151510373204085\n",
            "Epoch 80: Loss=0.2635362098614375, test SMAPE=0.11145031917370454\n",
            "Epoch 81: Loss=0.26792724678913754, test SMAPE=0.11136407936190659\n",
            "Epoch 82: Loss=0.26209035019079846, test SMAPE=0.1112840755963054\n",
            "Epoch 83: Loss=0.2670573095480601, test SMAPE=0.11122202497485616\n",
            "Epoch 84: Loss=0.2671557565530141, test SMAPE=0.11118772772968366\n",
            "Epoch 85: Loss=0.2620471914609273, test SMAPE=0.11119286911980206\n",
            "Epoch 86: Loss=0.26652580748001736, test SMAPE=0.11115352348546967\n",
            "Epoch 87: Loss=0.2700933317343394, test SMAPE=0.1110994226375705\n",
            "Epoch 88: Loss=0.268289918700854, test SMAPE=0.1111090195126872\n",
            "Epoch 89: Loss=0.2700243641932805, test SMAPE=0.11109664859944958\n",
            "Epoch 90: Loss=0.2700163722038269, test SMAPE=0.11111306204549704\n",
            "Epoch 91: Loss=0.26546088854471844, test SMAPE=0.11112911828417833\n",
            "Epoch 92: Loss=0.27432404458522797, test SMAPE=0.1111278701785845\n",
            "Epoch 93: Loss=0.2635389094551404, test SMAPE=0.11112634247998672\n",
            "Epoch 94: Loss=0.2681473642587662, test SMAPE=0.1111206670964083\n",
            "Epoch 95: Loss=0.26924299200375873, test SMAPE=0.111115409271578\n",
            "Epoch 96: Loss=0.27302107959985733, test SMAPE=0.11111471012154317\n",
            "Epoch 97: Loss=0.2642848367492358, test SMAPE=0.11111747389477511\n",
            "Epoch 98: Loss=0.26452376196781796, test SMAPE=0.11111758044098576\n",
            "Epoch 99: Loss=0.2733632947007815, test SMAPE=0.11111757233037722\n",
            "Finished Training\n"
          ],
          "name": "stdout"
        }
      ]
    },
    {
      "cell_type": "code",
      "metadata": {
        "colab": {
          "base_uri": "https://localhost:8080/"
        },
        "id": "z0inMBH5M2dg",
        "outputId": "8b0a55e7-a3c1-4c8c-86c6-7cabf89a2a74"
      },
      "source": [
        "calls_forecast = forecast(calls_train, calls_test, forecaster, 28 * 3, device)\n",
        "calls_metrics = metrics(calls_test, calls_forecast, scaler=scaler)\n",
        "calls_metrics.mean()"
      ],
      "execution_count": null,
      "outputs": [
        {
          "output_type": "execute_result",
          "data": {
            "text/plain": [
              "SMAPE       0.111118\n",
              "RMSE     1104.541935\n",
              "dtype: float64"
            ]
          },
          "metadata": {
            "tags": []
          },
          "execution_count": 39
        }
      ]
    },
    {
      "cell_type": "markdown",
      "metadata": {
        "id": "lkOeML39voyy"
      },
      "source": [
        "### Mean SMAPE"
      ]
    },
    {
      "cell_type": "code",
      "metadata": {
        "colab": {
          "base_uri": "https://localhost:8080/"
        },
        "id": "QSc-xUt4faxc",
        "outputId": "fcd3c73c-d309-4d1a-94a3-18f95244ff56"
      },
      "source": [
        "(4 * 0.169 + 4 * 0.419 + 2 * 0.449) / 10"
      ],
      "execution_count": null,
      "outputs": [
        {
          "output_type": "execute_result",
          "data": {
            "text/plain": [
              "0.325"
            ]
          },
          "metadata": {
            "tags": []
          },
          "execution_count": 40
        }
      ]
    },
    {
      "cell_type": "code",
      "metadata": {
        "colab": {
          "base_uri": "https://localhost:8080/"
        },
        "id": "r_bjo_1UEAa3",
        "outputId": "6b58e6a2-90d1-49d8-a33f-93539074a905"
      },
      "source": [
        "(4 * 0.095 + 4 * 0.364 + 2 * 0.088) / 10"
      ],
      "execution_count": null,
      "outputs": [
        {
          "output_type": "execute_result",
          "data": {
            "text/plain": [
              "0.2012"
            ]
          },
          "metadata": {
            "tags": []
          },
          "execution_count": 64
        }
      ]
    },
    {
      "cell_type": "markdown",
      "metadata": {
        "id": "gyhhVQ9r2j8e"
      },
      "source": [
        "### Chlorine Concentration (LSTM2LSTM)"
      ]
    },
    {
      "cell_type": "code",
      "metadata": {
        "colab": {
          "base_uri": "https://localhost:8080/"
        },
        "id": "irRCd49cuXsx",
        "outputId": "3034f87d-1385-4a0e-8230-98b12530aa17"
      },
      "source": [
        "EPOCHS = 50\n",
        "device = torch.device(\"cuda\")\n",
        "\n",
        "forecaster = LSTMForecaster(\n",
        "    horizon=28,\n",
        "    hidden=64,\n",
        "    device=device\n",
        ").to(device)\n",
        "optimizer = optim.Adam(forecaster.parameters())\n",
        "loss_function = nn.MSELoss()\n",
        "scheduler = optim.lr_scheduler.ReduceLROnPlateau(optimizer, patience=5, threshold=1e-4)\n",
        "\n",
        "\n",
        "train(\n",
        "    forecaster, \n",
        "    loss_function, \n",
        "    optimizer, \n",
        "    chlorcon_trainloader, \n",
        "    EPOCHS=EPOCHS, \n",
        "    device=device, \n",
        "    disp=True, \n",
        "    scheduler=scheduler, \n",
        "    df_test=chlorcon_test, \n",
        "    df_train=chlorcon_train,\n",
        "    context_length=28 * 3,\n",
        "    scaler=None\n",
        ")"
      ],
      "execution_count": null,
      "outputs": [
        {
          "output_type": "stream",
          "text": [
            "Epoch 0: Loss=0.17609192452260425, test SMAPE=1.347066026107311\n",
            "Epoch 1: Loss=0.05372020806093793, test SMAPE=1.3246597790223744\n",
            "Epoch 2: Loss=0.03602407488685388, test SMAPE=1.310747602535011\n",
            "Epoch 3: Loss=0.03015435753942846, test SMAPE=1.2975200268765257\n",
            "Epoch 4: Loss=0.026024646512590923, test SMAPE=1.312532983598149\n",
            "Epoch 5: Loss=0.021821193826886322, test SMAPE=1.3327059513051738\n",
            "Epoch 6: Loss=0.01852467970124313, test SMAPE=1.3434113110133183\n",
            "Epoch 7: Loss=0.015678928231636247, test SMAPE=1.365739105642741\n",
            "Epoch 8: Loss=0.013771739606182654, test SMAPE=1.3411591111696632\n",
            "Epoch 9: Loss=0.012393492853248513, test SMAPE=1.3312989114091374\n",
            "Epoch 10: Loss=0.011291495135442897, test SMAPE=1.326519867342608\n",
            "Epoch 11: Loss=0.010505376174882218, test SMAPE=1.3238935254790438\n",
            "Epoch 12: Loss=0.00965229040318793, test SMAPE=1.332963302578477\n",
            "Epoch 13: Loss=0.019562079184330426, test SMAPE=1.3276411695050305\n",
            "Epoch 14: Loss=0.009345965947096165, test SMAPE=1.3348296882245205\n",
            "Epoch 15: Loss=0.008629361801054124, test SMAPE=1.3297956949663667\n",
            "Epoch 16: Loss=0.008315596009021277, test SMAPE=1.3343039328295954\n",
            "Epoch 17: Loss=0.00791509680982147, test SMAPE=1.3330151344688057\n",
            "Epoch 18: Loss=0.00762585057252711, test SMAPE=1.3335721276221926\n",
            "Epoch 19: Loss=0.007415284968626041, test SMAPE=1.3389991199184954\n",
            "Epoch 20: Loss=0.007030947847230421, test SMAPE=1.3387894411697674\n",
            "Epoch 21: Loss=0.006752677722373507, test SMAPE=1.3419209063169024\n",
            "Epoch 22: Loss=0.009356468952782861, test SMAPE=1.3453156310924617\n",
            "Epoch 23: Loss=0.006140752779422226, test SMAPE=1.3407195965103773\n",
            "Epoch 24: Loss=0.006046033197256563, test SMAPE=1.3413848553190941\n",
            "Epoch 25: Loss=0.005978594676356067, test SMAPE=1.3509464520803935\n",
            "Epoch 26: Loss=0.005885500856931065, test SMAPE=1.3517252316154214\n",
            "Epoch 27: Loss=0.005732438235369685, test SMAPE=1.3545259923163997\n",
            "Epoch 28: Loss=0.005600907428415267, test SMAPE=1.3570476981888826\n",
            "Epoch 29: Loss=0.005412485935612694, test SMAPE=1.3618981586373224\n",
            "Epoch 30: Loss=0.0053113340359222105, test SMAPE=1.3620736892221672\n",
            "Epoch 31: Loss=0.005108924626608144, test SMAPE=1.3557871770199028\n",
            "Epoch 32: Loss=0.007342494275052469, test SMAPE=1.3585307081321123\n",
            "Epoch 33: Loss=0.004728490433522633, test SMAPE=1.3613467298513564\n",
            "Epoch 34: Loss=0.0047647155672925845, test SMAPE=1.3600438799703092\n",
            "Epoch 35: Loss=0.005047300295228814, test SMAPE=1.3566034782486187\n",
            "Epoch 36: Loss=0.00459718094258518, test SMAPE=1.3483572973316007\n",
            "Epoch 37: Loss=0.004486687491125949, test SMAPE=1.352811330753043\n",
            "Epoch 38: Loss=0.004446284319427642, test SMAPE=1.3490269644599138\n",
            "Epoch 39: Loss=0.004633734658217201, test SMAPE=1.3585270068476367\n",
            "Epoch 40: Loss=0.004254901674217903, test SMAPE=1.3491617660257926\n",
            "Epoch 41: Loss=0.004128146425380811, test SMAPE=1.3483917861567387\n",
            "Epoch 42: Loss=0.004191327261339341, test SMAPE=1.3392999809214088\n",
            "Epoch 43: Loss=0.004358661888617572, test SMAPE=1.3664220745568716\n",
            "Epoch 44: Loss=0.004240803027546013, test SMAPE=1.3458455329805168\n",
            "Epoch 45: Loss=0.004346444410179834, test SMAPE=1.3503588550671546\n",
            "Epoch 46: Loss=0.0038351087830960752, test SMAPE=1.346640270038392\n",
            "Epoch 47: Loss=0.003942625894426153, test SMAPE=1.3224681415679445\n",
            "Epoch 48: Loss=0.008137357401262436, test SMAPE=1.3228033266311259\n",
            "Epoch 49: Loss=0.0038715373683761763, test SMAPE=1.3276573599734303\n",
            "Finished Training\n"
          ],
          "name": "stdout"
        }
      ]
    },
    {
      "cell_type": "markdown",
      "metadata": {
        "id": "tHu5Lt6D2pIR"
      },
      "source": [
        "### Chlorine Concentration (MCNN2LSTM)"
      ]
    },
    {
      "cell_type": "code",
      "metadata": {
        "id": "GfCCHwWmxLZo"
      },
      "source": [
        "def objective(trial):\n",
        "    device = torch.device(\"cuda\")\n",
        "\n",
        "    kernels = trial.suggest_int('kernels', 16, 128)\n",
        "    lstm_hidden = trial.suggest_int('lstm_hidden', 16, 128)\n",
        "    kernel_size = trial.suggest_int('kernel_size', 3, 8)\n",
        "    pooling_factor = trial.suggest_int('pooling_factor', 2, 5)\n",
        "    pooling = trial.suggest_categorical(\"pooling\", [\"avg\", \"max\"])\n",
        "\n",
        "    forecaster = ConvLSTM(\n",
        "        context=28 * 3,\n",
        "        horizon=28,\n",
        "        smooth_degrees=[3, 7, 28],\n",
        "        ds_rates=[3, 7, 10],\n",
        "        kernels=kernels,\n",
        "        kernel_size=kernel_size,\n",
        "        pooling=pooling,\n",
        "        pooling_factor=pooling_factor,\n",
        "        lstm_hidden=lstm_hidden\n",
        "    ).to(device)\n",
        "    optimizer = optim.Adam(forecaster.parameters())\n",
        "    loss_function = nn.MSELoss()\n",
        "    scheduler = optim.lr_scheduler.ReduceLROnPlateau(optimizer, patience=5, threshold=1e-4)\n",
        "    train(forecaster, loss_function, optimizer, chlorcon_trainloader, EPOCHS=3, device=device, disp=False, scheduler=scheduler)\n",
        "\n",
        "    df_forecast = forecast(chlorcon_train, chlorcon_test, forecaster, 28 * 3, device)\n",
        "    df_metrics = metrics(chlorcon_test, df_forecast)\n",
        "    loss = df_metrics.mean()[\"SMAPE\"]\n",
        "\n",
        "    return loss"
      ],
      "execution_count": null,
      "outputs": []
    },
    {
      "cell_type": "code",
      "metadata": {
        "colab": {
          "base_uri": "https://localhost:8080/"
        },
        "id": "VliXgRxh3Fi_",
        "outputId": "c66a6f0c-046b-4a24-f07d-d044e5f080aa"
      },
      "source": [
        "study = optuna.create_study(direction='minimize')\n",
        "study.optimize(objective, n_trials=20)"
      ],
      "execution_count": null,
      "outputs": [
        {
          "output_type": "stream",
          "text": [
            "\u001b[32m[I 2021-06-28 23:05:32,160]\u001b[0m A new study created in memory with name: no-name-536a19a0-8dd7-40dc-a052-96a99408238a\u001b[0m\n",
            "\u001b[32m[I 2021-06-28 23:06:24,653]\u001b[0m Trial 0 finished with value: 1.3200064334740407 and parameters: {'kernels': 40, 'lstm_hidden': 75, 'kernel_size': 7, 'pooling_factor': 2, 'pooling': 'avg'}. Best is trial 0 with value: 1.3200064334740407.\u001b[0m\n"
          ],
          "name": "stderr"
        },
        {
          "output_type": "stream",
          "text": [
            "Finished Training\n"
          ],
          "name": "stdout"
        },
        {
          "output_type": "stream",
          "text": [
            "\u001b[32m[I 2021-06-28 23:07:24,016]\u001b[0m Trial 1 finished with value: 1.3064188346144874 and parameters: {'kernels': 116, 'lstm_hidden': 39, 'kernel_size': 5, 'pooling_factor': 5, 'pooling': 'avg'}. Best is trial 1 with value: 1.3064188346144874.\u001b[0m\n"
          ],
          "name": "stderr"
        },
        {
          "output_type": "stream",
          "text": [
            "Finished Training\n"
          ],
          "name": "stdout"
        },
        {
          "output_type": "stream",
          "text": [
            "\u001b[32m[I 2021-06-28 23:08:13,089]\u001b[0m Trial 2 finished with value: 1.285596193682334 and parameters: {'kernels': 16, 'lstm_hidden': 18, 'kernel_size': 5, 'pooling_factor': 5, 'pooling': 'avg'}. Best is trial 2 with value: 1.285596193682334.\u001b[0m\n"
          ],
          "name": "stderr"
        },
        {
          "output_type": "stream",
          "text": [
            "Finished Training\n"
          ],
          "name": "stdout"
        },
        {
          "output_type": "stream",
          "text": [
            "\u001b[32m[I 2021-06-28 23:09:06,130]\u001b[0m Trial 3 finished with value: 1.3341869853128703 and parameters: {'kernels': 96, 'lstm_hidden': 68, 'kernel_size': 5, 'pooling_factor': 4, 'pooling': 'avg'}. Best is trial 2 with value: 1.285596193682334.\u001b[0m\n"
          ],
          "name": "stderr"
        },
        {
          "output_type": "stream",
          "text": [
            "Finished Training\n"
          ],
          "name": "stdout"
        },
        {
          "output_type": "stream",
          "text": [
            "\u001b[32m[I 2021-06-28 23:09:59,080]\u001b[0m Trial 4 finished with value: 1.3377189989117821 and parameters: {'kernels': 87, 'lstm_hidden': 73, 'kernel_size': 3, 'pooling_factor': 2, 'pooling': 'max'}. Best is trial 2 with value: 1.285596193682334.\u001b[0m\n"
          ],
          "name": "stderr"
        },
        {
          "output_type": "stream",
          "text": [
            "Finished Training\n"
          ],
          "name": "stdout"
        },
        {
          "output_type": "stream",
          "text": [
            "\u001b[32m[I 2021-06-28 23:10:57,156]\u001b[0m Trial 5 finished with value: 1.3065943041423718 and parameters: {'kernels': 104, 'lstm_hidden': 47, 'kernel_size': 6, 'pooling_factor': 4, 'pooling': 'max'}. Best is trial 2 with value: 1.285596193682334.\u001b[0m\n"
          ],
          "name": "stderr"
        },
        {
          "output_type": "stream",
          "text": [
            "Finished Training\n"
          ],
          "name": "stdout"
        },
        {
          "output_type": "stream",
          "text": [
            "\u001b[32m[I 2021-06-28 23:11:54,645]\u001b[0m Trial 6 finished with value: 1.274043162091727 and parameters: {'kernels': 119, 'lstm_hidden': 24, 'kernel_size': 8, 'pooling_factor': 3, 'pooling': 'max'}. Best is trial 6 with value: 1.274043162091727.\u001b[0m\n"
          ],
          "name": "stderr"
        },
        {
          "output_type": "stream",
          "text": [
            "Finished Training\n"
          ],
          "name": "stdout"
        },
        {
          "output_type": "stream",
          "text": [
            "\u001b[32m[I 2021-06-28 23:12:55,084]\u001b[0m Trial 7 finished with value: 1.3238022160268699 and parameters: {'kernels': 121, 'lstm_hidden': 84, 'kernel_size': 4, 'pooling_factor': 3, 'pooling': 'max'}. Best is trial 6 with value: 1.274043162091727.\u001b[0m\n"
          ],
          "name": "stderr"
        },
        {
          "output_type": "stream",
          "text": [
            "Finished Training\n"
          ],
          "name": "stdout"
        },
        {
          "output_type": "stream",
          "text": [
            "\u001b[32m[I 2021-06-28 23:13:54,405]\u001b[0m Trial 8 finished with value: 1.351075149167121 and parameters: {'kernels': 100, 'lstm_hidden': 78, 'kernel_size': 4, 'pooling_factor': 5, 'pooling': 'max'}. Best is trial 6 with value: 1.274043162091727.\u001b[0m\n"
          ],
          "name": "stderr"
        },
        {
          "output_type": "stream",
          "text": [
            "Finished Training\n"
          ],
          "name": "stdout"
        },
        {
          "output_type": "stream",
          "text": [
            "\u001b[32m[I 2021-06-28 23:14:47,497]\u001b[0m Trial 9 finished with value: 1.306361693612912 and parameters: {'kernels': 51, 'lstm_hidden': 38, 'kernel_size': 7, 'pooling_factor': 4, 'pooling': 'max'}. Best is trial 6 with value: 1.274043162091727.\u001b[0m\n"
          ],
          "name": "stderr"
        },
        {
          "output_type": "stream",
          "text": [
            "Finished Training\n"
          ],
          "name": "stdout"
        },
        {
          "output_type": "stream",
          "text": [
            "\u001b[32m[I 2021-06-28 23:15:38,542]\u001b[0m Trial 10 finished with value: 1.341431609551299 and parameters: {'kernels': 70, 'lstm_hidden': 128, 'kernel_size': 8, 'pooling_factor': 3, 'pooling': 'max'}. Best is trial 6 with value: 1.274043162091727.\u001b[0m\n"
          ],
          "name": "stderr"
        },
        {
          "output_type": "stream",
          "text": [
            "Finished Training\n"
          ],
          "name": "stdout"
        },
        {
          "output_type": "stream",
          "text": [
            "\u001b[32m[I 2021-06-28 23:16:26,650]\u001b[0m Trial 11 finished with value: 1.331946594750193 and parameters: {'kernels': 17, 'lstm_hidden': 16, 'kernel_size': 8, 'pooling_factor': 3, 'pooling': 'avg'}. Best is trial 6 with value: 1.274043162091727.\u001b[0m\n"
          ],
          "name": "stderr"
        },
        {
          "output_type": "stream",
          "text": [
            "Finished Training\n"
          ],
          "name": "stdout"
        },
        {
          "output_type": "stream",
          "text": [
            "\u001b[32m[I 2021-06-28 23:17:15,737]\u001b[0m Trial 12 finished with value: 1.312660706581633 and parameters: {'kernels': 21, 'lstm_hidden': 18, 'kernel_size': 6, 'pooling_factor': 5, 'pooling': 'avg'}. Best is trial 6 with value: 1.274043162091727.\u001b[0m\n"
          ],
          "name": "stderr"
        },
        {
          "output_type": "stream",
          "text": [
            "Finished Training\n"
          ],
          "name": "stdout"
        },
        {
          "output_type": "stream",
          "text": [
            "\u001b[32m[I 2021-06-28 23:18:08,948]\u001b[0m Trial 13 finished with value: 1.2822274352553285 and parameters: {'kernels': 74, 'lstm_hidden': 18, 'kernel_size': 4, 'pooling_factor': 3, 'pooling': 'avg'}. Best is trial 6 with value: 1.274043162091727.\u001b[0m\n"
          ],
          "name": "stderr"
        },
        {
          "output_type": "stream",
          "text": [
            "Finished Training\n"
          ],
          "name": "stdout"
        },
        {
          "output_type": "stream",
          "text": [
            "\u001b[32m[I 2021-06-28 23:19:01,514]\u001b[0m Trial 14 finished with value: 1.328884661801376 and parameters: {'kernels': 70, 'lstm_hidden': 105, 'kernel_size': 3, 'pooling_factor': 2, 'pooling': 'max'}. Best is trial 6 with value: 1.274043162091727.\u001b[0m\n"
          ],
          "name": "stderr"
        },
        {
          "output_type": "stream",
          "text": [
            "Finished Training\n"
          ],
          "name": "stdout"
        },
        {
          "output_type": "stream",
          "text": [
            "\u001b[32m[I 2021-06-28 23:19:57,134]\u001b[0m Trial 15 finished with value: 1.3683874041043282 and parameters: {'kernels': 50, 'lstm_hidden': 33, 'kernel_size': 4, 'pooling_factor': 3, 'pooling': 'avg'}. Best is trial 6 with value: 1.274043162091727.\u001b[0m\n"
          ],
          "name": "stderr"
        },
        {
          "output_type": "stream",
          "text": [
            "Finished Training\n"
          ],
          "name": "stdout"
        },
        {
          "output_type": "stream",
          "text": [
            "\u001b[32m[I 2021-06-28 23:20:58,091]\u001b[0m Trial 16 finished with value: 1.382119709471546 and parameters: {'kernels': 128, 'lstm_hidden': 57, 'kernel_size': 3, 'pooling_factor': 3, 'pooling': 'avg'}. Best is trial 6 with value: 1.274043162091727.\u001b[0m\n"
          ],
          "name": "stderr"
        },
        {
          "output_type": "stream",
          "text": [
            "Finished Training\n"
          ],
          "name": "stdout"
        },
        {
          "output_type": "stream",
          "text": [
            "\u001b[32m[I 2021-06-28 23:21:49,176]\u001b[0m Trial 17 finished with value: 1.3507614616993897 and parameters: {'kernels': 79, 'lstm_hidden': 32, 'kernel_size': 7, 'pooling_factor': 4, 'pooling': 'max'}. Best is trial 6 with value: 1.274043162091727.\u001b[0m\n"
          ],
          "name": "stderr"
        },
        {
          "output_type": "stream",
          "text": [
            "Finished Training\n"
          ],
          "name": "stdout"
        },
        {
          "output_type": "stream",
          "text": [
            "\u001b[32m[I 2021-06-28 23:22:48,411]\u001b[0m Trial 18 finished with value: 1.322994024217716 and parameters: {'kernels': 112, 'lstm_hidden': 22, 'kernel_size': 4, 'pooling_factor': 2, 'pooling': 'avg'}. Best is trial 6 with value: 1.274043162091727.\u001b[0m\n"
          ],
          "name": "stderr"
        },
        {
          "output_type": "stream",
          "text": [
            "Finished Training\n"
          ],
          "name": "stdout"
        },
        {
          "output_type": "stream",
          "text": [
            "\u001b[32m[I 2021-06-28 23:23:44,380]\u001b[0m Trial 19 finished with value: 1.364301835219351 and parameters: {'kernels': 60, 'lstm_hidden': 52, 'kernel_size': 6, 'pooling_factor': 3, 'pooling': 'max'}. Best is trial 6 with value: 1.274043162091727.\u001b[0m\n"
          ],
          "name": "stderr"
        },
        {
          "output_type": "stream",
          "text": [
            "Finished Training\n"
          ],
          "name": "stdout"
        }
      ]
    },
    {
      "cell_type": "code",
      "metadata": {
        "colab": {
          "base_uri": "https://localhost:8080/"
        },
        "id": "XtMWg6cC3Ld9",
        "outputId": "2b49ac7e-1900-40b5-f107-a72fafedd02f"
      },
      "source": [
        "EPOCHS = 50\n",
        "device = torch.device(\"cuda\")\n",
        "\n",
        "forecaster = ConvLSTM(\n",
        "    context=28 * 3,\n",
        "    horizon=28,\n",
        "    smooth_degrees=[3, 7, 28],\n",
        "    ds_rates=[3, 7, 10],\n",
        "    kernels=119,\n",
        "    kernel_size=8,\n",
        "    pooling=\"max\",\n",
        "    pooling_factor=3,\n",
        "    lstm_hidden=24\n",
        ").to(device)\n",
        "optimizer = optim.Adam(forecaster.parameters())\n",
        "loss_function = nn.MSELoss()\n",
        "scheduler = optim.lr_scheduler.ReduceLROnPlateau(optimizer, patience=5, threshold=1e-4)\n",
        "\n",
        "\n",
        "train(\n",
        "    forecaster, \n",
        "    loss_function, \n",
        "    optimizer, \n",
        "    chlorcon_trainloader, \n",
        "    EPOCHS=EPOCHS, \n",
        "    device=device, \n",
        "    disp=True, \n",
        "    scheduler=scheduler, \n",
        "    df_test=chlorcon_test, \n",
        "    df_train=chlorcon_train,\n",
        "    context_length=28 * 3\n",
        ")"
      ],
      "execution_count": null,
      "outputs": [
        {
          "output_type": "stream",
          "text": [
            "Epoch 0: Loss=0.15465486519611799, test SMAPE=1.3109241488691579\n",
            "Epoch 1: Loss=0.056818393085684094, test SMAPE=1.298709899384571\n",
            "Epoch 2: Loss=0.04240746992629963, test SMAPE=1.3100173539267719\n",
            "Epoch 3: Loss=0.03434400140502296, test SMAPE=1.330554199401982\n",
            "Epoch 4: Loss=0.02926782201361525, test SMAPE=1.330422191221757\n",
            "Epoch 5: Loss=0.026544876957496445, test SMAPE=1.322087890574089\n",
            "Epoch 6: Loss=0.024212902133445163, test SMAPE=1.328713401989502\n",
            "Epoch 7: Loss=0.022392956466301458, test SMAPE=1.3393429101308156\n",
            "Epoch 8: Loss=0.020848290147362173, test SMAPE=1.3468502614833158\n",
            "Epoch 9: Loss=0.01957002602681354, test SMAPE=1.353599838720269\n",
            "Epoch 10: Loss=0.01860393586230802, test SMAPE=1.3667935154774606\n",
            "Epoch 11: Loss=0.017495882773137354, test SMAPE=1.3690952169743758\n",
            "Epoch 12: Loss=0.016654891553488406, test SMAPE=1.3676031553384966\n",
            "Epoch 13: Loss=0.01563334717609725, test SMAPE=1.38627990500225\n",
            "Epoch 14: Loss=0.014645460812927603, test SMAPE=1.374251885072516\n",
            "Epoch 15: Loss=0.013799733484348098, test SMAPE=1.3633634258493774\n",
            "Epoch 16: Loss=0.013073961729449884, test SMAPE=1.3618216789016806\n",
            "Epoch 17: Loss=0.012498938304546115, test SMAPE=1.3482275296154294\n",
            "Epoch 18: Loss=0.012006010944126072, test SMAPE=1.3494840161488373\n",
            "Epoch 19: Loss=0.011521489480203324, test SMAPE=1.3251730834685516\n",
            "Epoch 20: Loss=0.011096834677916306, test SMAPE=1.3200089290245378\n",
            "Epoch 21: Loss=0.010778665700210974, test SMAPE=1.3271122461113243\n",
            "Epoch 22: Loss=0.010559215355705429, test SMAPE=1.3307732328545345\n",
            "Epoch 23: Loss=0.010144820668130786, test SMAPE=1.322936028361182\n",
            "Epoch 24: Loss=0.009879935498011637, test SMAPE=1.3179558687620325\n",
            "Epoch 25: Loss=0.009582555212162353, test SMAPE=1.3098984207507\n",
            "Epoch 26: Loss=0.00929128783089774, test SMAPE=1.3089197436844369\n",
            "Epoch 27: Loss=0.009008891248031631, test SMAPE=1.3209831480488259\n",
            "Epoch 28: Loss=0.008788006782408927, test SMAPE=1.3330294205566087\n",
            "Epoch 29: Loss=0.008616358433737531, test SMAPE=1.3172845807351745\n",
            "Epoch 30: Loss=0.008381125196855474, test SMAPE=1.319549338184303\n",
            "Epoch 31: Loss=0.008156653686047911, test SMAPE=1.3235995513274772\n",
            "Epoch 32: Loss=0.008034886062595543, test SMAPE=1.3323742234087907\n",
            "Epoch 33: Loss=0.007836435307431352, test SMAPE=1.314926590581086\n",
            "Epoch 34: Loss=0.007640947319649078, test SMAPE=1.3364366718703253\n",
            "Epoch 35: Loss=0.007557773139778074, test SMAPE=1.3364687904913106\n",
            "Epoch 36: Loss=0.007355176851890245, test SMAPE=1.3509260992191117\n",
            "Epoch 37: Loss=0.007278368612853708, test SMAPE=1.3563878573241912\n",
            "Epoch 38: Loss=0.0072156296306095285, test SMAPE=1.3400153088146975\n",
            "Epoch 39: Loss=0.007002180394112737, test SMAPE=1.3550921711912427\n",
            "Epoch 40: Loss=0.006950107893323178, test SMAPE=1.3531884155239253\n",
            "Epoch 41: Loss=0.006806599744851445, test SMAPE=1.3249226536437517\n",
            "Epoch 42: Loss=0.006798294823166433, test SMAPE=1.3554780960244848\n",
            "Epoch 43: Loss=0.0065939742130237625, test SMAPE=1.3417252044439627\n",
            "Epoch 44: Loss=0.006516103596928028, test SMAPE=1.3637380117052968\n",
            "Epoch 45: Loss=0.006440326881564253, test SMAPE=1.3336486954531195\n",
            "Epoch 46: Loss=0.006323377097250668, test SMAPE=1.3310634575419242\n",
            "Epoch 47: Loss=0.006272826655921372, test SMAPE=1.3415219065163564\n",
            "Epoch 48: Loss=0.0061516625305207875, test SMAPE=1.3262037862607021\n",
            "Epoch 49: Loss=0.006091811639962943, test SMAPE=1.3228488825546563\n",
            "Finished Training\n"
          ],
          "name": "stdout"
        }
      ]
    },
    {
      "cell_type": "markdown",
      "metadata": {
        "id": "iA3bBj_0Cu5I"
      },
      "source": [
        "### Italy Power Demand (LSTM2LSTM)"
      ]
    },
    {
      "cell_type": "code",
      "metadata": {
        "colab": {
          "base_uri": "https://localhost:8080/"
        },
        "id": "xzNIIMSx8wtK",
        "outputId": "3addfb74-58e8-45e9-8482-d83383cb23db"
      },
      "source": [
        "EPOCHS = 50\n",
        "device = torch.device(\"cuda\")\n",
        "\n",
        "forecaster = LSTMForecaster(\n",
        "    horizon=6,\n",
        "    hidden=8,\n",
        "    device=device\n",
        ").to(device)\n",
        "optimizer = optim.Adam(forecaster.parameters())\n",
        "loss_function = nn.MSELoss()\n",
        "scheduler = optim.lr_scheduler.ReduceLROnPlateau(optimizer, patience=5, threshold=1e-4)\n",
        "\n",
        "\n",
        "train(\n",
        "    forecaster, \n",
        "    loss_function, \n",
        "    optimizer, \n",
        "    power_italy_trainloader, \n",
        "    EPOCHS=EPOCHS, \n",
        "    device=device, \n",
        "    disp=True, \n",
        "    scheduler=scheduler, \n",
        "    df_test=power_italy_test, \n",
        "    df_train=power_italy_train,\n",
        "    context_length=6 * 2,\n",
        "    scaler=None\n",
        ")"
      ],
      "execution_count": null,
      "outputs": [
        {
          "output_type": "stream",
          "text": [
            "Epoch 0: Loss=0.637777042388916, test SMAPE=1.6356396768144452\n",
            "Epoch 1: Loss=0.6130467295646668, test SMAPE=1.6419155325246837\n",
            "Epoch 2: Loss=0.5878894805908204, test SMAPE=1.649954886726358\n",
            "Epoch 3: Loss=0.5667909026145935, test SMAPE=1.660845293384791\n",
            "Epoch 4: Loss=0.5494748711585998, test SMAPE=1.6755753493847843\n",
            "Epoch 5: Loss=0.5165984451770782, test SMAPE=1.6956451630628686\n",
            "Epoch 6: Loss=0.49952889084815977, test SMAPE=1.723665350149656\n",
            "Epoch 7: Loss=0.4696254074573517, test SMAPE=1.7654507749160218\n",
            "Epoch 8: Loss=0.4534695506095886, test SMAPE=1.833480779573863\n",
            "Epoch 9: Loss=0.4217736482620239, test SMAPE=1.9048202482830567\n",
            "Epoch 10: Loss=0.4000580608844757, test SMAPE=1.7669098109424681\n",
            "Epoch 11: Loss=0.3701344311237335, test SMAPE=1.6397399252333904\n",
            "Epoch 12: Loss=0.3421397924423218, test SMAPE=1.5276074953528975\n",
            "Epoch 13: Loss=0.31169477105140686, test SMAPE=1.4314076432584117\n",
            "Epoch 14: Loss=0.2828073024749756, test SMAPE=1.350061805788182\n",
            "Epoch 15: Loss=0.2535977602005005, test SMAPE=1.2869858590660392\n",
            "Epoch 16: Loss=0.23839790523052215, test SMAPE=1.2392144546154626\n",
            "Epoch 17: Loss=0.22651822566986085, test SMAPE=1.2049587860880258\n",
            "Epoch 18: Loss=0.21985602378845215, test SMAPE=1.1825533301004214\n",
            "Epoch 19: Loss=0.21712013185024262, test SMAPE=1.1681874631051112\n",
            "Epoch 20: Loss=0.21643154323101044, test SMAPE=1.1603381957823513\n",
            "Epoch 21: Loss=0.2173362523317337, test SMAPE=1.15680239288373\n",
            "Epoch 22: Loss=0.2041550874710083, test SMAPE=1.1559553546376382\n",
            "Epoch 23: Loss=0.2097321182489395, test SMAPE=1.1553032454219896\n",
            "Epoch 24: Loss=0.2016089826822281, test SMAPE=1.1557514839351517\n",
            "Epoch 25: Loss=0.20316432416439056, test SMAPE=1.155264769726508\n",
            "Epoch 26: Loss=0.1986534297466278, test SMAPE=1.1542052457628174\n",
            "Epoch 27: Loss=0.1965448886156082, test SMAPE=1.151643318302883\n",
            "Epoch 28: Loss=0.19634732902050017, test SMAPE=1.1491559871903125\n",
            "Epoch 29: Loss=0.19853445887565613, test SMAPE=1.1468175151026063\n",
            "Epoch 30: Loss=0.19393743574619293, test SMAPE=1.1457051526021234\n",
            "Epoch 31: Loss=0.18839758932590484, test SMAPE=1.1446850367719192\n",
            "Epoch 32: Loss=0.18672266900539397, test SMAPE=1.1437951394642714\n",
            "Epoch 33: Loss=0.18204949498176576, test SMAPE=1.1425409806424927\n",
            "Epoch 34: Loss=0.18289393782615662, test SMAPE=1.1409502859846594\n",
            "Epoch 35: Loss=0.17487360239028932, test SMAPE=1.139425567335701\n",
            "Epoch 36: Loss=0.18397926390171052, test SMAPE=1.1383354192707298\n",
            "Epoch 37: Loss=0.17644696533679963, test SMAPE=1.1387705207739625\n",
            "Epoch 38: Loss=0.1693990170955658, test SMAPE=1.1397522885545197\n",
            "Epoch 39: Loss=0.17377181053161622, test SMAPE=1.1395511842455324\n",
            "Epoch 40: Loss=0.17162614464759826, test SMAPE=1.1403779942145922\n",
            "Epoch 41: Loss=0.1677642732858658, test SMAPE=1.139924948042141\n",
            "Epoch 42: Loss=0.16463490724563598, test SMAPE=1.1394829712141052\n",
            "Epoch 43: Loss=0.16391490697860717, test SMAPE=1.1403671750383142\n",
            "Epoch 44: Loss=0.15379583686590195, test SMAPE=1.1426355265112036\n",
            "Epoch 45: Loss=0.16112442016601564, test SMAPE=1.145140572200673\n",
            "Epoch 46: Loss=0.15660482347011567, test SMAPE=1.1483854450038165\n",
            "Epoch 47: Loss=0.15557422041893004, test SMAPE=1.151513596467648\n",
            "Epoch 48: Loss=0.15364802181720733, test SMAPE=1.1533791137522402\n",
            "Epoch 49: Loss=0.15251285433769227, test SMAPE=1.1562421828531266\n",
            "Finished Training\n"
          ],
          "name": "stdout"
        }
      ]
    },
    {
      "cell_type": "markdown",
      "metadata": {
        "id": "VHa_bMdfDpXo"
      },
      "source": [
        "### Italy Power Demand (MCNN2LSTM)"
      ]
    },
    {
      "cell_type": "code",
      "metadata": {
        "id": "s3y400ZrC91k"
      },
      "source": [
        "def objective(trial):\n",
        "    device = torch.device(\"cuda\")\n",
        "\n",
        "    kernels = trial.suggest_int('kernels', 8, 128)\n",
        "    lstm_hidden = trial.suggest_int('lstm_hidden', 8, 128)\n",
        "    kernel_size = trial.suggest_int('kernel_size', 2, 8)\n",
        "    pooling_factor = trial.suggest_int('pooling_factor', 2, 5)\n",
        "    pooling = trial.suggest_categorical(\"pooling\", [\"avg\", \"max\"])\n",
        "\n",
        "    forecaster = ConvLSTM(\n",
        "        context=12,\n",
        "        horizon=6,\n",
        "        smooth_degrees=[3, 4, 5],\n",
        "        ds_rates=[],\n",
        "        kernels=kernels,\n",
        "        kernel_size=kernel_size,\n",
        "        pooling=pooling,\n",
        "        pooling_factor=pooling_factor,\n",
        "        lstm_hidden=lstm_hidden\n",
        "    ).to(device)\n",
        "    optimizer = optim.Adam(forecaster.parameters())\n",
        "    loss_function = nn.MSELoss()\n",
        "    scheduler = optim.lr_scheduler.ReduceLROnPlateau(optimizer, patience=5, threshold=1e-4)\n",
        "    train(forecaster, loss_function, optimizer, power_italy_trainloader, EPOCHS=50, device=device, disp=False, scheduler=scheduler)\n",
        "\n",
        "    df_forecast = forecast(power_italy_train, power_italy_test, forecaster, 6 * 2, device)\n",
        "    df_metrics = metrics(power_italy_test, df_forecast)\n",
        "    loss = df_metrics.mean()[\"SMAPE\"]\n",
        "\n",
        "    return loss"
      ],
      "execution_count": null,
      "outputs": []
    },
    {
      "cell_type": "code",
      "metadata": {
        "colab": {
          "base_uri": "https://localhost:8080/"
        },
        "id": "XD0pMsViETHt",
        "outputId": "cce55f5a-70e2-4fdf-979e-4fa316546d93"
      },
      "source": [
        "study = optuna.create_study(direction='minimize')\n",
        "study.optimize(objective, n_trials=100)"
      ],
      "execution_count": null,
      "outputs": [
        {
          "output_type": "stream",
          "text": [
            "\u001b[32m[I 2021-06-29 00:05:27,617]\u001b[0m A new study created in memory with name: no-name-8b2564d3-2159-4eaa-b93b-fcac6cd4b39a\u001b[0m\n",
            "\u001b[32m[I 2021-06-29 00:05:35,494]\u001b[0m Trial 0 finished with value: 1.6541461910511093 and parameters: {'kernels': 53, 'lstm_hidden': 86, 'kernel_size': 5, 'pooling_factor': 4, 'pooling': 'avg'}. Best is trial 0 with value: 1.6541461910511093.\u001b[0m\n"
          ],
          "name": "stderr"
        },
        {
          "output_type": "stream",
          "text": [
            "Finished Training\n"
          ],
          "name": "stdout"
        },
        {
          "output_type": "stream",
          "text": [
            "\u001b[32m[I 2021-06-29 00:05:43,470]\u001b[0m Trial 1 finished with value: 1.737844499976146 and parameters: {'kernels': 51, 'lstm_hidden': 94, 'kernel_size': 3, 'pooling_factor': 3, 'pooling': 'avg'}. Best is trial 0 with value: 1.6541461910511093.\u001b[0m\n"
          ],
          "name": "stderr"
        },
        {
          "output_type": "stream",
          "text": [
            "Finished Training\n"
          ],
          "name": "stdout"
        },
        {
          "output_type": "stream",
          "text": [
            "\u001b[32m[I 2021-06-29 00:05:51,255]\u001b[0m Trial 2 finished with value: 1.6846048807040273 and parameters: {'kernels': 105, 'lstm_hidden': 24, 'kernel_size': 6, 'pooling_factor': 5, 'pooling': 'max'}. Best is trial 0 with value: 1.6541461910511093.\u001b[0m\n"
          ],
          "name": "stderr"
        },
        {
          "output_type": "stream",
          "text": [
            "Finished Training\n"
          ],
          "name": "stdout"
        },
        {
          "output_type": "stream",
          "text": [
            "\u001b[32m[I 2021-06-29 00:05:58,999]\u001b[0m Trial 3 finished with value: 1.6868843389577834 and parameters: {'kernels': 63, 'lstm_hidden': 53, 'kernel_size': 7, 'pooling_factor': 5, 'pooling': 'avg'}. Best is trial 0 with value: 1.6541461910511093.\u001b[0m\n"
          ],
          "name": "stderr"
        },
        {
          "output_type": "stream",
          "text": [
            "Finished Training\n"
          ],
          "name": "stdout"
        },
        {
          "output_type": "stream",
          "text": [
            "\u001b[32m[I 2021-06-29 00:06:06,796]\u001b[0m Trial 4 finished with value: 1.7292907622708948 and parameters: {'kernels': 79, 'lstm_hidden': 84, 'kernel_size': 4, 'pooling_factor': 5, 'pooling': 'max'}. Best is trial 0 with value: 1.6541461910511093.\u001b[0m\n"
          ],
          "name": "stderr"
        },
        {
          "output_type": "stream",
          "text": [
            "Finished Training\n"
          ],
          "name": "stdout"
        },
        {
          "output_type": "stream",
          "text": [
            "\u001b[32m[I 2021-06-29 00:06:14,746]\u001b[0m Trial 5 finished with value: 1.7458943603180648 and parameters: {'kernels': 63, 'lstm_hidden': 61, 'kernel_size': 3, 'pooling_factor': 2, 'pooling': 'avg'}. Best is trial 0 with value: 1.6541461910511093.\u001b[0m\n"
          ],
          "name": "stderr"
        },
        {
          "output_type": "stream",
          "text": [
            "Finished Training\n"
          ],
          "name": "stdout"
        },
        {
          "output_type": "stream",
          "text": [
            "\u001b[32m[I 2021-06-29 00:06:22,613]\u001b[0m Trial 6 finished with value: 1.6232679511701973 and parameters: {'kernels': 88, 'lstm_hidden': 110, 'kernel_size': 6, 'pooling_factor': 5, 'pooling': 'avg'}. Best is trial 6 with value: 1.6232679511701973.\u001b[0m\n"
          ],
          "name": "stderr"
        },
        {
          "output_type": "stream",
          "text": [
            "Finished Training\n"
          ],
          "name": "stdout"
        },
        {
          "output_type": "stream",
          "text": [
            "\u001b[32m[I 2021-06-29 00:06:30,541]\u001b[0m Trial 7 finished with value: 1.6667759321836415 and parameters: {'kernels': 33, 'lstm_hidden': 11, 'kernel_size': 3, 'pooling_factor': 3, 'pooling': 'max'}. Best is trial 6 with value: 1.6232679511701973.\u001b[0m\n"
          ],
          "name": "stderr"
        },
        {
          "output_type": "stream",
          "text": [
            "Finished Training\n"
          ],
          "name": "stdout"
        },
        {
          "output_type": "stream",
          "text": [
            "\u001b[32m[I 2021-06-29 00:06:38,304]\u001b[0m Trial 8 finished with value: 1.7206664163702747 and parameters: {'kernels': 19, 'lstm_hidden': 69, 'kernel_size': 4, 'pooling_factor': 4, 'pooling': 'max'}. Best is trial 6 with value: 1.6232679511701973.\u001b[0m\n"
          ],
          "name": "stderr"
        },
        {
          "output_type": "stream",
          "text": [
            "Finished Training\n"
          ],
          "name": "stdout"
        },
        {
          "output_type": "stream",
          "text": [
            "\u001b[32m[I 2021-06-29 00:06:46,314]\u001b[0m Trial 9 finished with value: 1.705663393328023 and parameters: {'kernels': 41, 'lstm_hidden': 15, 'kernel_size': 2, 'pooling_factor': 4, 'pooling': 'avg'}. Best is trial 6 with value: 1.6232679511701973.\u001b[0m\n"
          ],
          "name": "stderr"
        },
        {
          "output_type": "stream",
          "text": [
            "Finished Training\n"
          ],
          "name": "stdout"
        },
        {
          "output_type": "stream",
          "text": [
            "\u001b[32m[I 2021-06-29 00:06:54,181]\u001b[0m Trial 10 finished with value: 1.653187554596377 and parameters: {'kernels': 126, 'lstm_hidden': 128, 'kernel_size': 8, 'pooling_factor': 2, 'pooling': 'avg'}. Best is trial 6 with value: 1.6232679511701973.\u001b[0m\n"
          ],
          "name": "stderr"
        },
        {
          "output_type": "stream",
          "text": [
            "Finished Training\n"
          ],
          "name": "stdout"
        },
        {
          "output_type": "stream",
          "text": [
            "\u001b[32m[I 2021-06-29 00:07:02,122]\u001b[0m Trial 11 finished with value: 1.7112159914391407 and parameters: {'kernels': 120, 'lstm_hidden': 128, 'kernel_size': 8, 'pooling_factor': 2, 'pooling': 'avg'}. Best is trial 6 with value: 1.6232679511701973.\u001b[0m\n"
          ],
          "name": "stderr"
        },
        {
          "output_type": "stream",
          "text": [
            "Finished Training\n"
          ],
          "name": "stdout"
        },
        {
          "output_type": "stream",
          "text": [
            "\u001b[32m[I 2021-06-29 00:07:09,953]\u001b[0m Trial 12 finished with value: 1.6769576334340417 and parameters: {'kernels': 93, 'lstm_hidden': 125, 'kernel_size': 7, 'pooling_factor': 2, 'pooling': 'avg'}. Best is trial 6 with value: 1.6232679511701973.\u001b[0m\n"
          ],
          "name": "stderr"
        },
        {
          "output_type": "stream",
          "text": [
            "Finished Training\n"
          ],
          "name": "stdout"
        },
        {
          "output_type": "stream",
          "text": [
            "\u001b[32m[I 2021-06-29 00:07:17,821]\u001b[0m Trial 13 finished with value: 1.5447046866736054 and parameters: {'kernels': 128, 'lstm_hidden': 112, 'kernel_size': 8, 'pooling_factor': 3, 'pooling': 'avg'}. Best is trial 13 with value: 1.5447046866736054.\u001b[0m\n"
          ],
          "name": "stderr"
        },
        {
          "output_type": "stream",
          "text": [
            "Finished Training\n"
          ],
          "name": "stdout"
        },
        {
          "output_type": "stream",
          "text": [
            "\u001b[32m[I 2021-06-29 00:07:25,892]\u001b[0m Trial 14 finished with value: 1.6421573309819386 and parameters: {'kernels': 109, 'lstm_hidden': 110, 'kernel_size': 6, 'pooling_factor': 3, 'pooling': 'avg'}. Best is trial 13 with value: 1.5447046866736054.\u001b[0m\n"
          ],
          "name": "stderr"
        },
        {
          "output_type": "stream",
          "text": [
            "Finished Training\n"
          ],
          "name": "stdout"
        },
        {
          "output_type": "stream",
          "text": [
            "\u001b[32m[I 2021-06-29 00:07:33,961]\u001b[0m Trial 15 finished with value: 1.625637996605524 and parameters: {'kernels': 82, 'lstm_hidden': 108, 'kernel_size': 7, 'pooling_factor': 3, 'pooling': 'avg'}. Best is trial 13 with value: 1.5447046866736054.\u001b[0m\n"
          ],
          "name": "stderr"
        },
        {
          "output_type": "stream",
          "text": [
            "Finished Training\n"
          ],
          "name": "stdout"
        },
        {
          "output_type": "stream",
          "text": [
            "\u001b[32m[I 2021-06-29 00:07:42,004]\u001b[0m Trial 16 finished with value: 1.6453597539487388 and parameters: {'kernels': 127, 'lstm_hidden': 110, 'kernel_size': 6, 'pooling_factor': 4, 'pooling': 'avg'}. Best is trial 13 with value: 1.5447046866736054.\u001b[0m\n"
          ],
          "name": "stderr"
        },
        {
          "output_type": "stream",
          "text": [
            "Finished Training\n"
          ],
          "name": "stdout"
        },
        {
          "output_type": "stream",
          "text": [
            "\u001b[32m[I 2021-06-29 00:07:49,988]\u001b[0m Trial 17 finished with value: 1.621491232317819 and parameters: {'kernels': 98, 'lstm_hidden': 100, 'kernel_size': 8, 'pooling_factor': 3, 'pooling': 'avg'}. Best is trial 13 with value: 1.5447046866736054.\u001b[0m\n"
          ],
          "name": "stderr"
        },
        {
          "output_type": "stream",
          "text": [
            "Finished Training\n"
          ],
          "name": "stdout"
        },
        {
          "output_type": "stream",
          "text": [
            "\u001b[32m[I 2021-06-29 00:07:58,058]\u001b[0m Trial 18 finished with value: 1.6108314831851396 and parameters: {'kernels': 106, 'lstm_hidden': 97, 'kernel_size': 8, 'pooling_factor': 3, 'pooling': 'avg'}. Best is trial 13 with value: 1.5447046866736054.\u001b[0m\n"
          ],
          "name": "stderr"
        },
        {
          "output_type": "stream",
          "text": [
            "Finished Training\n"
          ],
          "name": "stdout"
        },
        {
          "output_type": "stream",
          "text": [
            "\u001b[32m[I 2021-06-29 00:08:06,039]\u001b[0m Trial 19 finished with value: 1.6176169216225078 and parameters: {'kernels': 113, 'lstm_hidden': 77, 'kernel_size': 8, 'pooling_factor': 3, 'pooling': 'avg'}. Best is trial 13 with value: 1.5447046866736054.\u001b[0m\n"
          ],
          "name": "stderr"
        },
        {
          "output_type": "stream",
          "text": [
            "Finished Training\n"
          ],
          "name": "stdout"
        },
        {
          "output_type": "stream",
          "text": [
            "\u001b[32m[I 2021-06-29 00:08:14,039]\u001b[0m Trial 20 finished with value: 1.5090755186701592 and parameters: {'kernels': 117, 'lstm_hidden': 48, 'kernel_size': 7, 'pooling_factor': 4, 'pooling': 'avg'}. Best is trial 20 with value: 1.5090755186701592.\u001b[0m\n"
          ],
          "name": "stderr"
        },
        {
          "output_type": "stream",
          "text": [
            "Finished Training\n"
          ],
          "name": "stdout"
        },
        {
          "output_type": "stream",
          "text": [
            "\u001b[32m[I 2021-06-29 00:08:22,178]\u001b[0m Trial 21 finished with value: 1.6407828854907334 and parameters: {'kernels': 117, 'lstm_hidden': 44, 'kernel_size': 7, 'pooling_factor': 4, 'pooling': 'avg'}. Best is trial 20 with value: 1.5090755186701592.\u001b[0m\n"
          ],
          "name": "stderr"
        },
        {
          "output_type": "stream",
          "text": [
            "Finished Training\n"
          ],
          "name": "stdout"
        },
        {
          "output_type": "stream",
          "text": [
            "\u001b[32m[I 2021-06-29 00:08:30,328]\u001b[0m Trial 22 finished with value: 1.7420598564103802 and parameters: {'kernels': 128, 'lstm_hidden': 28, 'kernel_size': 8, 'pooling_factor': 3, 'pooling': 'avg'}. Best is trial 20 with value: 1.5090755186701592.\u001b[0m\n"
          ],
          "name": "stderr"
        },
        {
          "output_type": "stream",
          "text": [
            "Finished Training\n"
          ],
          "name": "stdout"
        },
        {
          "output_type": "stream",
          "text": [
            "\u001b[32m[I 2021-06-29 00:08:38,425]\u001b[0m Trial 23 finished with value: 1.6252364939047674 and parameters: {'kernels': 102, 'lstm_hidden': 40, 'kernel_size': 7, 'pooling_factor': 4, 'pooling': 'avg'}. Best is trial 20 with value: 1.5090755186701592.\u001b[0m\n"
          ],
          "name": "stderr"
        },
        {
          "output_type": "stream",
          "text": [
            "Finished Training\n"
          ],
          "name": "stdout"
        },
        {
          "output_type": "stream",
          "text": [
            "\u001b[32m[I 2021-06-29 00:08:46,490]\u001b[0m Trial 24 finished with value: 1.6110987999964668 and parameters: {'kernels': 118, 'lstm_hidden': 120, 'kernel_size': 8, 'pooling_factor': 3, 'pooling': 'avg'}. Best is trial 20 with value: 1.5090755186701592.\u001b[0m\n"
          ],
          "name": "stderr"
        },
        {
          "output_type": "stream",
          "text": [
            "Finished Training\n"
          ],
          "name": "stdout"
        },
        {
          "output_type": "stream",
          "text": [
            "\u001b[32m[I 2021-06-29 00:08:54,610]\u001b[0m Trial 25 finished with value: 1.6251740259803051 and parameters: {'kernels': 128, 'lstm_hidden': 68, 'kernel_size': 7, 'pooling_factor': 4, 'pooling': 'avg'}. Best is trial 20 with value: 1.5090755186701592.\u001b[0m\n"
          ],
          "name": "stderr"
        },
        {
          "output_type": "stream",
          "text": [
            "Finished Training\n"
          ],
          "name": "stdout"
        },
        {
          "output_type": "stream",
          "text": [
            "\u001b[32m[I 2021-06-29 00:09:02,767]\u001b[0m Trial 26 finished with value: 1.7227313485871734 and parameters: {'kernels': 76, 'lstm_hidden': 97, 'kernel_size': 5, 'pooling_factor': 3, 'pooling': 'avg'}. Best is trial 20 with value: 1.5090755186701592.\u001b[0m\n"
          ],
          "name": "stderr"
        },
        {
          "output_type": "stream",
          "text": [
            "Finished Training\n"
          ],
          "name": "stdout"
        },
        {
          "output_type": "stream",
          "text": [
            "\u001b[32m[I 2021-06-29 00:09:10,903]\u001b[0m Trial 27 finished with value: 1.6347771038786634 and parameters: {'kernels': 108, 'lstm_hidden': 52, 'kernel_size': 8, 'pooling_factor': 4, 'pooling': 'max'}. Best is trial 20 with value: 1.5090755186701592.\u001b[0m\n"
          ],
          "name": "stderr"
        },
        {
          "output_type": "stream",
          "text": [
            "Finished Training\n"
          ],
          "name": "stdout"
        },
        {
          "output_type": "stream",
          "text": [
            "\u001b[32m[I 2021-06-29 00:09:19,092]\u001b[0m Trial 28 finished with value: 1.7197098519425031 and parameters: {'kernels': 94, 'lstm_hidden': 119, 'kernel_size': 7, 'pooling_factor': 2, 'pooling': 'avg'}. Best is trial 20 with value: 1.5090755186701592.\u001b[0m\n"
          ],
          "name": "stderr"
        },
        {
          "output_type": "stream",
          "text": [
            "Finished Training\n"
          ],
          "name": "stdout"
        },
        {
          "output_type": "stream",
          "text": [
            "\u001b[32m[I 2021-06-29 00:09:27,511]\u001b[0m Trial 29 finished with value: 1.6378369146709528 and parameters: {'kernels': 122, 'lstm_hidden': 86, 'kernel_size': 5, 'pooling_factor': 4, 'pooling': 'avg'}. Best is trial 20 with value: 1.5090755186701592.\u001b[0m\n"
          ],
          "name": "stderr"
        },
        {
          "output_type": "stream",
          "text": [
            "Finished Training\n"
          ],
          "name": "stdout"
        },
        {
          "output_type": "stream",
          "text": [
            "\u001b[32m[I 2021-06-29 00:09:36,083]\u001b[0m Trial 30 finished with value: 1.6369658653891843 and parameters: {'kernels': 112, 'lstm_hidden': 87, 'kernel_size': 6, 'pooling_factor': 3, 'pooling': 'avg'}. Best is trial 20 with value: 1.5090755186701592.\u001b[0m\n"
          ],
          "name": "stderr"
        },
        {
          "output_type": "stream",
          "text": [
            "Finished Training\n"
          ],
          "name": "stdout"
        },
        {
          "output_type": "stream",
          "text": [
            "\u001b[32m[I 2021-06-29 00:09:44,443]\u001b[0m Trial 31 finished with value: 1.5866138699396934 and parameters: {'kernels': 119, 'lstm_hidden': 118, 'kernel_size': 8, 'pooling_factor': 3, 'pooling': 'avg'}. Best is trial 20 with value: 1.5090755186701592.\u001b[0m\n"
          ],
          "name": "stderr"
        },
        {
          "output_type": "stream",
          "text": [
            "Finished Training\n"
          ],
          "name": "stdout"
        },
        {
          "output_type": "stream",
          "text": [
            "\u001b[32m[I 2021-06-29 00:09:52,689]\u001b[0m Trial 32 finished with value: 1.618182708365166 and parameters: {'kernels': 102, 'lstm_hidden': 101, 'kernel_size': 8, 'pooling_factor': 3, 'pooling': 'avg'}. Best is trial 20 with value: 1.5090755186701592.\u001b[0m\n"
          ],
          "name": "stderr"
        },
        {
          "output_type": "stream",
          "text": [
            "Finished Training\n"
          ],
          "name": "stdout"
        },
        {
          "output_type": "stream",
          "text": [
            "\u001b[32m[I 2021-06-29 00:10:00,969]\u001b[0m Trial 33 finished with value: 1.6295456906858903 and parameters: {'kernels': 117, 'lstm_hidden': 120, 'kernel_size': 8, 'pooling_factor': 3, 'pooling': 'avg'}. Best is trial 20 with value: 1.5090755186701592.\u001b[0m\n"
          ],
          "name": "stderr"
        },
        {
          "output_type": "stream",
          "text": [
            "Finished Training\n"
          ],
          "name": "stdout"
        },
        {
          "output_type": "stream",
          "text": [
            "\u001b[32m[I 2021-06-29 00:10:09,413]\u001b[0m Trial 34 finished with value: 1.6354860090026706 and parameters: {'kernels': 128, 'lstm_hidden': 38, 'kernel_size': 7, 'pooling_factor': 3, 'pooling': 'avg'}. Best is trial 20 with value: 1.5090755186701592.\u001b[0m\n"
          ],
          "name": "stderr"
        },
        {
          "output_type": "stream",
          "text": [
            "Finished Training\n"
          ],
          "name": "stdout"
        },
        {
          "output_type": "stream",
          "text": [
            "\u001b[32m[I 2021-06-29 00:10:17,926]\u001b[0m Trial 35 finished with value: 1.7057004149630492 and parameters: {'kernels': 109, 'lstm_hidden': 93, 'kernel_size': 8, 'pooling_factor': 4, 'pooling': 'avg'}. Best is trial 20 with value: 1.5090755186701592.\u001b[0m\n"
          ],
          "name": "stderr"
        },
        {
          "output_type": "stream",
          "text": [
            "Finished Training\n"
          ],
          "name": "stdout"
        },
        {
          "output_type": "stream",
          "text": [
            "\u001b[32m[I 2021-06-29 00:10:27,181]\u001b[0m Trial 36 finished with value: 1.6723668632716355 and parameters: {'kernels': 87, 'lstm_hidden': 76, 'kernel_size': 7, 'pooling_factor': 2, 'pooling': 'max'}. Best is trial 20 with value: 1.5090755186701592.\u001b[0m\n"
          ],
          "name": "stderr"
        },
        {
          "output_type": "stream",
          "text": [
            "Finished Training\n"
          ],
          "name": "stdout"
        },
        {
          "output_type": "stream",
          "text": [
            "\u001b[32m[I 2021-06-29 00:10:36,211]\u001b[0m Trial 37 finished with value: 1.6948848632522333 and parameters: {'kernels': 122, 'lstm_hidden': 61, 'kernel_size': 6, 'pooling_factor': 5, 'pooling': 'avg'}. Best is trial 20 with value: 1.5090755186701592.\u001b[0m\n"
          ],
          "name": "stderr"
        },
        {
          "output_type": "stream",
          "text": [
            "Finished Training\n"
          ],
          "name": "stdout"
        },
        {
          "output_type": "stream",
          "text": [
            "\u001b[32m[I 2021-06-29 00:10:44,834]\u001b[0m Trial 38 finished with value: 1.6429642971013856 and parameters: {'kernels': 73, 'lstm_hidden': 105, 'kernel_size': 8, 'pooling_factor': 3, 'pooling': 'avg'}. Best is trial 20 with value: 1.5090755186701592.\u001b[0m\n"
          ],
          "name": "stderr"
        },
        {
          "output_type": "stream",
          "text": [
            "Finished Training\n"
          ],
          "name": "stdout"
        },
        {
          "output_type": "stream",
          "text": [
            "\u001b[32m[I 2021-06-29 00:10:53,643]\u001b[0m Trial 39 finished with value: 1.6844919169910149 and parameters: {'kernels': 51, 'lstm_hidden': 114, 'kernel_size': 7, 'pooling_factor': 3, 'pooling': 'avg'}. Best is trial 20 with value: 1.5090755186701592.\u001b[0m\n"
          ],
          "name": "stderr"
        },
        {
          "output_type": "stream",
          "text": [
            "Finished Training\n"
          ],
          "name": "stdout"
        },
        {
          "output_type": "stream",
          "text": [
            "\u001b[32m[I 2021-06-29 00:11:02,166]\u001b[0m Trial 40 finished with value: 1.675119891289964 and parameters: {'kernels': 101, 'lstm_hidden': 92, 'kernel_size': 8, 'pooling_factor': 3, 'pooling': 'max'}. Best is trial 20 with value: 1.5090755186701592.\u001b[0m\n"
          ],
          "name": "stderr"
        },
        {
          "output_type": "stream",
          "text": [
            "Finished Training\n"
          ],
          "name": "stdout"
        },
        {
          "output_type": "stream",
          "text": [
            "\u001b[32m[I 2021-06-29 00:11:10,727]\u001b[0m Trial 41 finished with value: 1.6162869663423751 and parameters: {'kernels': 116, 'lstm_hidden': 117, 'kernel_size': 8, 'pooling_factor': 3, 'pooling': 'avg'}. Best is trial 20 with value: 1.5090755186701592.\u001b[0m\n"
          ],
          "name": "stderr"
        },
        {
          "output_type": "stream",
          "text": [
            "Finished Training\n"
          ],
          "name": "stdout"
        },
        {
          "output_type": "stream",
          "text": [
            "\u001b[32m[I 2021-06-29 00:11:19,302]\u001b[0m Trial 42 finished with value: 1.6276212461203874 and parameters: {'kernels': 121, 'lstm_hidden': 120, 'kernel_size': 8, 'pooling_factor': 3, 'pooling': 'avg'}. Best is trial 20 with value: 1.5090755186701592.\u001b[0m\n"
          ],
          "name": "stderr"
        },
        {
          "output_type": "stream",
          "text": [
            "Finished Training\n"
          ],
          "name": "stdout"
        },
        {
          "output_type": "stream",
          "text": [
            "\u001b[32m[I 2021-06-29 00:11:27,999]\u001b[0m Trial 43 finished with value: 1.6257356472733062 and parameters: {'kernels': 105, 'lstm_hidden': 125, 'kernel_size': 7, 'pooling_factor': 4, 'pooling': 'avg'}. Best is trial 20 with value: 1.5090755186701592.\u001b[0m\n"
          ],
          "name": "stderr"
        },
        {
          "output_type": "stream",
          "text": [
            "Finished Training\n"
          ],
          "name": "stdout"
        },
        {
          "output_type": "stream",
          "text": [
            "\u001b[32m[I 2021-06-29 00:11:36,564]\u001b[0m Trial 44 finished with value: 1.6801548803340975 and parameters: {'kernels': 8, 'lstm_hidden': 103, 'kernel_size': 4, 'pooling_factor': 3, 'pooling': 'avg'}. Best is trial 20 with value: 1.5090755186701592.\u001b[0m\n"
          ],
          "name": "stderr"
        },
        {
          "output_type": "stream",
          "text": [
            "Finished Training\n"
          ],
          "name": "stdout"
        },
        {
          "output_type": "stream",
          "text": [
            "\u001b[32m[I 2021-06-29 00:11:45,290]\u001b[0m Trial 45 finished with value: 1.6363668147506227 and parameters: {'kernels': 121, 'lstm_hidden': 113, 'kernel_size': 8, 'pooling_factor': 2, 'pooling': 'avg'}. Best is trial 20 with value: 1.5090755186701592.\u001b[0m\n"
          ],
          "name": "stderr"
        },
        {
          "output_type": "stream",
          "text": [
            "Finished Training\n"
          ],
          "name": "stdout"
        },
        {
          "output_type": "stream",
          "text": [
            "\u001b[32m[I 2021-06-29 00:11:53,910]\u001b[0m Trial 46 finished with value: 1.601622709098771 and parameters: {'kernels': 114, 'lstm_hidden': 55, 'kernel_size': 8, 'pooling_factor': 3, 'pooling': 'avg'}. Best is trial 20 with value: 1.5090755186701592.\u001b[0m\n"
          ],
          "name": "stderr"
        },
        {
          "output_type": "stream",
          "text": [
            "Finished Training\n"
          ],
          "name": "stdout"
        },
        {
          "output_type": "stream",
          "text": [
            "\u001b[32m[I 2021-06-29 00:12:02,635]\u001b[0m Trial 47 finished with value: 1.7279859732380982 and parameters: {'kernels': 91, 'lstm_hidden': 57, 'kernel_size': 2, 'pooling_factor': 4, 'pooling': 'avg'}. Best is trial 20 with value: 1.5090755186701592.\u001b[0m\n"
          ],
          "name": "stderr"
        },
        {
          "output_type": "stream",
          "text": [
            "Finished Training\n"
          ],
          "name": "stdout"
        },
        {
          "output_type": "stream",
          "text": [
            "\u001b[32m[I 2021-06-29 00:12:11,388]\u001b[0m Trial 48 finished with value: 1.6543670827474548 and parameters: {'kernels': 113, 'lstm_hidden': 29, 'kernel_size': 7, 'pooling_factor': 3, 'pooling': 'avg'}. Best is trial 20 with value: 1.5090755186701592.\u001b[0m\n"
          ],
          "name": "stderr"
        },
        {
          "output_type": "stream",
          "text": [
            "Finished Training\n"
          ],
          "name": "stdout"
        },
        {
          "output_type": "stream",
          "text": [
            "\u001b[32m[I 2021-06-29 00:12:20,110]\u001b[0m Trial 49 finished with value: 1.6642482004566042 and parameters: {'kernels': 61, 'lstm_hidden': 52, 'kernel_size': 8, 'pooling_factor': 5, 'pooling': 'max'}. Best is trial 20 with value: 1.5090755186701592.\u001b[0m\n"
          ],
          "name": "stderr"
        },
        {
          "output_type": "stream",
          "text": [
            "Finished Training\n"
          ],
          "name": "stdout"
        },
        {
          "output_type": "stream",
          "text": [
            "\u001b[32m[I 2021-06-29 00:12:28,815]\u001b[0m Trial 50 finished with value: 1.6637348471715916 and parameters: {'kernels': 97, 'lstm_hidden': 46, 'kernel_size': 7, 'pooling_factor': 2, 'pooling': 'avg'}. Best is trial 20 with value: 1.5090755186701592.\u001b[0m\n"
          ],
          "name": "stderr"
        },
        {
          "output_type": "stream",
          "text": [
            "Finished Training\n"
          ],
          "name": "stdout"
        },
        {
          "output_type": "stream",
          "text": [
            "\u001b[32m[I 2021-06-29 00:12:37,772]\u001b[0m Trial 51 finished with value: 1.6361781602982233 and parameters: {'kernels': 124, 'lstm_hidden': 60, 'kernel_size': 8, 'pooling_factor': 3, 'pooling': 'avg'}. Best is trial 20 with value: 1.5090755186701592.\u001b[0m\n"
          ],
          "name": "stderr"
        },
        {
          "output_type": "stream",
          "text": [
            "Finished Training\n"
          ],
          "name": "stdout"
        },
        {
          "output_type": "stream",
          "text": [
            "\u001b[32m[I 2021-06-29 00:12:46,729]\u001b[0m Trial 52 finished with value: 1.5285445649288847 and parameters: {'kernels': 116, 'lstm_hidden': 124, 'kernel_size': 8, 'pooling_factor': 3, 'pooling': 'avg'}. Best is trial 20 with value: 1.5090755186701592.\u001b[0m\n"
          ],
          "name": "stderr"
        },
        {
          "output_type": "stream",
          "text": [
            "Finished Training\n"
          ],
          "name": "stdout"
        },
        {
          "output_type": "stream",
          "text": [
            "\u001b[32m[I 2021-06-29 00:12:55,690]\u001b[0m Trial 53 finished with value: 1.6024090116298122 and parameters: {'kernels': 107, 'lstm_hidden': 128, 'kernel_size': 8, 'pooling_factor': 3, 'pooling': 'avg'}. Best is trial 20 with value: 1.5090755186701592.\u001b[0m\n"
          ],
          "name": "stderr"
        },
        {
          "output_type": "stream",
          "text": [
            "Finished Training\n"
          ],
          "name": "stdout"
        },
        {
          "output_type": "stream",
          "text": [
            "\u001b[32m[I 2021-06-29 00:13:04,527]\u001b[0m Trial 54 finished with value: 1.6196335593327547 and parameters: {'kernels': 112, 'lstm_hidden': 128, 'kernel_size': 8, 'pooling_factor': 3, 'pooling': 'avg'}. Best is trial 20 with value: 1.5090755186701592.\u001b[0m\n"
          ],
          "name": "stderr"
        },
        {
          "output_type": "stream",
          "text": [
            "Finished Training\n"
          ],
          "name": "stdout"
        },
        {
          "output_type": "stream",
          "text": [
            "\u001b[32m[I 2021-06-29 00:13:13,449]\u001b[0m Trial 55 finished with value: 1.6857616925384102 and parameters: {'kernels': 125, 'lstm_hidden': 46, 'kernel_size': 8, 'pooling_factor': 3, 'pooling': 'avg'}. Best is trial 20 with value: 1.5090755186701592.\u001b[0m\n"
          ],
          "name": "stderr"
        },
        {
          "output_type": "stream",
          "text": [
            "Finished Training\n"
          ],
          "name": "stdout"
        },
        {
          "output_type": "stream",
          "text": [
            "\u001b[32m[I 2021-06-29 00:13:22,442]\u001b[0m Trial 56 finished with value: 1.6663645841645038 and parameters: {'kernels': 42, 'lstm_hidden': 125, 'kernel_size': 7, 'pooling_factor': 3, 'pooling': 'avg'}. Best is trial 20 with value: 1.5090755186701592.\u001b[0m\n"
          ],
          "name": "stderr"
        },
        {
          "output_type": "stream",
          "text": [
            "Finished Training\n"
          ],
          "name": "stdout"
        },
        {
          "output_type": "stream",
          "text": [
            "\u001b[32m[I 2021-06-29 00:13:31,474]\u001b[0m Trial 57 finished with value: 1.7002632842714007 and parameters: {'kernels': 116, 'lstm_hidden': 56, 'kernel_size': 8, 'pooling_factor': 4, 'pooling': 'avg'}. Best is trial 20 with value: 1.5090755186701592.\u001b[0m\n"
          ],
          "name": "stderr"
        },
        {
          "output_type": "stream",
          "text": [
            "Finished Training\n"
          ],
          "name": "stdout"
        },
        {
          "output_type": "stream",
          "text": [
            "\u001b[32m[I 2021-06-29 00:13:40,541]\u001b[0m Trial 58 finished with value: 1.7267651268994406 and parameters: {'kernels': 105, 'lstm_hidden': 74, 'kernel_size': 8, 'pooling_factor': 3, 'pooling': 'avg'}. Best is trial 20 with value: 1.5090755186701592.\u001b[0m\n"
          ],
          "name": "stderr"
        },
        {
          "output_type": "stream",
          "text": [
            "Finished Training\n"
          ],
          "name": "stdout"
        },
        {
          "output_type": "stream",
          "text": [
            "Exception ignored in: <function _MultiProcessingDataLoaderIter.__del__ at 0x7f292e908170>\n",
            "Traceback (most recent call last):\n",
            "  File \"/usr/local/lib/python3.7/dist-packages/torch/utils/data/dataloader.py\", line 1328, in __del__\n",
            "    self._shutdown_workers()\n",
            "  File \"/usr/local/lib/python3.7/dist-packages/torch/utils/data/dataloader.py\", line 1320, in _shutdown_workers\n",
            "    if w.is_alive():\n",
            "  File \"/usr/lib/python3.7/multiprocessing/process.py\", line 151, in is_alive\n",
            "    assert self._parent_pid == os.getpid(), 'can only test a child process'\n",
            "AssertionError: can only test a child process\n",
            "Exception ignored in: <function _MultiProcessingDataLoaderIter.__del__ at 0x7f292e908170>\n",
            "Traceback (most recent call last):\n",
            "  File \"/usr/local/lib/python3.7/dist-packages/torch/utils/data/dataloader.py\", line 1328, in __del__\n",
            "    self._shutdown_workers()\n",
            "  File \"/usr/local/lib/python3.7/dist-packages/torch/utils/data/dataloader.py\", line 1320, in _shutdown_workers\n",
            "Exception ignored in: <function _MultiProcessingDataLoaderIter.__del__ at 0x7f292e908170>\n",
            "    if w.is_alive():\n",
            "Traceback (most recent call last):\n",
            "  File \"/usr/lib/python3.7/multiprocessing/process.py\", line 151, in is_alive\n",
            "    assert self._parent_pid == os.getpid(), 'can only test a child process'\n",
            "  File \"/usr/local/lib/python3.7/dist-packages/torch/utils/data/dataloader.py\", line 1328, in __del__\n",
            "AssertionError: can only test a child process\n",
            "    self._shutdown_workers()\n",
            "  File \"/usr/local/lib/python3.7/dist-packages/torch/utils/data/dataloader.py\", line 1320, in _shutdown_workers\n",
            "    if w.is_alive():\n",
            "  File \"/usr/lib/python3.7/multiprocessing/process.py\", line 151, in is_alive\n",
            "    assert self._parent_pid == os.getpid(), 'can only test a child process'\n",
            "AssertionError: can only test a child process\n",
            "Exception ignored in: <function _MultiProcessingDataLoaderIter.__del__ at 0x7f292e908170>\n",
            "Exception ignored in: <function _MultiProcessingDataLoaderIter.__del__ at 0x7f292e908170>\n",
            "Traceback (most recent call last):\n",
            "  File \"/usr/local/lib/python3.7/dist-packages/torch/utils/data/dataloader.py\", line 1328, in __del__\n",
            "    self._shutdown_workers()\n",
            "  File \"/usr/local/lib/python3.7/dist-packages/torch/utils/data/dataloader.py\", line 1320, in _shutdown_workers\n",
            "    if w.is_alive():\n",
            "Traceback (most recent call last):\n",
            "  File \"/usr/lib/python3.7/multiprocessing/process.py\", line 151, in is_alive\n",
            "    assert self._parent_pid == os.getpid(), 'can only test a child process'\n",
            "  File \"/usr/local/lib/python3.7/dist-packages/torch/utils/data/dataloader.py\", line 1328, in __del__\n",
            "AssertionError: can only test a child process\n",
            "    self._shutdown_workers()\n",
            "  File \"/usr/local/lib/python3.7/dist-packages/torch/utils/data/dataloader.py\", line 1320, in _shutdown_workers\n",
            "    if w.is_alive():\n",
            "  File \"/usr/lib/python3.7/multiprocessing/process.py\", line 151, in is_alive\n",
            "    assert self._parent_pid == os.getpid(), 'can only test a child process'\n",
            "AssertionError: can only test a child process\n",
            "Exception ignored in: <function _MultiProcessingDataLoaderIter.__del__ at 0x7f292e908170>\n",
            "Traceback (most recent call last):\n",
            "  File \"/usr/local/lib/python3.7/dist-packages/torch/utils/data/dataloader.py\", line 1328, in __del__\n",
            "    self._shutdown_workers()\n",
            "  File \"/usr/local/lib/python3.7/dist-packages/torch/utils/data/dataloader.py\", line 1320, in _shutdown_workers\n",
            "    if w.is_alive():\n",
            "  File \"/usr/lib/python3.7/multiprocessing/process.py\", line 151, in is_alive\n",
            "    assert self._parent_pid == os.getpid(), 'can only test a child process'\n",
            "AssertionError: can only test a child process\n",
            "Exception ignored in: <function _MultiProcessingDataLoaderIter.__del__ at 0x7f292e908170>\n",
            "Traceback (most recent call last):\n",
            "  File \"/usr/local/lib/python3.7/dist-packages/torch/utils/data/dataloader.py\", line 1328, in __del__\n",
            "    self._shutdown_workers()\n",
            "  File \"/usr/local/lib/python3.7/dist-packages/torch/utils/data/dataloader.py\", line 1320, in _shutdown_workers\n",
            "    if w.is_alive():\n",
            "  File \"/usr/lib/python3.7/multiprocessing/process.py\", line 151, in is_alive\n",
            "    assert self._parent_pid == os.getpid(), 'can only test a child process'\n",
            "AssertionError: can only test a child process\n",
            "Exception ignored in: <function _MultiProcessingDataLoaderIter.__del__ at 0x7f292e908170>\n",
            "Traceback (most recent call last):\n",
            "  File \"/usr/local/lib/python3.7/dist-packages/torch/utils/data/dataloader.py\", line 1328, in __del__\n",
            "    self._shutdown_workers()\n",
            "  File \"/usr/local/lib/python3.7/dist-packages/torch/utils/data/dataloader.py\", line 1320, in _shutdown_workers\n",
            "Exception ignored in: <function _MultiProcessingDataLoaderIter.__del__ at 0x7f292e908170>\n",
            "    if w.is_alive():\n",
            "Traceback (most recent call last):\n",
            "  File \"/usr/lib/python3.7/multiprocessing/process.py\", line 151, in is_alive\n",
            "  File \"/usr/local/lib/python3.7/dist-packages/torch/utils/data/dataloader.py\", line 1328, in __del__\n",
            "    assert self._parent_pid == os.getpid(), 'can only test a child process'\n",
            "AssertionError: can only test a child process\n",
            "    self._shutdown_workers()\n",
            "  File \"/usr/local/lib/python3.7/dist-packages/torch/utils/data/dataloader.py\", line 1320, in _shutdown_workers\n",
            "    if w.is_alive():\n",
            "  File \"/usr/lib/python3.7/multiprocessing/process.py\", line 151, in is_alive\n",
            "    assert self._parent_pid == os.getpid(), 'can only test a child process'\n",
            "AssertionError: can only test a child process\n",
            "Exception ignored in: <function _MultiProcessingDataLoaderIter.__del__ at 0x7f292e908170>\n",
            "Traceback (most recent call last):\n",
            "Exception ignored in: <function _MultiProcessingDataLoaderIter.__del__ at 0x7f292e908170>\n",
            "  File \"/usr/local/lib/python3.7/dist-packages/torch/utils/data/dataloader.py\", line 1328, in __del__\n",
            "Traceback (most recent call last):\n",
            "    self._shutdown_workers()\n",
            "    self._shutdown_workers()\n",
            "  File \"/usr/local/lib/python3.7/dist-packages/torch/utils/data/dataloader.py\", line 1328, in __del__\n",
            "  File \"/usr/local/lib/python3.7/dist-packages/torch/utils/data/dataloader.py\", line 1320, in _shutdown_workers\n",
            "    if w.is_alive():\n",
            "  File \"/usr/lib/python3.7/multiprocessing/process.py\", line 151, in is_alive\n",
            "    assert self._parent_pid == os.getpid(), 'can only test a child process'\n",
            "AssertionError: can only test a child process\n",
            "  File \"/usr/local/lib/python3.7/dist-packages/torch/utils/data/dataloader.py\", line 1320, in _shutdown_workers\n",
            "    if w.is_alive():\n",
            "  File \"/usr/lib/python3.7/multiprocessing/process.py\", line 151, in is_alive\n",
            "    assert self._parent_pid == os.getpid(), 'can only test a child process'\n",
            "AssertionError: can only test a child process\n",
            "Exception ignored in: <function _MultiProcessingDataLoaderIter.__del__ at 0x7f292e908170>\n",
            "Traceback (most recent call last):\n",
            "  File \"/usr/local/lib/python3.7/dist-packages/torch/utils/data/dataloader.py\", line 1328, in __del__\n",
            "    self._shutdown_workers()\n",
            "  File \"/usr/local/lib/python3.7/dist-packages/torch/utils/data/dataloader.py\", line 1320, in _shutdown_workers\n",
            "    if w.is_alive():\n",
            "  File \"/usr/lib/python3.7/multiprocessing/process.py\", line 151, in is_alive\n",
            "    assert self._parent_pid == os.getpid(), 'can only test a child process'\n",
            "AssertionError: can only test a child process\n",
            "Exception ignored in: <function _MultiProcessingDataLoaderIter.__del__ at 0x7f292e908170>\n",
            "Traceback (most recent call last):\n",
            "  File \"/usr/local/lib/python3.7/dist-packages/torch/utils/data/dataloader.py\", line 1328, in __del__\n",
            "    self._shutdown_workers()\n",
            "  File \"/usr/local/lib/python3.7/dist-packages/torch/utils/data/dataloader.py\", line 1320, in _shutdown_workers\n",
            "    if w.is_alive():\n",
            "  File \"/usr/lib/python3.7/multiprocessing/process.py\", line 151, in is_alive\n",
            "    assert self._parent_pid == os.getpid(), 'can only test a child process'\n",
            "AssertionError: can only test a child process\n",
            "Exception ignored in: <function _MultiProcessingDataLoaderIter.__del__ at 0x7f292e908170>\n",
            "Exception ignored in: <function _MultiProcessingDataLoaderIter.__del__ at 0x7f292e908170>\n",
            "Traceback (most recent call last):\n",
            "  File \"/usr/local/lib/python3.7/dist-packages/torch/utils/data/dataloader.py\", line 1328, in __del__\n",
            "Traceback (most recent call last):\n",
            "    self._shutdown_workers()\n",
            "  File \"/usr/local/lib/python3.7/dist-packages/torch/utils/data/dataloader.py\", line 1328, in __del__\n",
            "    self._shutdown_workers()\n",
            "  File \"/usr/local/lib/python3.7/dist-packages/torch/utils/data/dataloader.py\", line 1320, in _shutdown_workers\n",
            "    if w.is_alive():\n",
            "  File \"/usr/lib/python3.7/multiprocessing/process.py\", line 151, in is_alive\n",
            "  File \"/usr/local/lib/python3.7/dist-packages/torch/utils/data/dataloader.py\", line 1320, in _shutdown_workers\n",
            "    assert self._parent_pid == os.getpid(), 'can only test a child process'\n",
            "    if w.is_alive():\n",
            "AssertionError: can only test a child process\n",
            "  File \"/usr/lib/python3.7/multiprocessing/process.py\", line 151, in is_alive\n",
            "    assert self._parent_pid == os.getpid(), 'can only test a child process'\n",
            "AssertionError: can only test a child process\n",
            "Exception ignored in: <function _MultiProcessingDataLoaderIter.__del__ at 0x7f292e908170>\n",
            "Traceback (most recent call last):\n",
            "  File \"/usr/local/lib/python3.7/dist-packages/torch/utils/data/dataloader.py\", line 1328, in __del__\n",
            "    self._shutdown_workers()\n",
            "  File \"/usr/local/lib/python3.7/dist-packages/torch/utils/data/dataloader.py\", line 1320, in _shutdown_workers\n",
            "Exception ignored in: <function _MultiProcessingDataLoaderIter.__del__ at 0x7f292e908170>\n",
            "    if w.is_alive():\n",
            "Traceback (most recent call last):\n",
            "  File \"/usr/local/lib/python3.7/dist-packages/torch/utils/data/dataloader.py\", line 1328, in __del__\n",
            "    self._shutdown_workers()\n",
            "  File \"/usr/lib/python3.7/multiprocessing/process.py\", line 151, in is_alive\n",
            "  File \"/usr/local/lib/python3.7/dist-packages/torch/utils/data/dataloader.py\", line 1320, in _shutdown_workers\n",
            "    assert self._parent_pid == os.getpid(), 'can only test a child process'\n",
            "    if w.is_alive():\n",
            "AssertionError: can only test a child process\n",
            "  File \"/usr/lib/python3.7/multiprocessing/process.py\", line 151, in is_alive\n",
            "    assert self._parent_pid == os.getpid(), 'can only test a child process'\n",
            "AssertionError: can only test a child process\n",
            "Exception ignored in: <function _MultiProcessingDataLoaderIter.__del__ at 0x7f292e908170>\n",
            "Traceback (most recent call last):\n",
            "  File \"/usr/local/lib/python3.7/dist-packages/torch/utils/data/dataloader.py\", line 1328, in __del__\n",
            "  File \"/usr/local/lib/python3.7/dist-packages/torch/utils/data/dataloader.py\", line 1320, in _shutdown_workers\n",
            "    self._shutdown_workers()\n",
            "    if w.is_alive():\n",
            "  File \"/usr/lib/python3.7/multiprocessing/process.py\", line 151, in is_alive\n",
            "    assert self._parent_pid == os.getpid(), 'can only test a child process'\n",
            "AssertionError: can only test a child process\n",
            "Exception ignored in: <function _MultiProcessingDataLoaderIter.__del__ at 0x7f292e908170>\n",
            "Traceback (most recent call last):\n",
            "  File \"/usr/local/lib/python3.7/dist-packages/torch/utils/data/dataloader.py\", line 1328, in __del__\n",
            "    self._shutdown_workers()\n",
            "  File \"/usr/local/lib/python3.7/dist-packages/torch/utils/data/dataloader.py\", line 1320, in _shutdown_workers\n",
            "    if w.is_alive():\n",
            "  File \"/usr/lib/python3.7/multiprocessing/process.py\", line 151, in is_alive\n",
            "    assert self._parent_pid == os.getpid(), 'can only test a child process'\n",
            "AssertionError: can only test a child process\n",
            "Exception ignored in: <function _MultiProcessingDataLoaderIter.__del__ at 0x7f292e908170>\n",
            "Traceback (most recent call last):\n",
            "Exception ignored in: <function _MultiProcessingDataLoaderIter.__del__ at 0x7f292e908170>\n",
            "    self._shutdown_workers()\n",
            "  File \"/usr/local/lib/python3.7/dist-packages/torch/utils/data/dataloader.py\", line 1328, in __del__\n",
            "Traceback (most recent call last):\n",
            "  File \"/usr/local/lib/python3.7/dist-packages/torch/utils/data/dataloader.py\", line 1328, in __del__\n",
            "  File \"/usr/local/lib/python3.7/dist-packages/torch/utils/data/dataloader.py\", line 1320, in _shutdown_workers\n",
            "    if w.is_alive():\n",
            "    self._shutdown_workers()\n",
            "  File \"/usr/lib/python3.7/multiprocessing/process.py\", line 151, in is_alive\n",
            "    assert self._parent_pid == os.getpid(), 'can only test a child process'\n",
            "  File \"/usr/local/lib/python3.7/dist-packages/torch/utils/data/dataloader.py\", line 1320, in _shutdown_workers\n",
            "    if w.is_alive():\n",
            "  File \"/usr/lib/python3.7/multiprocessing/process.py\", line 151, in is_alive\n",
            "AssertionError: can only test a child process\n",
            "    assert self._parent_pid == os.getpid(), 'can only test a child process'\n",
            "AssertionError: can only test a child process\n",
            "Exception ignored in: <function _MultiProcessingDataLoaderIter.__del__ at 0x7f292e908170>\n",
            "Exception ignored in: <function _MultiProcessingDataLoaderIter.__del__ at 0x7f292e908170>\n",
            "Traceback (most recent call last):\n",
            "Traceback (most recent call last):\n",
            "  File \"/usr/local/lib/python3.7/dist-packages/torch/utils/data/dataloader.py\", line 1328, in __del__\n",
            "  File \"/usr/local/lib/python3.7/dist-packages/torch/utils/data/dataloader.py\", line 1328, in __del__\n",
            "    self._shutdown_workers()\n",
            "  File \"/usr/local/lib/python3.7/dist-packages/torch/utils/data/dataloader.py\", line 1320, in _shutdown_workers\n",
            "    if w.is_alive():\n",
            "  File \"/usr/lib/python3.7/multiprocessing/process.py\", line 151, in is_alive\n",
            "    assert self._parent_pid == os.getpid(), 'can only test a child process'\n",
            "    self._shutdown_workers()\n",
            "  File \"/usr/local/lib/python3.7/dist-packages/torch/utils/data/dataloader.py\", line 1320, in _shutdown_workers\n",
            "AssertionError: can only test a child process\n",
            "    if w.is_alive():\n",
            "  File \"/usr/lib/python3.7/multiprocessing/process.py\", line 151, in is_alive\n",
            "    assert self._parent_pid == os.getpid(), 'can only test a child process'\n",
            "AssertionError: can only test a child process\n",
            "Exception ignored in: <function _MultiProcessingDataLoaderIter.__del__ at 0x7f292e908170>\n",
            "Exception ignored in: <function _MultiProcessingDataLoaderIter.__del__ at 0x7f292e908170>\n",
            "Traceback (most recent call last):\n",
            "Traceback (most recent call last):\n",
            "  File \"/usr/local/lib/python3.7/dist-packages/torch/utils/data/dataloader.py\", line 1328, in __del__\n",
            "  File \"/usr/local/lib/python3.7/dist-packages/torch/utils/data/dataloader.py\", line 1328, in __del__\n",
            "    self._shutdown_workers()\n",
            "    self._shutdown_workers()\n",
            "  File \"/usr/local/lib/python3.7/dist-packages/torch/utils/data/dataloader.py\", line 1320, in _shutdown_workers\n",
            "  File \"/usr/local/lib/python3.7/dist-packages/torch/utils/data/dataloader.py\", line 1320, in _shutdown_workers\n",
            "    if w.is_alive():\n",
            "    if w.is_alive():\n",
            "  File \"/usr/lib/python3.7/multiprocessing/process.py\", line 151, in is_alive\n",
            "    assert self._parent_pid == os.getpid(), 'can only test a child process'\n",
            "AssertionError: can only test a child process\n",
            "  File \"/usr/lib/python3.7/multiprocessing/process.py\", line 151, in is_alive\n",
            "    assert self._parent_pid == os.getpid(), 'can only test a child process'\n",
            "AssertionError: can only test a child process\n",
            "Exception ignored in: <function _MultiProcessingDataLoaderIter.__del__ at 0x7f292e908170>\n",
            "Traceback (most recent call last):\n",
            "Exception ignored in: <function _MultiProcessingDataLoaderIter.__del__ at 0x7f292e908170>\n",
            "  File \"/usr/local/lib/python3.7/dist-packages/torch/utils/data/dataloader.py\", line 1328, in __del__\n",
            "Traceback (most recent call last):\n",
            "    self._shutdown_workers()\n",
            "  File \"/usr/local/lib/python3.7/dist-packages/torch/utils/data/dataloader.py\", line 1328, in __del__\n",
            "  File \"/usr/local/lib/python3.7/dist-packages/torch/utils/data/dataloader.py\", line 1320, in _shutdown_workers\n",
            "    if w.is_alive():\n",
            "    self._shutdown_workers()\n",
            "  File \"/usr/lib/python3.7/multiprocessing/process.py\", line 151, in is_alive\n",
            "  File \"/usr/local/lib/python3.7/dist-packages/torch/utils/data/dataloader.py\", line 1320, in _shutdown_workers\n",
            "    assert self._parent_pid == os.getpid(), 'can only test a child process'\n",
            "  File \"/usr/lib/python3.7/multiprocessing/process.py\", line 151, in is_alive\n",
            "    if w.is_alive():\n",
            "    assert self._parent_pid == os.getpid(), 'can only test a child process'\n",
            "AssertionError: can only test a child process\n",
            "AssertionError: can only test a child process\n",
            "Exception ignored in: <function _MultiProcessingDataLoaderIter.__del__ at 0x7f292e908170>\n",
            "Traceback (most recent call last):\n",
            "  File \"/usr/local/lib/python3.7/dist-packages/torch/utils/data/dataloader.py\", line 1328, in __del__\n",
            "    self._shutdown_workers()\n",
            "  File \"/usr/local/lib/python3.7/dist-packages/torch/utils/data/dataloader.py\", line 1320, in _shutdown_workers\n",
            "    if w.is_alive():\n",
            "  File \"/usr/lib/python3.7/multiprocessing/process.py\", line 151, in is_alive\n",
            "    assert self._parent_pid == os.getpid(), 'can only test a child process'\n",
            "AssertionError: can only test a child process\n",
            "Exception ignored in: <function _MultiProcessingDataLoaderIter.__del__ at 0x7f292e908170>\n",
            "Traceback (most recent call last):\n",
            "  File \"/usr/local/lib/python3.7/dist-packages/torch/utils/data/dataloader.py\", line 1328, in __del__\n",
            "    self._shutdown_workers()\n",
            "  File \"/usr/local/lib/python3.7/dist-packages/torch/utils/data/dataloader.py\", line 1320, in _shutdown_workers\n",
            "    if w.is_alive():\n",
            "  File \"/usr/lib/python3.7/multiprocessing/process.py\", line 151, in is_alive\n",
            "    assert self._parent_pid == os.getpid(), 'can only test a child process'\n",
            "AssertionError: can only test a child process\n",
            "Exception ignored in: <function _MultiProcessingDataLoaderIter.__del__ at 0x7f292e908170>\n",
            "Traceback (most recent call last):\n",
            "  File \"/usr/local/lib/python3.7/dist-packages/torch/utils/data/dataloader.py\", line 1328, in __del__\n",
            "    self._shutdown_workers()\n",
            "  File \"/usr/local/lib/python3.7/dist-packages/torch/utils/data/dataloader.py\", line 1320, in _shutdown_workers\n",
            "    if w.is_alive():\n",
            "  File \"/usr/lib/python3.7/multiprocessing/process.py\", line 151, in is_alive\n",
            "    assert self._parent_pid == os.getpid(), 'can only test a child process'\n",
            "AssertionError: can only test a child process\n",
            "Exception ignored in: <function _MultiProcessingDataLoaderIter.__del__ at 0x7f292e908170>\n",
            "Traceback (most recent call last):\n",
            "  File \"/usr/local/lib/python3.7/dist-packages/torch/utils/data/dataloader.py\", line 1328, in __del__\n",
            "    self._shutdown_workers()\n",
            "  File \"/usr/local/lib/python3.7/dist-packages/torch/utils/data/dataloader.py\", line 1320, in _shutdown_workers\n",
            "    if w.is_alive():\n",
            "  File \"/usr/lib/python3.7/multiprocessing/process.py\", line 151, in is_alive\n",
            "    assert self._parent_pid == os.getpid(), 'can only test a child process'\n",
            "AssertionError: can only test a child process\n",
            "Exception ignored in: <function _MultiProcessingDataLoaderIter.__del__ at 0x7f292e908170>\n",
            "Traceback (most recent call last):\n",
            "  File \"/usr/local/lib/python3.7/dist-packages/torch/utils/data/dataloader.py\", line 1328, in __del__\n",
            "Exception ignored in: <function _MultiProcessingDataLoaderIter.__del__ at 0x7f292e908170>\n",
            "    self._shutdown_workers()\n",
            "  File \"/usr/local/lib/python3.7/dist-packages/torch/utils/data/dataloader.py\", line 1320, in _shutdown_workers\n",
            "Traceback (most recent call last):\n",
            "  File \"/usr/local/lib/python3.7/dist-packages/torch/utils/data/dataloader.py\", line 1328, in __del__\n",
            "    if w.is_alive():\n",
            "    self._shutdown_workers()\n",
            "  File \"/usr/lib/python3.7/multiprocessing/process.py\", line 151, in is_alive\n",
            "    assert self._parent_pid == os.getpid(), 'can only test a child process'\n",
            "  File \"/usr/local/lib/python3.7/dist-packages/torch/utils/data/dataloader.py\", line 1320, in _shutdown_workers\n",
            "AssertionError: can only test a child process\n",
            "    if w.is_alive():\n",
            "  File \"/usr/lib/python3.7/multiprocessing/process.py\", line 151, in is_alive\n",
            "    assert self._parent_pid == os.getpid(), 'can only test a child process'\n",
            "AssertionError: can only test a child process\n",
            "Exception ignored in: <function _MultiProcessingDataLoaderIter.__del__ at 0x7f292e908170>\n",
            "Exception ignored in: <function _MultiProcessingDataLoaderIter.__del__ at 0x7f292e908170>\n",
            "Traceback (most recent call last):\n",
            "Traceback (most recent call last):\n",
            "  File \"/usr/local/lib/python3.7/dist-packages/torch/utils/data/dataloader.py\", line 1328, in __del__\n",
            "    self._shutdown_workers()\n",
            "  File \"/usr/local/lib/python3.7/dist-packages/torch/utils/data/dataloader.py\", line 1320, in _shutdown_workers\n",
            "    if w.is_alive():\n",
            "  File \"/usr/local/lib/python3.7/dist-packages/torch/utils/data/dataloader.py\", line 1328, in __del__\n",
            "    self._shutdown_workers()\n",
            "  File \"/usr/lib/python3.7/multiprocessing/process.py\", line 151, in is_alive\n",
            "  File \"/usr/local/lib/python3.7/dist-packages/torch/utils/data/dataloader.py\", line 1320, in _shutdown_workers\n",
            "    assert self._parent_pid == os.getpid(), 'can only test a child process'\n",
            "    if w.is_alive():\n",
            "  File \"/usr/lib/python3.7/multiprocessing/process.py\", line 151, in is_alive\n",
            "    assert self._parent_pid == os.getpid(), 'can only test a child process'\n",
            "AssertionError: can only test a child process\n",
            "AssertionError: can only test a child process\n",
            "Exception ignored in: <function _MultiProcessingDataLoaderIter.__del__ at 0x7f292e908170>\n",
            "Traceback (most recent call last):\n",
            "Exception ignored in: <function _MultiProcessingDataLoaderIter.__del__ at 0x7f292e908170>\n",
            "  File \"/usr/local/lib/python3.7/dist-packages/torch/utils/data/dataloader.py\", line 1328, in __del__\n",
            "Traceback (most recent call last):\n",
            "    self._shutdown_workers()\n",
            "  File \"/usr/local/lib/python3.7/dist-packages/torch/utils/data/dataloader.py\", line 1320, in _shutdown_workers\n",
            "    if w.is_alive():\n",
            "  File \"/usr/lib/python3.7/multiprocessing/process.py\", line 151, in is_alive\n",
            "    assert self._parent_pid == os.getpid(), 'can only test a child process'\n",
            "AssertionError: can only test a child process\n",
            "  File \"/usr/local/lib/python3.7/dist-packages/torch/utils/data/dataloader.py\", line 1328, in __del__\n",
            "    self._shutdown_workers()\n",
            "  File \"/usr/local/lib/python3.7/dist-packages/torch/utils/data/dataloader.py\", line 1320, in _shutdown_workers\n",
            "    if w.is_alive():\n",
            "  File \"/usr/lib/python3.7/multiprocessing/process.py\", line 151, in is_alive\n",
            "    assert self._parent_pid == os.getpid(), 'can only test a child process'\n",
            "AssertionError: can only test a child process\n",
            "Exception ignored in: <function _MultiProcessingDataLoaderIter.__del__ at 0x7f292e908170>\n",
            "Traceback (most recent call last):\n",
            "Exception ignored in: <function _MultiProcessingDataLoaderIter.__del__ at 0x7f292e908170>\n",
            "  File \"/usr/local/lib/python3.7/dist-packages/torch/utils/data/dataloader.py\", line 1328, in __del__\n",
            "Traceback (most recent call last):\n",
            "    self._shutdown_workers()\n",
            "  File \"/usr/local/lib/python3.7/dist-packages/torch/utils/data/dataloader.py\", line 1328, in __del__\n",
            "  File \"/usr/local/lib/python3.7/dist-packages/torch/utils/data/dataloader.py\", line 1320, in _shutdown_workers\n",
            "    if w.is_alive():\n",
            "  File \"/usr/lib/python3.7/multiprocessing/process.py\", line 151, in is_alive\n",
            "    assert self._parent_pid == os.getpid(), 'can only test a child process'\n",
            "    self._shutdown_workers()\n",
            "  File \"/usr/local/lib/python3.7/dist-packages/torch/utils/data/dataloader.py\", line 1320, in _shutdown_workers\n",
            "AssertionError: can only test a child process\n",
            "    if w.is_alive():\n",
            "  File \"/usr/lib/python3.7/multiprocessing/process.py\", line 151, in is_alive\n",
            "    assert self._parent_pid == os.getpid(), 'can only test a child process'\n",
            "AssertionError: can only test a child process\n",
            "Exception ignored in: <function _MultiProcessingDataLoaderIter.__del__ at 0x7f292e908170>\n",
            "Traceback (most recent call last):\n",
            "  File \"/usr/local/lib/python3.7/dist-packages/torch/utils/data/dataloader.py\", line 1328, in __del__\n",
            "Exception ignored in: <function _MultiProcessingDataLoaderIter.__del__ at 0x7f292e908170>\n",
            "Traceback (most recent call last):\n",
            "  File \"/usr/local/lib/python3.7/dist-packages/torch/utils/data/dataloader.py\", line 1328, in __del__\n",
            "    self._shutdown_workers()\n",
            "  File \"/usr/local/lib/python3.7/dist-packages/torch/utils/data/dataloader.py\", line 1320, in _shutdown_workers\n",
            "    if w.is_alive():\n",
            "  File \"/usr/lib/python3.7/multiprocessing/process.py\", line 151, in is_alive\n",
            "    assert self._parent_pid == os.getpid(), 'can only test a child process'\n",
            "    self._shutdown_workers()\n",
            "AssertionError: can only test a child process\n",
            "  File \"/usr/local/lib/python3.7/dist-packages/torch/utils/data/dataloader.py\", line 1320, in _shutdown_workers\n",
            "    if w.is_alive():\n",
            "  File \"/usr/lib/python3.7/multiprocessing/process.py\", line 151, in is_alive\n",
            "    assert self._parent_pid == os.getpid(), 'can only test a child process'\n",
            "AssertionError: can only test a child process\n",
            "Exception ignored in: <function _MultiProcessingDataLoaderIter.__del__ at 0x7f292e908170>\n",
            "Traceback (most recent call last):\n",
            "  File \"/usr/local/lib/python3.7/dist-packages/torch/utils/data/dataloader.py\", line 1328, in __del__\n",
            "Exception ignored in: <function _MultiProcessingDataLoaderIter.__del__ at 0x7f292e908170>\n",
            "    self._shutdown_workers()\n",
            "Traceback (most recent call last):\n",
            "  File \"/usr/local/lib/python3.7/dist-packages/torch/utils/data/dataloader.py\", line 1328, in __del__\n",
            "  File \"/usr/local/lib/python3.7/dist-packages/torch/utils/data/dataloader.py\", line 1320, in _shutdown_workers\n",
            "    self._shutdown_workers()\n",
            "  File \"/usr/local/lib/python3.7/dist-packages/torch/utils/data/dataloader.py\", line 1320, in _shutdown_workers\n",
            "    if w.is_alive():\n",
            "  File \"/usr/lib/python3.7/multiprocessing/process.py\", line 151, in is_alive\n",
            "    assert self._parent_pid == os.getpid(), 'can only test a child process'\n",
            "AssertionError: can only test a child process\n",
            "    if w.is_alive():\n",
            "  File \"/usr/lib/python3.7/multiprocessing/process.py\", line 151, in is_alive\n",
            "    assert self._parent_pid == os.getpid(), 'can only test a child process'\n",
            "AssertionError: can only test a child process\n",
            "Exception ignored in: <function _MultiProcessingDataLoaderIter.__del__ at 0x7f292e908170>\n",
            "Traceback (most recent call last):\n",
            "  File \"/usr/local/lib/python3.7/dist-packages/torch/utils/data/dataloader.py\", line 1328, in __del__\n",
            "    self._shutdown_workers()\n",
            "  File \"/usr/local/lib/python3.7/dist-packages/torch/utils/data/dataloader.py\", line 1320, in _shutdown_workers\n",
            "Exception ignored in: <function _MultiProcessingDataLoaderIter.__del__ at 0x7f292e908170>\n",
            "    if w.is_alive():\n",
            "Traceback (most recent call last):\n",
            "  File \"/usr/local/lib/python3.7/dist-packages/torch/utils/data/dataloader.py\", line 1328, in __del__\n",
            "    assert self._parent_pid == os.getpid(), 'can only test a child process'\n",
            "  File \"/usr/lib/python3.7/multiprocessing/process.py\", line 151, in is_alive\n",
            "    self._shutdown_workers()\n",
            "  File \"/usr/local/lib/python3.7/dist-packages/torch/utils/data/dataloader.py\", line 1320, in _shutdown_workers\n",
            "AssertionError: can only test a child process\n",
            "    if w.is_alive():\n",
            "  File \"/usr/lib/python3.7/multiprocessing/process.py\", line 151, in is_alive\n",
            "    assert self._parent_pid == os.getpid(), 'can only test a child process'\n",
            "AssertionError: can only test a child process\n",
            "\u001b[32m[I 2021-06-29 00:13:56,702]\u001b[0m Trial 59 finished with value: 1.7034983902524288 and parameters: {'kernels': 128, 'lstm_hidden': 41, 'kernel_size': 7, 'pooling_factor': 3, 'pooling': 'avg'}. Best is trial 20 with value: 1.5090755186701592.\u001b[0m\n"
          ],
          "name": "stderr"
        },
        {
          "output_type": "stream",
          "text": [
            "Finished Training\n"
          ],
          "name": "stdout"
        },
        {
          "output_type": "stream",
          "text": [
            "\u001b[32m[I 2021-06-29 00:14:05,904]\u001b[0m Trial 60 finished with value: 1.6664738354267967 and parameters: {'kernels': 111, 'lstm_hidden': 36, 'kernel_size': 6, 'pooling_factor': 3, 'pooling': 'avg'}. Best is trial 20 with value: 1.5090755186701592.\u001b[0m\n"
          ],
          "name": "stderr"
        },
        {
          "output_type": "stream",
          "text": [
            "Finished Training\n"
          ],
          "name": "stdout"
        },
        {
          "output_type": "stream",
          "text": [
            "\u001b[32m[I 2021-06-29 00:14:14,998]\u001b[0m Trial 61 finished with value: 1.6192143454407828 and parameters: {'kernels': 98, 'lstm_hidden': 124, 'kernel_size': 8, 'pooling_factor': 3, 'pooling': 'avg'}. Best is trial 20 with value: 1.5090755186701592.\u001b[0m\n"
          ],
          "name": "stderr"
        },
        {
          "output_type": "stream",
          "text": [
            "Finished Training\n"
          ],
          "name": "stdout"
        },
        {
          "output_type": "stream",
          "text": [
            "\u001b[32m[I 2021-06-29 00:14:24,285]\u001b[0m Trial 62 finished with value: 1.615903979680317 and parameters: {'kernels': 108, 'lstm_hidden': 115, 'kernel_size': 8, 'pooling_factor': 3, 'pooling': 'avg'}. Best is trial 20 with value: 1.5090755186701592.\u001b[0m\n"
          ],
          "name": "stderr"
        },
        {
          "output_type": "stream",
          "text": [
            "Finished Training\n"
          ],
          "name": "stdout"
        },
        {
          "output_type": "stream",
          "text": [
            "\u001b[32m[I 2021-06-29 00:14:33,709]\u001b[0m Trial 63 finished with value: 1.6365352626000549 and parameters: {'kernels': 115, 'lstm_hidden': 108, 'kernel_size': 8, 'pooling_factor': 3, 'pooling': 'avg'}. Best is trial 20 with value: 1.5090755186701592.\u001b[0m\n"
          ],
          "name": "stderr"
        },
        {
          "output_type": "stream",
          "text": [
            "Finished Training\n"
          ],
          "name": "stdout"
        },
        {
          "output_type": "stream",
          "text": [
            "\u001b[32m[I 2021-06-29 00:14:42,989]\u001b[0m Trial 64 finished with value: 1.6947743674035554 and parameters: {'kernels': 106, 'lstm_hidden': 128, 'kernel_size': 7, 'pooling_factor': 3, 'pooling': 'avg'}. Best is trial 20 with value: 1.5090755186701592.\u001b[0m\n"
          ],
          "name": "stderr"
        },
        {
          "output_type": "stream",
          "text": [
            "Finished Training\n"
          ],
          "name": "stdout"
        },
        {
          "output_type": "stream",
          "text": [
            "Exception ignored in: <function _MultiProcessingDataLoaderIter.__del__ at 0x7f292e908170>\n",
            "Traceback (most recent call last):\n",
            "  File \"/usr/local/lib/python3.7/dist-packages/torch/utils/data/dataloader.py\", line 1328, in __del__\n",
            "    self._shutdown_workers()\n",
            "  File \"/usr/local/lib/python3.7/dist-packages/torch/utils/data/dataloader.py\", line 1320, in _shutdown_workers\n",
            "    if w.is_alive():\n",
            "  File \"/usr/lib/python3.7/multiprocessing/process.py\", line 151, in is_alive\n",
            "    assert self._parent_pid == os.getpid(), 'can only test a child process'\n",
            "AssertionError: can only test a child process\n",
            "Exception ignored in: <function _MultiProcessingDataLoaderIter.__del__ at 0x7f292e908170>\n",
            "Traceback (most recent call last):\n",
            "  File \"/usr/local/lib/python3.7/dist-packages/torch/utils/data/dataloader.py\", line 1328, in __del__\n",
            "    self._shutdown_workers()\n",
            "  File \"/usr/local/lib/python3.7/dist-packages/torch/utils/data/dataloader.py\", line 1320, in _shutdown_workers\n",
            "    if w.is_alive():\n",
            "  File \"/usr/lib/python3.7/multiprocessing/process.py\", line 151, in is_alive\n",
            "    assert self._parent_pid == os.getpid(), 'can only test a child process'\n",
            "AssertionError: can only test a child process\n",
            "Exception ignored in: <function _MultiProcessingDataLoaderIter.__del__ at 0x7f292e908170>\n",
            "Exception ignored in: <function _MultiProcessingDataLoaderIter.__del__ at 0x7f292e908170>\n",
            "Traceback (most recent call last):\n",
            "Traceback (most recent call last):\n",
            "  File \"/usr/local/lib/python3.7/dist-packages/torch/utils/data/dataloader.py\", line 1328, in __del__\n",
            "    self._shutdown_workers()\n",
            "  File \"/usr/local/lib/python3.7/dist-packages/torch/utils/data/dataloader.py\", line 1328, in __del__\n",
            "    self._shutdown_workers()\n",
            "  File \"/usr/local/lib/python3.7/dist-packages/torch/utils/data/dataloader.py\", line 1320, in _shutdown_workers\n",
            "    if w.is_alive():\n",
            "  File \"/usr/lib/python3.7/multiprocessing/process.py\", line 151, in is_alive\n",
            "    assert self._parent_pid == os.getpid(), 'can only test a child process'\n",
            "AssertionError: can only test a child process\n",
            "  File \"/usr/local/lib/python3.7/dist-packages/torch/utils/data/dataloader.py\", line 1320, in _shutdown_workers\n",
            "    if w.is_alive():\n",
            "  File \"/usr/lib/python3.7/multiprocessing/process.py\", line 151, in is_alive\n",
            "    assert self._parent_pid == os.getpid(), 'can only test a child process'\n",
            "AssertionError: can only test a child process\n",
            "Exception ignored in: <function _MultiProcessingDataLoaderIter.__del__ at 0x7f292e908170>\n",
            "Traceback (most recent call last):\n",
            "  File \"/usr/local/lib/python3.7/dist-packages/torch/utils/data/dataloader.py\", line 1328, in __del__\n",
            "    self._shutdown_workers()\n",
            "  File \"/usr/local/lib/python3.7/dist-packages/torch/utils/data/dataloader.py\", line 1320, in _shutdown_workers\n",
            "    if w.is_alive():\n",
            "Exception ignored in: <function _MultiProcessingDataLoaderIter.__del__ at 0x7f292e908170>\n",
            "Traceback (most recent call last):\n",
            "  File \"/usr/lib/python3.7/multiprocessing/process.py\", line 151, in is_alive\n",
            "    assert self._parent_pid == os.getpid(), 'can only test a child process'\n",
            "AssertionError: can only test a child process\n",
            "  File \"/usr/local/lib/python3.7/dist-packages/torch/utils/data/dataloader.py\", line 1328, in __del__\n",
            "    self._shutdown_workers()\n",
            "  File \"/usr/local/lib/python3.7/dist-packages/torch/utils/data/dataloader.py\", line 1320, in _shutdown_workers\n",
            "    if w.is_alive():\n",
            "  File \"/usr/lib/python3.7/multiprocessing/process.py\", line 151, in is_alive\n",
            "    assert self._parent_pid == os.getpid(), 'can only test a child process'\n",
            "AssertionError: can only test a child process\n",
            "Exception ignored in: <function _MultiProcessingDataLoaderIter.__del__ at 0x7f292e908170>\n",
            "Traceback (most recent call last):\n",
            "  File \"/usr/local/lib/python3.7/dist-packages/torch/utils/data/dataloader.py\", line 1328, in __del__\n",
            "    self._shutdown_workers()\n",
            "Exception ignored in: <function _MultiProcessingDataLoaderIter.__del__ at 0x7f292e908170>\n",
            "  File \"/usr/local/lib/python3.7/dist-packages/torch/utils/data/dataloader.py\", line 1320, in _shutdown_workers\n",
            "Traceback (most recent call last):\n",
            "    if w.is_alive():\n",
            "  File \"/usr/lib/python3.7/multiprocessing/process.py\", line 151, in is_alive\n",
            "  File \"/usr/local/lib/python3.7/dist-packages/torch/utils/data/dataloader.py\", line 1328, in __del__\n",
            "    assert self._parent_pid == os.getpid(), 'can only test a child process'\n",
            "    self._shutdown_workers()\n",
            "AssertionError: can only test a child process\n",
            "  File \"/usr/local/lib/python3.7/dist-packages/torch/utils/data/dataloader.py\", line 1320, in _shutdown_workers\n",
            "    if w.is_alive():\n",
            "  File \"/usr/lib/python3.7/multiprocessing/process.py\", line 151, in is_alive\n",
            "    assert self._parent_pid == os.getpid(), 'can only test a child process'\n",
            "AssertionError: can only test a child process\n",
            "Exception ignored in: <function _MultiProcessingDataLoaderIter.__del__ at 0x7f292e908170>\n",
            "Traceback (most recent call last):\n",
            "  File \"/usr/local/lib/python3.7/dist-packages/torch/utils/data/dataloader.py\", line 1328, in __del__\n",
            "Exception ignored in: <function _MultiProcessingDataLoaderIter.__del__ at 0x7f292e908170>\n",
            "    self._shutdown_workers()\n",
            "  File \"/usr/local/lib/python3.7/dist-packages/torch/utils/data/dataloader.py\", line 1320, in _shutdown_workers\n",
            "    if w.is_alive():\n",
            "Traceback (most recent call last):\n",
            "  File \"/usr/local/lib/python3.7/dist-packages/torch/utils/data/dataloader.py\", line 1328, in __del__\n",
            "  File \"/usr/lib/python3.7/multiprocessing/process.py\", line 151, in is_alive\n",
            "    self._shutdown_workers()\n",
            "    assert self._parent_pid == os.getpid(), 'can only test a child process'\n",
            "  File \"/usr/local/lib/python3.7/dist-packages/torch/utils/data/dataloader.py\", line 1320, in _shutdown_workers\n",
            "AssertionError: can only test a child process\n",
            "    if w.is_alive():\n",
            "  File \"/usr/lib/python3.7/multiprocessing/process.py\", line 151, in is_alive\n",
            "    assert self._parent_pid == os.getpid(), 'can only test a child process'\n",
            "AssertionError: can only test a child process\n",
            "Exception ignored in: <function _MultiProcessingDataLoaderIter.__del__ at 0x7f292e908170>\n",
            "Traceback (most recent call last):\n",
            "Exception ignored in: <function _MultiProcessingDataLoaderIter.__del__ at 0x7f292e908170>\n",
            "  File \"/usr/local/lib/python3.7/dist-packages/torch/utils/data/dataloader.py\", line 1328, in __del__\n",
            "Traceback (most recent call last):\n",
            "    self._shutdown_workers()\n",
            "  File \"/usr/local/lib/python3.7/dist-packages/torch/utils/data/dataloader.py\", line 1328, in __del__\n",
            "  File \"/usr/local/lib/python3.7/dist-packages/torch/utils/data/dataloader.py\", line 1320, in _shutdown_workers\n",
            "    self._shutdown_workers()\n",
            "    if w.is_alive():\n",
            "  File \"/usr/lib/python3.7/multiprocessing/process.py\", line 151, in is_alive\n",
            "    assert self._parent_pid == os.getpid(), 'can only test a child process'\n",
            "AssertionError: can only test a child process\n",
            "  File \"/usr/local/lib/python3.7/dist-packages/torch/utils/data/dataloader.py\", line 1320, in _shutdown_workers\n",
            "    if w.is_alive():\n",
            "  File \"/usr/lib/python3.7/multiprocessing/process.py\", line 151, in is_alive\n",
            "    assert self._parent_pid == os.getpid(), 'can only test a child process'\n",
            "AssertionError: can only test a child process\n",
            "Exception ignored in: <function _MultiProcessingDataLoaderIter.__del__ at 0x7f292e908170>\n",
            "Traceback (most recent call last):\n",
            "Exception ignored in: <function _MultiProcessingDataLoaderIter.__del__ at 0x7f292e908170>\n",
            "  File \"/usr/local/lib/python3.7/dist-packages/torch/utils/data/dataloader.py\", line 1328, in __del__\n",
            "Traceback (most recent call last):\n",
            "  File \"/usr/local/lib/python3.7/dist-packages/torch/utils/data/dataloader.py\", line 1328, in __del__\n",
            "    self._shutdown_workers()\n",
            "  File \"/usr/local/lib/python3.7/dist-packages/torch/utils/data/dataloader.py\", line 1320, in _shutdown_workers\n",
            "    if w.is_alive():\n",
            "    self._shutdown_workers()\n",
            "  File \"/usr/local/lib/python3.7/dist-packages/torch/utils/data/dataloader.py\", line 1320, in _shutdown_workers\n",
            "  File \"/usr/lib/python3.7/multiprocessing/process.py\", line 151, in is_alive\n",
            "    assert self._parent_pid == os.getpid(), 'can only test a child process'\n",
            "AssertionError: can only test a child process\n",
            "    if w.is_alive():\n",
            "  File \"/usr/lib/python3.7/multiprocessing/process.py\", line 151, in is_alive\n",
            "    assert self._parent_pid == os.getpid(), 'can only test a child process'\n",
            "AssertionError: can only test a child process\n",
            "Exception ignored in: <function _MultiProcessingDataLoaderIter.__del__ at 0x7f292e908170>\n",
            "Traceback (most recent call last):\n",
            "  File \"/usr/local/lib/python3.7/dist-packages/torch/utils/data/dataloader.py\", line 1328, in __del__\n",
            "    self._shutdown_workers()\n",
            "  File \"/usr/local/lib/python3.7/dist-packages/torch/utils/data/dataloader.py\", line 1320, in _shutdown_workers\n",
            "    if w.is_alive():\n",
            "Exception ignored in: <function _MultiProcessingDataLoaderIter.__del__ at 0x7f292e908170>\n",
            "  File \"/usr/lib/python3.7/multiprocessing/process.py\", line 151, in is_alive\n",
            "Traceback (most recent call last):\n",
            "    assert self._parent_pid == os.getpid(), 'can only test a child process'\n",
            "AssertionError: can only test a child process\n",
            "  File \"/usr/local/lib/python3.7/dist-packages/torch/utils/data/dataloader.py\", line 1328, in __del__\n",
            "    self._shutdown_workers()\n",
            "  File \"/usr/local/lib/python3.7/dist-packages/torch/utils/data/dataloader.py\", line 1320, in _shutdown_workers\n",
            "    if w.is_alive():\n",
            "  File \"/usr/lib/python3.7/multiprocessing/process.py\", line 151, in is_alive\n",
            "    assert self._parent_pid == os.getpid(), 'can only test a child process'\n",
            "AssertionError: can only test a child process\n",
            "Exception ignored in: <function _MultiProcessingDataLoaderIter.__del__ at 0x7f292e908170>\n",
            "Traceback (most recent call last):\n",
            "  File \"/usr/local/lib/python3.7/dist-packages/torch/utils/data/dataloader.py\", line 1328, in __del__\n",
            "Exception ignored in: <function _MultiProcessingDataLoaderIter.__del__ at 0x7f292e908170>\n",
            "Traceback (most recent call last):\n",
            "    self._shutdown_workers()\n",
            "  File \"/usr/local/lib/python3.7/dist-packages/torch/utils/data/dataloader.py\", line 1320, in _shutdown_workers\n",
            "  File \"/usr/local/lib/python3.7/dist-packages/torch/utils/data/dataloader.py\", line 1328, in __del__\n",
            "    if w.is_alive():\n",
            "  File \"/usr/lib/python3.7/multiprocessing/process.py\", line 151, in is_alive\n",
            "    assert self._parent_pid == os.getpid(), 'can only test a child process'\n",
            "    self._shutdown_workers()\n",
            "AssertionError: can only test a child process\n",
            "  File \"/usr/local/lib/python3.7/dist-packages/torch/utils/data/dataloader.py\", line 1320, in _shutdown_workers\n",
            "    if w.is_alive():\n",
            "  File \"/usr/lib/python3.7/multiprocessing/process.py\", line 151, in is_alive\n",
            "    assert self._parent_pid == os.getpid(), 'can only test a child process'\n",
            "AssertionError: can only test a child process\n",
            "Exception ignored in: <function _MultiProcessingDataLoaderIter.__del__ at 0x7f292e908170>\n",
            "Traceback (most recent call last):\n",
            "  File \"/usr/local/lib/python3.7/dist-packages/torch/utils/data/dataloader.py\", line 1328, in __del__\n",
            "    self._shutdown_workers()\n",
            "Exception ignored in: <function _MultiProcessingDataLoaderIter.__del__ at 0x7f292e908170>\n",
            "Traceback (most recent call last):\n",
            "  File \"/usr/local/lib/python3.7/dist-packages/torch/utils/data/dataloader.py\", line 1320, in _shutdown_workers\n",
            "    if w.is_alive():\n",
            "  File \"/usr/lib/python3.7/multiprocessing/process.py\", line 151, in is_alive\n",
            "    assert self._parent_pid == os.getpid(), 'can only test a child process'\n",
            "AssertionError: can only test a child process\n",
            "  File \"/usr/local/lib/python3.7/dist-packages/torch/utils/data/dataloader.py\", line 1328, in __del__\n",
            "    self._shutdown_workers()\n",
            "  File \"/usr/local/lib/python3.7/dist-packages/torch/utils/data/dataloader.py\", line 1320, in _shutdown_workers\n",
            "    if w.is_alive():\n",
            "  File \"/usr/lib/python3.7/multiprocessing/process.py\", line 151, in is_alive\n",
            "    assert self._parent_pid == os.getpid(), 'can only test a child process'\n",
            "AssertionError: can only test a child process\n",
            "Exception ignored in: <function _MultiProcessingDataLoaderIter.__del__ at 0x7f292e908170>\n",
            "Traceback (most recent call last):\n",
            "  File \"/usr/local/lib/python3.7/dist-packages/torch/utils/data/dataloader.py\", line 1328, in __del__\n",
            "    self._shutdown_workers()\n",
            "  File \"/usr/local/lib/python3.7/dist-packages/torch/utils/data/dataloader.py\", line 1320, in _shutdown_workers\n",
            "    if w.is_alive():\n",
            "Exception ignored in: <function _MultiProcessingDataLoaderIter.__del__ at 0x7f292e908170>\n",
            "  File \"/usr/lib/python3.7/multiprocessing/process.py\", line 151, in is_alive\n",
            "    assert self._parent_pid == os.getpid(), 'can only test a child process'\n",
            "Traceback (most recent call last):\n",
            "AssertionError: can only test a child process\n",
            "  File \"/usr/local/lib/python3.7/dist-packages/torch/utils/data/dataloader.py\", line 1328, in __del__\n",
            "    self._shutdown_workers()\n",
            "  File \"/usr/local/lib/python3.7/dist-packages/torch/utils/data/dataloader.py\", line 1320, in _shutdown_workers\n",
            "    if w.is_alive():\n",
            "  File \"/usr/lib/python3.7/multiprocessing/process.py\", line 151, in is_alive\n",
            "    assert self._parent_pid == os.getpid(), 'can only test a child process'\n",
            "AssertionError: can only test a child process\n",
            "Exception ignored in: <function _MultiProcessingDataLoaderIter.__del__ at 0x7f292e908170>\n",
            "Traceback (most recent call last):\n",
            "  File \"/usr/local/lib/python3.7/dist-packages/torch/utils/data/dataloader.py\", line 1328, in __del__\n",
            "    self._shutdown_workers()\n",
            "  File \"/usr/local/lib/python3.7/dist-packages/torch/utils/data/dataloader.py\", line 1320, in _shutdown_workers\n",
            "    if w.is_alive():\n",
            "Exception ignored in: <function _MultiProcessingDataLoaderIter.__del__ at 0x7f292e908170>\n",
            "  File \"/usr/lib/python3.7/multiprocessing/process.py\", line 151, in is_alive\n",
            "    assert self._parent_pid == os.getpid(), 'can only test a child process'\n",
            "AssertionError: can only test a child process\n",
            "Traceback (most recent call last):\n",
            "  File \"/usr/local/lib/python3.7/dist-packages/torch/utils/data/dataloader.py\", line 1328, in __del__\n",
            "    self._shutdown_workers()\n",
            "  File \"/usr/local/lib/python3.7/dist-packages/torch/utils/data/dataloader.py\", line 1320, in _shutdown_workers\n",
            "    if w.is_alive():\n",
            "  File \"/usr/lib/python3.7/multiprocessing/process.py\", line 151, in is_alive\n",
            "    assert self._parent_pid == os.getpid(), 'can only test a child process'\n",
            "AssertionError: can only test a child process\n",
            "Exception ignored in: <function _MultiProcessingDataLoaderIter.__del__ at 0x7f292e908170>\n",
            "Traceback (most recent call last):\n",
            "  File \"/usr/local/lib/python3.7/dist-packages/torch/utils/data/dataloader.py\", line 1328, in __del__\n",
            "    self._shutdown_workers()\n",
            "  File \"/usr/local/lib/python3.7/dist-packages/torch/utils/data/dataloader.py\", line 1320, in _shutdown_workers\n",
            "    if w.is_alive():\n",
            "  File \"/usr/lib/python3.7/multiprocessing/process.py\", line 151, in is_alive\n",
            "    assert self._parent_pid == os.getpid(), 'can only test a child process'\n",
            "Exception ignored in: <function _MultiProcessingDataLoaderIter.__del__ at 0x7f292e908170>\n",
            "AssertionError: can only test a child process\n",
            "Traceback (most recent call last):\n",
            "  File \"/usr/local/lib/python3.7/dist-packages/torch/utils/data/dataloader.py\", line 1328, in __del__\n",
            "    self._shutdown_workers()\n",
            "  File \"/usr/local/lib/python3.7/dist-packages/torch/utils/data/dataloader.py\", line 1320, in _shutdown_workers\n",
            "    if w.is_alive():\n",
            "  File \"/usr/lib/python3.7/multiprocessing/process.py\", line 151, in is_alive\n",
            "    assert self._parent_pid == os.getpid(), 'can only test a child process'\n",
            "AssertionError: can only test a child process\n",
            "Exception ignored in: <function _MultiProcessingDataLoaderIter.__del__ at 0x7f292e908170>\n",
            "Traceback (most recent call last):\n",
            "  File \"/usr/local/lib/python3.7/dist-packages/torch/utils/data/dataloader.py\", line 1328, in __del__\n",
            "    self._shutdown_workers()\n",
            "  File \"/usr/local/lib/python3.7/dist-packages/torch/utils/data/dataloader.py\", line 1320, in _shutdown_workers\n",
            "    if w.is_alive():\n",
            "Exception ignored in: <function _MultiProcessingDataLoaderIter.__del__ at 0x7f292e908170>\n",
            "  File \"/usr/lib/python3.7/multiprocessing/process.py\", line 151, in is_alive\n",
            "    assert self._parent_pid == os.getpid(), 'can only test a child process'\n",
            "AssertionError: can only test a child process\n",
            "Traceback (most recent call last):\n",
            "  File \"/usr/local/lib/python3.7/dist-packages/torch/utils/data/dataloader.py\", line 1328, in __del__\n",
            "    self._shutdown_workers()\n",
            "  File \"/usr/local/lib/python3.7/dist-packages/torch/utils/data/dataloader.py\", line 1320, in _shutdown_workers\n",
            "    if w.is_alive():\n",
            "  File \"/usr/lib/python3.7/multiprocessing/process.py\", line 151, in is_alive\n",
            "    assert self._parent_pid == os.getpid(), 'can only test a child process'\n",
            "AssertionError: can only test a child process\n",
            "Exception ignored in: <function _MultiProcessingDataLoaderIter.__del__ at 0x7f292e908170>\n",
            "Traceback (most recent call last):\n",
            "  File \"/usr/local/lib/python3.7/dist-packages/torch/utils/data/dataloader.py\", line 1328, in __del__\n",
            "Exception ignored in: <function _MultiProcessingDataLoaderIter.__del__ at 0x7f292e908170>\n",
            "    self._shutdown_workers()\n",
            "  File \"/usr/local/lib/python3.7/dist-packages/torch/utils/data/dataloader.py\", line 1320, in _shutdown_workers\n",
            "Traceback (most recent call last):\n",
            "    if w.is_alive():\n",
            "  File \"/usr/local/lib/python3.7/dist-packages/torch/utils/data/dataloader.py\", line 1328, in __del__\n",
            "    self._shutdown_workers()\n",
            "  File \"/usr/lib/python3.7/multiprocessing/process.py\", line 151, in is_alive\n",
            "    assert self._parent_pid == os.getpid(), 'can only test a child process'\n",
            "  File \"/usr/local/lib/python3.7/dist-packages/torch/utils/data/dataloader.py\", line 1320, in _shutdown_workers\n",
            "AssertionError: can only test a child process\n",
            "    if w.is_alive():\n",
            "  File \"/usr/lib/python3.7/multiprocessing/process.py\", line 151, in is_alive\n",
            "    assert self._parent_pid == os.getpid(), 'can only test a child process'\n",
            "AssertionError: can only test a child process\n",
            "Exception ignored in: <function _MultiProcessingDataLoaderIter.__del__ at 0x7f292e908170>\n",
            "Traceback (most recent call last):\n",
            "  File \"/usr/local/lib/python3.7/dist-packages/torch/utils/data/dataloader.py\", line 1328, in __del__\n",
            "    self._shutdown_workers()\n",
            "  File \"/usr/local/lib/python3.7/dist-packages/torch/utils/data/dataloader.py\", line 1320, in _shutdown_workers\n",
            "    if w.is_alive():\n",
            "  File \"/usr/lib/python3.7/multiprocessing/process.py\", line 151, in is_alive\n",
            "Exception ignored in: <function _MultiProcessingDataLoaderIter.__del__ at 0x7f292e908170>\n",
            "    assert self._parent_pid == os.getpid(), 'can only test a child process'\n",
            "Traceback (most recent call last):\n",
            "AssertionError: can only test a child process\n",
            "  File \"/usr/local/lib/python3.7/dist-packages/torch/utils/data/dataloader.py\", line 1328, in __del__\n",
            "    self._shutdown_workers()\n",
            "  File \"/usr/local/lib/python3.7/dist-packages/torch/utils/data/dataloader.py\", line 1320, in _shutdown_workers\n",
            "    if w.is_alive():\n",
            "  File \"/usr/lib/python3.7/multiprocessing/process.py\", line 151, in is_alive\n",
            "    assert self._parent_pid == os.getpid(), 'can only test a child process'\n",
            "AssertionError: can only test a child process\n",
            "Exception ignored in: <function _MultiProcessingDataLoaderIter.__del__ at 0x7f292e908170>\n",
            "Traceback (most recent call last):\n",
            "  File \"/usr/local/lib/python3.7/dist-packages/torch/utils/data/dataloader.py\", line 1328, in __del__\n",
            "    self._shutdown_workers()\n",
            "Exception ignored in: <function _MultiProcessingDataLoaderIter.__del__ at 0x7f292e908170>\n",
            "  File \"/usr/local/lib/python3.7/dist-packages/torch/utils/data/dataloader.py\", line 1320, in _shutdown_workers\n",
            "Traceback (most recent call last):\n",
            "AssertionError: can only test a child process\n",
            "  File \"/usr/local/lib/python3.7/dist-packages/torch/utils/data/dataloader.py\", line 1328, in __del__\n",
            "    if w.is_alive():\n",
            "  File \"/usr/lib/python3.7/multiprocessing/process.py\", line 151, in is_alive\n",
            "    assert self._parent_pid == os.getpid(), 'can only test a child process'\n",
            "    self._shutdown_workers()\n",
            "  File \"/usr/local/lib/python3.7/dist-packages/torch/utils/data/dataloader.py\", line 1320, in _shutdown_workers\n",
            "    if w.is_alive():\n",
            "  File \"/usr/lib/python3.7/multiprocessing/process.py\", line 151, in is_alive\n",
            "    assert self._parent_pid == os.getpid(), 'can only test a child process'\n",
            "AssertionError: can only test a child process\n",
            "Exception ignored in: <function _MultiProcessingDataLoaderIter.__del__ at 0x7f292e908170>\n",
            "Traceback (most recent call last):\n",
            "  File \"/usr/local/lib/python3.7/dist-packages/torch/utils/data/dataloader.py\", line 1328, in __del__\n",
            "    self._shutdown_workers()\n",
            "  File \"/usr/local/lib/python3.7/dist-packages/torch/utils/data/dataloader.py\", line 1320, in _shutdown_workers\n",
            "    if w.is_alive():\n",
            "Exception ignored in: <function _MultiProcessingDataLoaderIter.__del__ at 0x7f292e908170>\n",
            "    self._shutdown_workers()\n",
            "Traceback (most recent call last):\n",
            "  File \"/usr/local/lib/python3.7/dist-packages/torch/utils/data/dataloader.py\", line 1328, in __del__\n",
            "  File \"/usr/local/lib/python3.7/dist-packages/torch/utils/data/dataloader.py\", line 1320, in _shutdown_workers\n",
            "    if w.is_alive():\n",
            "  File \"/usr/lib/python3.7/multiprocessing/process.py\", line 151, in is_alive\n",
            "  File \"/usr/lib/python3.7/multiprocessing/process.py\", line 151, in is_alive\n",
            "    assert self._parent_pid == os.getpid(), 'can only test a child process'\n",
            "AssertionError: can only test a child process\n",
            "    assert self._parent_pid == os.getpid(), 'can only test a child process'\n",
            "AssertionError: can only test a child process\n",
            "Exception ignored in: <function _MultiProcessingDataLoaderIter.__del__ at 0x7f292e908170>\n",
            "Traceback (most recent call last):\n",
            "Exception ignored in: <function _MultiProcessingDataLoaderIter.__del__ at 0x7f292e908170>\n",
            "Traceback (most recent call last):\n",
            "  File \"/usr/local/lib/python3.7/dist-packages/torch/utils/data/dataloader.py\", line 1328, in __del__\n",
            "    self._shutdown_workers()\n",
            "  File \"/usr/local/lib/python3.7/dist-packages/torch/utils/data/dataloader.py\", line 1320, in _shutdown_workers\n",
            "    if w.is_alive():\n",
            "  File \"/usr/local/lib/python3.7/dist-packages/torch/utils/data/dataloader.py\", line 1328, in __del__\n",
            "    self._shutdown_workers()\n",
            "  File \"/usr/lib/python3.7/multiprocessing/process.py\", line 151, in is_alive\n",
            "    assert self._parent_pid == os.getpid(), 'can only test a child process'\n",
            "  File \"/usr/local/lib/python3.7/dist-packages/torch/utils/data/dataloader.py\", line 1320, in _shutdown_workers\n",
            "    if w.is_alive():\n",
            "AssertionError: can only test a child process\n",
            "  File \"/usr/lib/python3.7/multiprocessing/process.py\", line 151, in is_alive\n",
            "    assert self._parent_pid == os.getpid(), 'can only test a child process'\n",
            "AssertionError: can only test a child process\n",
            "Exception ignored in: <function _MultiProcessingDataLoaderIter.__del__ at 0x7f292e908170>\n",
            "Traceback (most recent call last):\n",
            "  File \"/usr/local/lib/python3.7/dist-packages/torch/utils/data/dataloader.py\", line 1328, in __del__\n",
            "    self._shutdown_workers()\n",
            "  File \"/usr/local/lib/python3.7/dist-packages/torch/utils/data/dataloader.py\", line 1320, in _shutdown_workers\n",
            "Exception ignored in: <function _MultiProcessingDataLoaderIter.__del__ at 0x7f292e908170>\n",
            "    if w.is_alive():\n",
            "  File \"/usr/lib/python3.7/multiprocessing/process.py\", line 151, in is_alive\n",
            "    assert self._parent_pid == os.getpid(), 'can only test a child process'\n",
            "AssertionError: can only test a child process\n",
            "Traceback (most recent call last):\n",
            "  File \"/usr/local/lib/python3.7/dist-packages/torch/utils/data/dataloader.py\", line 1328, in __del__\n",
            "    self._shutdown_workers()\n",
            "  File \"/usr/local/lib/python3.7/dist-packages/torch/utils/data/dataloader.py\", line 1320, in _shutdown_workers\n",
            "    if w.is_alive():\n",
            "  File \"/usr/lib/python3.7/multiprocessing/process.py\", line 151, in is_alive\n",
            "    assert self._parent_pid == os.getpid(), 'can only test a child process'\n",
            "AssertionError: can only test a child process\n",
            "Exception ignored in: <function _MultiProcessingDataLoaderIter.__del__ at 0x7f292e908170>\n",
            "Exception ignored in: <function _MultiProcessingDataLoaderIter.__del__ at 0x7f292e908170>\n",
            "Traceback (most recent call last):\n",
            "Traceback (most recent call last):\n",
            "  File \"/usr/local/lib/python3.7/dist-packages/torch/utils/data/dataloader.py\", line 1328, in __del__\n",
            "  File \"/usr/local/lib/python3.7/dist-packages/torch/utils/data/dataloader.py\", line 1328, in __del__\n",
            "    self._shutdown_workers()\n",
            "    self._shutdown_workers()\n",
            "  File \"/usr/local/lib/python3.7/dist-packages/torch/utils/data/dataloader.py\", line 1320, in _shutdown_workers\n",
            "    if w.is_alive():\n",
            "  File \"/usr/local/lib/python3.7/dist-packages/torch/utils/data/dataloader.py\", line 1320, in _shutdown_workers\n",
            "  File \"/usr/lib/python3.7/multiprocessing/process.py\", line 151, in is_alive\n",
            "    if w.is_alive():\n",
            "  File \"/usr/lib/python3.7/multiprocessing/process.py\", line 151, in is_alive\n",
            "    assert self._parent_pid == os.getpid(), 'can only test a child process'\n",
            "AssertionError: can only test a child process\n",
            "    assert self._parent_pid == os.getpid(), 'can only test a child process'\n",
            "AssertionError: can only test a child process\n",
            "\u001b[32m[I 2021-06-29 00:14:59,138]\u001b[0m Trial 65 finished with value: 1.6291105772302814 and parameters: {'kernels': 119, 'lstm_hidden': 66, 'kernel_size': 8, 'pooling_factor': 2, 'pooling': 'avg'}. Best is trial 20 with value: 1.5090755186701592.\u001b[0m\n"
          ],
          "name": "stderr"
        },
        {
          "output_type": "stream",
          "text": [
            "Finished Training\n"
          ],
          "name": "stdout"
        },
        {
          "output_type": "stream",
          "text": [
            "Exception ignored in: <function _MultiProcessingDataLoaderIter.__del__ at 0x7f292e908170>\n",
            "Exception ignored in: <function _MultiProcessingDataLoaderIter.__del__ at 0x7f292e908170>\n",
            "Traceback (most recent call last):\n",
            "  File \"/usr/local/lib/python3.7/dist-packages/torch/utils/data/dataloader.py\", line 1328, in __del__\n",
            "    self._shutdown_workers()\n",
            "  File \"/usr/local/lib/python3.7/dist-packages/torch/utils/data/dataloader.py\", line 1320, in _shutdown_workers\n",
            "Traceback (most recent call last):\n",
            "    if w.is_alive():\n",
            "  File \"/usr/lib/python3.7/multiprocessing/process.py\", line 151, in is_alive\n",
            "  File \"/usr/local/lib/python3.7/dist-packages/torch/utils/data/dataloader.py\", line 1328, in __del__\n",
            "    self._shutdown_workers()\n",
            "    assert self._parent_pid == os.getpid(), 'can only test a child process'\n",
            "AssertionError: can only test a child process\n",
            "  File \"/usr/local/lib/python3.7/dist-packages/torch/utils/data/dataloader.py\", line 1320, in _shutdown_workers\n",
            "    if w.is_alive():\n",
            "  File \"/usr/lib/python3.7/multiprocessing/process.py\", line 151, in is_alive\n",
            "    assert self._parent_pid == os.getpid(), 'can only test a child process'\n",
            "AssertionError: can only test a child process\n",
            "Exception ignored in: <function _MultiProcessingDataLoaderIter.__del__ at 0x7f292e908170>\n",
            "Traceback (most recent call last):\n",
            "  File \"/usr/local/lib/python3.7/dist-packages/torch/utils/data/dataloader.py\", line 1328, in __del__\n",
            "Exception ignored in: <function _MultiProcessingDataLoaderIter.__del__ at 0x7f292e908170>\n",
            "    self._shutdown_workers()\n",
            "Traceback (most recent call last):\n",
            "  File \"/usr/local/lib/python3.7/dist-packages/torch/utils/data/dataloader.py\", line 1328, in __del__\n",
            "    self._shutdown_workers()\n",
            "  File \"/usr/local/lib/python3.7/dist-packages/torch/utils/data/dataloader.py\", line 1320, in _shutdown_workers\n",
            "  File \"/usr/local/lib/python3.7/dist-packages/torch/utils/data/dataloader.py\", line 1320, in _shutdown_workers\n",
            "    if w.is_alive():\n",
            "  File \"/usr/lib/python3.7/multiprocessing/process.py\", line 151, in is_alive\n",
            "    assert self._parent_pid == os.getpid(), 'can only test a child process'\n",
            "    if w.is_alive():\n",
            "  File \"/usr/lib/python3.7/multiprocessing/process.py\", line 151, in is_alive\n",
            "    assert self._parent_pid == os.getpid(), 'can only test a child process'\n",
            "AssertionError: can only test a child process\n",
            "AssertionError: can only test a child process\n",
            "Exception ignored in: <function _MultiProcessingDataLoaderIter.__del__ at 0x7f292e908170>\n",
            "Traceback (most recent call last):\n",
            "  File \"/usr/local/lib/python3.7/dist-packages/torch/utils/data/dataloader.py\", line 1328, in __del__\n",
            "    self._shutdown_workers()\n",
            "  File \"/usr/local/lib/python3.7/dist-packages/torch/utils/data/dataloader.py\", line 1320, in _shutdown_workers\n",
            "    if w.is_alive():\n",
            "  File \"/usr/lib/python3.7/multiprocessing/process.py\", line 151, in is_alive\n",
            "    assert self._parent_pid == os.getpid(), 'can only test a child process'\n",
            "AssertionError: can only test a child process\n",
            "Exception ignored in: <function _MultiProcessingDataLoaderIter.__del__ at 0x7f292e908170>\n",
            "Traceback (most recent call last):\n",
            "  File \"/usr/local/lib/python3.7/dist-packages/torch/utils/data/dataloader.py\", line 1328, in __del__\n",
            "    self._shutdown_workers()\n",
            "  File \"/usr/local/lib/python3.7/dist-packages/torch/utils/data/dataloader.py\", line 1320, in _shutdown_workers\n",
            "    if w.is_alive():\n",
            "  File \"/usr/lib/python3.7/multiprocessing/process.py\", line 151, in is_alive\n",
            "    assert self._parent_pid == os.getpid(), 'can only test a child process'\n",
            "AssertionError: can only test a child process\n",
            "Exception ignored in: <function _MultiProcessingDataLoaderIter.__del__ at 0x7f292e908170>\n",
            "Traceback (most recent call last):\n",
            "  File \"/usr/local/lib/python3.7/dist-packages/torch/utils/data/dataloader.py\", line 1328, in __del__\n",
            "    self._shutdown_workers()\n",
            "  File \"/usr/local/lib/python3.7/dist-packages/torch/utils/data/dataloader.py\", line 1320, in _shutdown_workers\n",
            "    if w.is_alive():\n",
            "  File \"/usr/lib/python3.7/multiprocessing/process.py\", line 151, in is_alive\n",
            "    assert self._parent_pid == os.getpid(), 'can only test a child process'\n",
            "AssertionError: can only test a child process\n",
            "Exception ignored in: <function _MultiProcessingDataLoaderIter.__del__ at 0x7f292e908170>\n",
            "Traceback (most recent call last):\n",
            "  File \"/usr/local/lib/python3.7/dist-packages/torch/utils/data/dataloader.py\", line 1328, in __del__\n",
            "    self._shutdown_workers()\n",
            "  File \"/usr/local/lib/python3.7/dist-packages/torch/utils/data/dataloader.py\", line 1320, in _shutdown_workers\n",
            "    if w.is_alive():\n",
            "  File \"/usr/lib/python3.7/multiprocessing/process.py\", line 151, in is_alive\n",
            "    assert self._parent_pid == os.getpid(), 'can only test a child process'\n",
            "AssertionError: can only test a child process\n",
            "Exception ignored in: <function _MultiProcessingDataLoaderIter.__del__ at 0x7f292e908170>\n",
            "Traceback (most recent call last):\n",
            "  File \"/usr/local/lib/python3.7/dist-packages/torch/utils/data/dataloader.py\", line 1328, in __del__\n",
            "    self._shutdown_workers()\n",
            "  File \"/usr/local/lib/python3.7/dist-packages/torch/utils/data/dataloader.py\", line 1320, in _shutdown_workers\n",
            "    if w.is_alive():\n",
            "  File \"/usr/lib/python3.7/multiprocessing/process.py\", line 151, in is_alive\n",
            "    assert self._parent_pid == os.getpid(), 'can only test a child process'\n",
            "AssertionError: can only test a child process\n",
            "Exception ignored in: <function _MultiProcessingDataLoaderIter.__del__ at 0x7f292e908170>\n",
            "Traceback (most recent call last):\n",
            "  File \"/usr/local/lib/python3.7/dist-packages/torch/utils/data/dataloader.py\", line 1328, in __del__\n",
            "    self._shutdown_workers()\n",
            "  File \"/usr/local/lib/python3.7/dist-packages/torch/utils/data/dataloader.py\", line 1320, in _shutdown_workers\n",
            "    if w.is_alive():\n",
            "  File \"/usr/lib/python3.7/multiprocessing/process.py\", line 151, in is_alive\n",
            "    assert self._parent_pid == os.getpid(), 'can only test a child process'\n",
            "AssertionError: can only test a child process\n",
            "Exception ignored in: <function _MultiProcessingDataLoaderIter.__del__ at 0x7f292e908170>\n",
            "Traceback (most recent call last):\n",
            "  File \"/usr/local/lib/python3.7/dist-packages/torch/utils/data/dataloader.py\", line 1328, in __del__\n",
            "    self._shutdown_workers()\n",
            "  File \"/usr/local/lib/python3.7/dist-packages/torch/utils/data/dataloader.py\", line 1320, in _shutdown_workers\n",
            "    if w.is_alive():\n",
            "  File \"/usr/lib/python3.7/multiprocessing/process.py\", line 151, in is_alive\n",
            "    assert self._parent_pid == os.getpid(), 'can only test a child process'\n",
            "AssertionError: can only test a child process\n",
            "Exception ignored in: <function _MultiProcessingDataLoaderIter.__del__ at 0x7f292e908170>\n",
            "Traceback (most recent call last):\n",
            "  File \"/usr/local/lib/python3.7/dist-packages/torch/utils/data/dataloader.py\", line 1328, in __del__\n",
            "    self._shutdown_workers()\n",
            "  File \"/usr/local/lib/python3.7/dist-packages/torch/utils/data/dataloader.py\", line 1320, in _shutdown_workers\n",
            "    if w.is_alive():\n",
            "  File \"/usr/lib/python3.7/multiprocessing/process.py\", line 151, in is_alive\n",
            "    assert self._parent_pid == os.getpid(), 'can only test a child process'\n",
            "AssertionError: can only test a child process\n",
            "Exception ignored in: <function _MultiProcessingDataLoaderIter.__del__ at 0x7f292e908170>\n",
            "Traceback (most recent call last):\n",
            "  File \"/usr/local/lib/python3.7/dist-packages/torch/utils/data/dataloader.py\", line 1328, in __del__\n",
            "    self._shutdown_workers()\n",
            "  File \"/usr/local/lib/python3.7/dist-packages/torch/utils/data/dataloader.py\", line 1320, in _shutdown_workers\n",
            "    if w.is_alive():\n",
            "  File \"/usr/lib/python3.7/multiprocessing/process.py\", line 151, in is_alive\n",
            "    assert self._parent_pid == os.getpid(), 'can only test a child process'\n",
            "AssertionError: can only test a child process\n",
            "Exception ignored in: <function _MultiProcessingDataLoaderIter.__del__ at 0x7f292e908170>\n",
            "Traceback (most recent call last):\n",
            "  File \"/usr/local/lib/python3.7/dist-packages/torch/utils/data/dataloader.py\", line 1328, in __del__\n",
            "    self._shutdown_workers()\n",
            "  File \"/usr/local/lib/python3.7/dist-packages/torch/utils/data/dataloader.py\", line 1320, in _shutdown_workers\n",
            "    if w.is_alive():\n",
            "  File \"/usr/lib/python3.7/multiprocessing/process.py\", line 151, in is_alive\n",
            "    assert self._parent_pid == os.getpid(), 'can only test a child process'\n",
            "AssertionError: can only test a child process\n",
            "Exception ignored in: <function _MultiProcessingDataLoaderIter.__del__ at 0x7f292e908170>\n",
            "Traceback (most recent call last):\n",
            "  File \"/usr/local/lib/python3.7/dist-packages/torch/utils/data/dataloader.py\", line 1328, in __del__\n",
            "Exception ignored in: <function _MultiProcessingDataLoaderIter.__del__ at 0x7f292e908170>\n",
            "Traceback (most recent call last):\n",
            "    self._shutdown_workers()\n",
            "  File \"/usr/local/lib/python3.7/dist-packages/torch/utils/data/dataloader.py\", line 1320, in _shutdown_workers\n",
            "    if w.is_alive():\n",
            "  File \"/usr/lib/python3.7/multiprocessing/process.py\", line 151, in is_alive\n",
            "  File \"/usr/local/lib/python3.7/dist-packages/torch/utils/data/dataloader.py\", line 1328, in __del__\n",
            "    assert self._parent_pid == os.getpid(), 'can only test a child process'\n",
            "AssertionError: can only test a child process\n",
            "    self._shutdown_workers()\n",
            "  File \"/usr/local/lib/python3.7/dist-packages/torch/utils/data/dataloader.py\", line 1320, in _shutdown_workers\n",
            "    if w.is_alive():\n",
            "  File \"/usr/lib/python3.7/multiprocessing/process.py\", line 151, in is_alive\n",
            "    assert self._parent_pid == os.getpid(), 'can only test a child process'\n",
            "AssertionError: can only test a child process\n",
            "Exception ignored in: <function _MultiProcessingDataLoaderIter.__del__ at 0x7f292e908170>\n",
            "Traceback (most recent call last):\n",
            "  File \"/usr/local/lib/python3.7/dist-packages/torch/utils/data/dataloader.py\", line 1328, in __del__\n",
            "    self._shutdown_workers()\n",
            "  File \"/usr/local/lib/python3.7/dist-packages/torch/utils/data/dataloader.py\", line 1320, in _shutdown_workers\n",
            "    if w.is_alive():\n",
            "  File \"/usr/lib/python3.7/multiprocessing/process.py\", line 151, in is_alive\n",
            "    assert self._parent_pid == os.getpid(), 'can only test a child process'\n",
            "Exception ignored in: <function _MultiProcessingDataLoaderIter.__del__ at 0x7f292e908170>\n",
            "Traceback (most recent call last):\n",
            "  File \"/usr/local/lib/python3.7/dist-packages/torch/utils/data/dataloader.py\", line 1328, in __del__\n",
            "    self._shutdown_workers()\n",
            "  File \"/usr/local/lib/python3.7/dist-packages/torch/utils/data/dataloader.py\", line 1320, in _shutdown_workers\n",
            "    if w.is_alive():\n",
            "  File \"/usr/lib/python3.7/multiprocessing/process.py\", line 151, in is_alive\n",
            "    assert self._parent_pid == os.getpid(), 'can only test a child process'\n",
            "AssertionError: can only test a child process\n",
            "AssertionError: can only test a child process\n",
            "Exception ignored in: <function _MultiProcessingDataLoaderIter.__del__ at 0x7f292e908170>\n",
            "Traceback (most recent call last):\n",
            "  File \"/usr/local/lib/python3.7/dist-packages/torch/utils/data/dataloader.py\", line 1328, in __del__\n",
            "    self._shutdown_workers()\n",
            "  File \"/usr/local/lib/python3.7/dist-packages/torch/utils/data/dataloader.py\", line 1320, in _shutdown_workers\n",
            "    if w.is_alive():\n",
            "  File \"/usr/lib/python3.7/multiprocessing/process.py\", line 151, in is_alive\n",
            "    assert self._parent_pid == os.getpid(), 'can only test a child process'\n",
            "AssertionError: can only test a child process\n",
            "Exception ignored in: <function _MultiProcessingDataLoaderIter.__del__ at 0x7f292e908170>\n",
            "Traceback (most recent call last):\n",
            "  File \"/usr/local/lib/python3.7/dist-packages/torch/utils/data/dataloader.py\", line 1328, in __del__\n",
            "    self._shutdown_workers()\n",
            "  File \"/usr/local/lib/python3.7/dist-packages/torch/utils/data/dataloader.py\", line 1320, in _shutdown_workers\n",
            "    if w.is_alive():\n",
            "  File \"/usr/lib/python3.7/multiprocessing/process.py\", line 151, in is_alive\n",
            "    assert self._parent_pid == os.getpid(), 'can only test a child process'\n",
            "AssertionError: can only test a child process\n",
            "Exception ignored in: <function _MultiProcessingDataLoaderIter.__del__ at 0x7f292e908170>\n",
            "Traceback (most recent call last):\n",
            "  File \"/usr/local/lib/python3.7/dist-packages/torch/utils/data/dataloader.py\", line 1328, in __del__\n",
            "    self._shutdown_workers()\n",
            "  File \"/usr/local/lib/python3.7/dist-packages/torch/utils/data/dataloader.py\", line 1320, in _shutdown_workers\n",
            "    if w.is_alive():\n",
            "  File \"/usr/lib/python3.7/multiprocessing/process.py\", line 151, in is_alive\n",
            "    assert self._parent_pid == os.getpid(), 'can only test a child process'\n",
            "AssertionError: can only test a child process\n",
            "Exception ignored in: <function _MultiProcessingDataLoaderIter.__del__ at 0x7f292e908170>\n",
            "Traceback (most recent call last):\n",
            "  File \"/usr/local/lib/python3.7/dist-packages/torch/utils/data/dataloader.py\", line 1328, in __del__\n",
            "    self._shutdown_workers()\n",
            "  File \"/usr/local/lib/python3.7/dist-packages/torch/utils/data/dataloader.py\", line 1320, in _shutdown_workers\n",
            "    if w.is_alive():\n",
            "  File \"/usr/lib/python3.7/multiprocessing/process.py\", line 151, in is_alive\n",
            "    assert self._parent_pid == os.getpid(), 'can only test a child process'\n",
            "AssertionError: can only test a child process\n",
            "Exception ignored in: <function _MultiProcessingDataLoaderIter.__del__ at 0x7f292e908170>\n",
            "Traceback (most recent call last):\n",
            "  File \"/usr/local/lib/python3.7/dist-packages/torch/utils/data/dataloader.py\", line 1328, in __del__\n",
            "    self._shutdown_workers()\n",
            "  File \"/usr/local/lib/python3.7/dist-packages/torch/utils/data/dataloader.py\", line 1295, in _shutdown_workers\n",
            "    if self._persistent_workers or self._workers_status[worker_id]:\n",
            "AttributeError: '_MultiProcessingDataLoaderIter' object has no attribute '_workers_status'\n",
            "\u001b[32m[I 2021-06-29 00:15:12,200]\u001b[0m Trial 66 finished with value: 1.7238433003493312 and parameters: {'kernels': 86, 'lstm_hidden': 111, 'kernel_size': 4, 'pooling_factor': 3, 'pooling': 'avg'}. Best is trial 20 with value: 1.5090755186701592.\u001b[0m\n"
          ],
          "name": "stderr"
        },
        {
          "output_type": "stream",
          "text": [
            "Finished Training\n"
          ],
          "name": "stdout"
        },
        {
          "output_type": "stream",
          "text": [
            "\u001b[32m[I 2021-06-29 00:15:21,511]\u001b[0m Trial 67 finished with value: 1.6417983200166713 and parameters: {'kernels': 103, 'lstm_hidden': 49, 'kernel_size': 8, 'pooling_factor': 4, 'pooling': 'avg'}. Best is trial 20 with value: 1.5090755186701592.\u001b[0m\n"
          ],
          "name": "stderr"
        },
        {
          "output_type": "stream",
          "text": [
            "Finished Training\n"
          ],
          "name": "stdout"
        },
        {
          "output_type": "stream",
          "text": [
            "\u001b[32m[I 2021-06-29 00:15:30,934]\u001b[0m Trial 68 finished with value: 1.6743702160863436 and parameters: {'kernels': 124, 'lstm_hidden': 106, 'kernel_size': 7, 'pooling_factor': 4, 'pooling': 'avg'}. Best is trial 20 with value: 1.5090755186701592.\u001b[0m\n"
          ],
          "name": "stderr"
        },
        {
          "output_type": "stream",
          "text": [
            "Finished Training\n"
          ],
          "name": "stdout"
        },
        {
          "output_type": "stream",
          "text": [
            "\u001b[32m[I 2021-06-29 00:15:40,536]\u001b[0m Trial 69 finished with value: 1.694674474506813 and parameters: {'kernels': 119, 'lstm_hidden': 81, 'kernel_size': 8, 'pooling_factor': 3, 'pooling': 'avg'}. Best is trial 20 with value: 1.5090755186701592.\u001b[0m\n"
          ],
          "name": "stderr"
        },
        {
          "output_type": "stream",
          "text": [
            "Finished Training\n"
          ],
          "name": "stdout"
        },
        {
          "output_type": "stream",
          "text": [
            "\u001b[32m[I 2021-06-29 00:15:49,920]\u001b[0m Trial 70 finished with value: 1.631646753867044 and parameters: {'kernels': 111, 'lstm_hidden': 65, 'kernel_size': 8, 'pooling_factor': 3, 'pooling': 'max'}. Best is trial 20 with value: 1.5090755186701592.\u001b[0m\n"
          ],
          "name": "stderr"
        },
        {
          "output_type": "stream",
          "text": [
            "Finished Training\n"
          ],
          "name": "stdout"
        },
        {
          "output_type": "stream",
          "text": [
            "\u001b[32m[I 2021-06-29 00:15:59,573]\u001b[0m Trial 71 finished with value: 1.6279784615482107 and parameters: {'kernels': 115, 'lstm_hidden': 121, 'kernel_size': 8, 'pooling_factor': 3, 'pooling': 'avg'}. Best is trial 20 with value: 1.5090755186701592.\u001b[0m\n"
          ],
          "name": "stderr"
        },
        {
          "output_type": "stream",
          "text": [
            "Finished Training\n"
          ],
          "name": "stdout"
        },
        {
          "output_type": "stream",
          "text": [
            "\u001b[32m[I 2021-06-29 00:16:09,143]\u001b[0m Trial 72 finished with value: 1.6297253859518674 and parameters: {'kernels': 119, 'lstm_hidden': 122, 'kernel_size': 8, 'pooling_factor': 3, 'pooling': 'avg'}. Best is trial 20 with value: 1.5090755186701592.\u001b[0m\n"
          ],
          "name": "stderr"
        },
        {
          "output_type": "stream",
          "text": [
            "Finished Training\n"
          ],
          "name": "stdout"
        },
        {
          "output_type": "stream",
          "text": [
            "\u001b[32m[I 2021-06-29 00:16:18,757]\u001b[0m Trial 73 finished with value: 1.6166712232629339 and parameters: {'kernels': 128, 'lstm_hidden': 118, 'kernel_size': 8, 'pooling_factor': 3, 'pooling': 'avg'}. Best is trial 20 with value: 1.5090755186701592.\u001b[0m\n"
          ],
          "name": "stderr"
        },
        {
          "output_type": "stream",
          "text": [
            "Finished Training\n"
          ],
          "name": "stdout"
        },
        {
          "output_type": "stream",
          "text": [
            "\u001b[32m[I 2021-06-29 00:16:28,364]\u001b[0m Trial 74 finished with value: 1.6237026784528459 and parameters: {'kernels': 108, 'lstm_hidden': 128, 'kernel_size': 7, 'pooling_factor': 3, 'pooling': 'avg'}. Best is trial 20 with value: 1.5090755186701592.\u001b[0m\n"
          ],
          "name": "stderr"
        },
        {
          "output_type": "stream",
          "text": [
            "Finished Training\n"
          ],
          "name": "stdout"
        },
        {
          "output_type": "stream",
          "text": [
            "\u001b[32m[I 2021-06-29 00:16:38,080]\u001b[0m Trial 75 finished with value: 1.636759377991039 and parameters: {'kernels': 125, 'lstm_hidden': 115, 'kernel_size': 8, 'pooling_factor': 3, 'pooling': 'avg'}. Best is trial 20 with value: 1.5090755186701592.\u001b[0m\n"
          ],
          "name": "stderr"
        },
        {
          "output_type": "stream",
          "text": [
            "Finished Training\n"
          ],
          "name": "stdout"
        },
        {
          "output_type": "stream",
          "text": [
            "\u001b[32m[I 2021-06-29 00:16:47,760]\u001b[0m Trial 76 finished with value: 1.6309652064667026 and parameters: {'kernels': 95, 'lstm_hidden': 98, 'kernel_size': 8, 'pooling_factor': 3, 'pooling': 'avg'}. Best is trial 20 with value: 1.5090755186701592.\u001b[0m\n"
          ],
          "name": "stderr"
        },
        {
          "output_type": "stream",
          "text": [
            "Finished Training\n"
          ],
          "name": "stdout"
        },
        {
          "output_type": "stream",
          "text": [
            "\u001b[32m[I 2021-06-29 00:16:57,517]\u001b[0m Trial 77 finished with value: 1.5865782432604127 and parameters: {'kernels': 114, 'lstm_hidden': 34, 'kernel_size': 7, 'pooling_factor': 3, 'pooling': 'avg'}. Best is trial 20 with value: 1.5090755186701592.\u001b[0m\n"
          ],
          "name": "stderr"
        },
        {
          "output_type": "stream",
          "text": [
            "Finished Training\n"
          ],
          "name": "stdout"
        },
        {
          "output_type": "stream",
          "text": [
            "\u001b[32m[I 2021-06-29 00:17:07,246]\u001b[0m Trial 78 finished with value: 1.6388397702885602 and parameters: {'kernels': 100, 'lstm_hidden': 29, 'kernel_size': 6, 'pooling_factor': 3, 'pooling': 'avg'}. Best is trial 20 with value: 1.5090755186701592.\u001b[0m\n"
          ],
          "name": "stderr"
        },
        {
          "output_type": "stream",
          "text": [
            "Finished Training\n"
          ],
          "name": "stdout"
        },
        {
          "output_type": "stream",
          "text": [
            "\u001b[32m[I 2021-06-29 00:17:17,019]\u001b[0m Trial 79 finished with value: 1.6507240825558243 and parameters: {'kernels': 113, 'lstm_hidden': 15, 'kernel_size': 7, 'pooling_factor': 3, 'pooling': 'avg'}. Best is trial 20 with value: 1.5090755186701592.\u001b[0m\n"
          ],
          "name": "stderr"
        },
        {
          "output_type": "stream",
          "text": [
            "Finished Training\n"
          ],
          "name": "stdout"
        },
        {
          "output_type": "stream",
          "text": [
            "\u001b[32m[I 2021-06-29 00:17:26,978]\u001b[0m Trial 80 finished with value: 1.6167537297702523 and parameters: {'kernels': 122, 'lstm_hidden': 34, 'kernel_size': 5, 'pooling_factor': 3, 'pooling': 'avg'}. Best is trial 20 with value: 1.5090755186701592.\u001b[0m\n"
          ],
          "name": "stderr"
        },
        {
          "output_type": "stream",
          "text": [
            "Finished Training\n"
          ],
          "name": "stdout"
        },
        {
          "output_type": "stream",
          "text": [
            "\u001b[32m[I 2021-06-29 00:17:36,733]\u001b[0m Trial 81 finished with value: 1.6644289909916965 and parameters: {'kernels': 118, 'lstm_hidden': 21, 'kernel_size': 8, 'pooling_factor': 3, 'pooling': 'avg'}. Best is trial 20 with value: 1.5090755186701592.\u001b[0m\n"
          ],
          "name": "stderr"
        },
        {
          "output_type": "stream",
          "text": [
            "Finished Training\n"
          ],
          "name": "stdout"
        },
        {
          "output_type": "stream",
          "text": [
            "\u001b[32m[I 2021-06-29 00:17:46,723]\u001b[0m Trial 82 finished with value: 1.6776751188250452 and parameters: {'kernels': 109, 'lstm_hidden': 72, 'kernel_size': 7, 'pooling_factor': 3, 'pooling': 'avg'}. Best is trial 20 with value: 1.5090755186701592.\u001b[0m\n"
          ],
          "name": "stderr"
        },
        {
          "output_type": "stream",
          "text": [
            "Finished Training\n"
          ],
          "name": "stdout"
        },
        {
          "output_type": "stream",
          "text": [
            "\u001b[32m[I 2021-06-29 00:17:56,746]\u001b[0m Trial 83 finished with value: 1.5216789025223438 and parameters: {'kernels': 114, 'lstm_hidden': 32, 'kernel_size': 8, 'pooling_factor': 3, 'pooling': 'avg'}. Best is trial 20 with value: 1.5090755186701592.\u001b[0m\n"
          ],
          "name": "stderr"
        },
        {
          "output_type": "stream",
          "text": [
            "Finished Training\n"
          ],
          "name": "stdout"
        },
        {
          "output_type": "stream",
          "text": [
            "\u001b[32m[I 2021-06-29 00:18:06,731]\u001b[0m Trial 84 finished with value: 1.597140496975567 and parameters: {'kernels': 105, 'lstm_hidden': 32, 'kernel_size': 8, 'pooling_factor': 3, 'pooling': 'avg'}. Best is trial 20 with value: 1.5090755186701592.\u001b[0m\n"
          ],
          "name": "stderr"
        },
        {
          "output_type": "stream",
          "text": [
            "Finished Training\n"
          ],
          "name": "stdout"
        },
        {
          "output_type": "stream",
          "text": [
            "\u001b[32m[I 2021-06-29 00:18:16,747]\u001b[0m Trial 85 finished with value: 1.6403266918208017 and parameters: {'kernels': 115, 'lstm_hidden': 22, 'kernel_size': 7, 'pooling_factor': 3, 'pooling': 'avg'}. Best is trial 20 with value: 1.5090755186701592.\u001b[0m\n"
          ],
          "name": "stderr"
        },
        {
          "output_type": "stream",
          "text": [
            "Finished Training\n"
          ],
          "name": "stdout"
        },
        {
          "output_type": "stream",
          "text": [
            "\u001b[32m[I 2021-06-29 00:18:26,783]\u001b[0m Trial 86 finished with value: 1.6249724774181473 and parameters: {'kernels': 104, 'lstm_hidden': 33, 'kernel_size': 8, 'pooling_factor': 3, 'pooling': 'avg'}. Best is trial 20 with value: 1.5090755186701592.\u001b[0m\n"
          ],
          "name": "stderr"
        },
        {
          "output_type": "stream",
          "text": [
            "Finished Training\n"
          ],
          "name": "stdout"
        },
        {
          "output_type": "stream",
          "text": [
            "\u001b[32m[I 2021-06-29 00:18:36,837]\u001b[0m Trial 87 finished with value: 1.6672738909792235 and parameters: {'kernels': 123, 'lstm_hidden': 26, 'kernel_size': 6, 'pooling_factor': 4, 'pooling': 'avg'}. Best is trial 20 with value: 1.5090755186701592.\u001b[0m\n"
          ],
          "name": "stderr"
        },
        {
          "output_type": "stream",
          "text": [
            "Finished Training\n"
          ],
          "name": "stdout"
        },
        {
          "output_type": "stream",
          "text": [
            "\u001b[32m[I 2021-06-29 00:18:46,810]\u001b[0m Trial 88 finished with value: 1.6435532598221483 and parameters: {'kernels': 113, 'lstm_hidden': 33, 'kernel_size': 8, 'pooling_factor': 3, 'pooling': 'avg'}. Best is trial 20 with value: 1.5090755186701592.\u001b[0m\n"
          ],
          "name": "stderr"
        },
        {
          "output_type": "stream",
          "text": [
            "Finished Training\n"
          ],
          "name": "stdout"
        },
        {
          "output_type": "stream",
          "text": [
            "\u001b[32m[I 2021-06-29 00:18:56,904]\u001b[0m Trial 89 finished with value: 1.7122132007707098 and parameters: {'kernels': 108, 'lstm_hidden': 42, 'kernel_size': 8, 'pooling_factor': 3, 'pooling': 'avg'}. Best is trial 20 with value: 1.5090755186701592.\u001b[0m\n"
          ],
          "name": "stderr"
        },
        {
          "output_type": "stream",
          "text": [
            "Finished Training\n"
          ],
          "name": "stdout"
        },
        {
          "output_type": "stream",
          "text": [
            "\u001b[32m[I 2021-06-29 00:19:07,212]\u001b[0m Trial 90 finished with value: 1.6678349665270837 and parameters: {'kernels': 111, 'lstm_hidden': 8, 'kernel_size': 7, 'pooling_factor': 4, 'pooling': 'max'}. Best is trial 20 with value: 1.5090755186701592.\u001b[0m\n"
          ],
          "name": "stderr"
        },
        {
          "output_type": "stream",
          "text": [
            "Finished Training\n"
          ],
          "name": "stdout"
        },
        {
          "output_type": "stream",
          "text": [
            "\u001b[32m[I 2021-06-29 00:19:17,228]\u001b[0m Trial 91 finished with value: 1.644166331511133 and parameters: {'kernels': 106, 'lstm_hidden': 37, 'kernel_size': 8, 'pooling_factor': 3, 'pooling': 'avg'}. Best is trial 20 with value: 1.5090755186701592.\u001b[0m\n"
          ],
          "name": "stderr"
        },
        {
          "output_type": "stream",
          "text": [
            "Finished Training\n"
          ],
          "name": "stdout"
        },
        {
          "output_type": "stream",
          "text": [
            "\u001b[32m[I 2021-06-29 00:19:27,334]\u001b[0m Trial 92 finished with value: 1.4945530433321126 and parameters: {'kernels': 90, 'lstm_hidden': 16, 'kernel_size': 8, 'pooling_factor': 3, 'pooling': 'avg'}. Best is trial 92 with value: 1.4945530433321126.\u001b[0m\n"
          ],
          "name": "stderr"
        },
        {
          "output_type": "stream",
          "text": [
            "Finished Training\n"
          ],
          "name": "stdout"
        },
        {
          "output_type": "stream",
          "text": [
            "\u001b[32m[I 2021-06-29 00:19:37,782]\u001b[0m Trial 93 finished with value: 1.6782779495538536 and parameters: {'kernels': 98, 'lstm_hidden': 14, 'kernel_size': 3, 'pooling_factor': 3, 'pooling': 'avg'}. Best is trial 92 with value: 1.4945530433321126.\u001b[0m\n"
          ],
          "name": "stderr"
        },
        {
          "output_type": "stream",
          "text": [
            "Finished Training\n"
          ],
          "name": "stdout"
        },
        {
          "output_type": "stream",
          "text": [
            "\u001b[32m[I 2021-06-29 00:19:47,979]\u001b[0m Trial 94 finished with value: 1.7653414871088826 and parameters: {'kernels': 91, 'lstm_hidden': 20, 'kernel_size': 8, 'pooling_factor': 3, 'pooling': 'avg'}. Best is trial 92 with value: 1.4945530433321126.\u001b[0m\n"
          ],
          "name": "stderr"
        },
        {
          "output_type": "stream",
          "text": [
            "Finished Training\n"
          ],
          "name": "stdout"
        },
        {
          "output_type": "stream",
          "text": [
            "\u001b[32m[I 2021-06-29 00:19:58,160]\u001b[0m Trial 95 finished with value: 1.645495699921847 and parameters: {'kernels': 82, 'lstm_hidden': 30, 'kernel_size': 8, 'pooling_factor': 3, 'pooling': 'avg'}. Best is trial 92 with value: 1.4945530433321126.\u001b[0m\n"
          ],
          "name": "stderr"
        },
        {
          "output_type": "stream",
          "text": [
            "Finished Training\n"
          ],
          "name": "stdout"
        },
        {
          "output_type": "stream",
          "text": [
            "\u001b[32m[I 2021-06-29 00:20:08,468]\u001b[0m Trial 96 finished with value: 1.6592604042195043 and parameters: {'kernels': 101, 'lstm_hidden': 48, 'kernel_size': 8, 'pooling_factor': 2, 'pooling': 'avg'}. Best is trial 92 with value: 1.4945530433321126.\u001b[0m\n"
          ],
          "name": "stderr"
        },
        {
          "output_type": "stream",
          "text": [
            "Finished Training\n"
          ],
          "name": "stdout"
        },
        {
          "output_type": "stream",
          "text": [
            "\u001b[32m[I 2021-06-29 00:20:18,783]\u001b[0m Trial 97 finished with value: 1.6370215568029847 and parameters: {'kernels': 117, 'lstm_hidden': 24, 'kernel_size': 8, 'pooling_factor': 3, 'pooling': 'avg'}. Best is trial 92 with value: 1.4945530433321126.\u001b[0m\n"
          ],
          "name": "stderr"
        },
        {
          "output_type": "stream",
          "text": [
            "Finished Training\n"
          ],
          "name": "stdout"
        },
        {
          "output_type": "stream",
          "text": [
            "\u001b[32m[I 2021-06-29 00:20:29,050]\u001b[0m Trial 98 finished with value: 1.6708445551363944 and parameters: {'kernels': 120, 'lstm_hidden': 58, 'kernel_size': 8, 'pooling_factor': 3, 'pooling': 'avg'}. Best is trial 92 with value: 1.4945530433321126.\u001b[0m\n"
          ],
          "name": "stderr"
        },
        {
          "output_type": "stream",
          "text": [
            "Finished Training\n"
          ],
          "name": "stdout"
        },
        {
          "output_type": "stream",
          "text": [
            "\u001b[32m[I 2021-06-29 00:20:39,457]\u001b[0m Trial 99 finished with value: 1.6676416380301875 and parameters: {'kernels': 115, 'lstm_hidden': 43, 'kernel_size': 7, 'pooling_factor': 3, 'pooling': 'avg'}. Best is trial 92 with value: 1.4945530433321126.\u001b[0m\n"
          ],
          "name": "stderr"
        },
        {
          "output_type": "stream",
          "text": [
            "Finished Training\n"
          ],
          "name": "stdout"
        }
      ]
    },
    {
      "cell_type": "code",
      "metadata": {
        "id": "1LuTl36HEfyX"
      },
      "source": [
        ""
      ],
      "execution_count": null,
      "outputs": []
    }
  ]
}